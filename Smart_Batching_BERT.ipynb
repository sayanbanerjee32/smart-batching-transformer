{
  "nbformat": 4,
  "nbformat_minor": 0,
  "metadata": {
    "colab": {
      "name": "Smart Batching Tutorial - IMDb Reviews.ipynb",
      "provenance": [],
      "collapsed_sections": [],
      "include_colab_link": true
    },
    "kernelspec": {
      "name": "python3",
      "display_name": "Python 3"
    },
    "accelerator": "GPU",
    "widgets": {
      "application/vnd.jupyter.widget-state+json": {
        "8c1ea17907514880b6167b86e765b91e": {
          "model_module": "@jupyter-widgets/controls",
          "model_name": "HBoxModel",
          "model_module_version": "1.5.0",
          "state": {
            "_view_name": "HBoxView",
            "_dom_classes": [],
            "_model_name": "HBoxModel",
            "_view_module": "@jupyter-widgets/controls",
            "_model_module_version": "1.5.0",
            "_view_count": null,
            "_view_module_version": "1.5.0",
            "box_style": "",
            "layout": "IPY_MODEL_826d2074e04747c2aa7be348ec0f90eb",
            "_model_module": "@jupyter-widgets/controls",
            "children": [
              "IPY_MODEL_84308af7d4644e38b3d6a5de85fbee5b",
              "IPY_MODEL_596f0047f6e6404b87e5031b5381a39e",
              "IPY_MODEL_1cd20295db324b01b8f85838127b6408"
            ]
          }
        },
        "826d2074e04747c2aa7be348ec0f90eb": {
          "model_module": "@jupyter-widgets/base",
          "model_name": "LayoutModel",
          "model_module_version": "1.2.0",
          "state": {
            "_view_name": "LayoutView",
            "grid_template_rows": null,
            "right": null,
            "justify_content": null,
            "_view_module": "@jupyter-widgets/base",
            "overflow": null,
            "_model_module_version": "1.2.0",
            "_view_count": null,
            "flex_flow": null,
            "width": null,
            "min_width": null,
            "border": null,
            "align_items": null,
            "bottom": null,
            "_model_module": "@jupyter-widgets/base",
            "top": null,
            "grid_column": null,
            "overflow_y": null,
            "overflow_x": null,
            "grid_auto_flow": null,
            "grid_area": null,
            "grid_template_columns": null,
            "flex": null,
            "_model_name": "LayoutModel",
            "justify_items": null,
            "grid_row": null,
            "max_height": null,
            "align_content": null,
            "visibility": null,
            "align_self": null,
            "height": null,
            "min_height": null,
            "padding": null,
            "grid_auto_rows": null,
            "grid_gap": null,
            "max_width": null,
            "order": null,
            "_view_module_version": "1.2.0",
            "grid_template_areas": null,
            "object_position": null,
            "object_fit": null,
            "grid_auto_columns": null,
            "margin": null,
            "display": null,
            "left": null
          }
        },
        "84308af7d4644e38b3d6a5de85fbee5b": {
          "model_module": "@jupyter-widgets/controls",
          "model_name": "HTMLModel",
          "model_module_version": "1.5.0",
          "state": {
            "_view_name": "HTMLView",
            "style": "IPY_MODEL_c82e7247c92e4a7d96ad023f089d9959",
            "_dom_classes": [],
            "description": "",
            "_model_name": "HTMLModel",
            "placeholder": "​",
            "_view_module": "@jupyter-widgets/controls",
            "_model_module_version": "1.5.0",
            "value": "Downloading: 100%",
            "_view_count": null,
            "_view_module_version": "1.5.0",
            "description_tooltip": null,
            "_model_module": "@jupyter-widgets/controls",
            "layout": "IPY_MODEL_54734c5d6a11423cb312e163f7a1675c"
          }
        },
        "596f0047f6e6404b87e5031b5381a39e": {
          "model_module": "@jupyter-widgets/controls",
          "model_name": "FloatProgressModel",
          "model_module_version": "1.5.0",
          "state": {
            "_view_name": "ProgressView",
            "style": "IPY_MODEL_6384814a05154183ad821e53862fca76",
            "_dom_classes": [],
            "description": "",
            "_model_name": "FloatProgressModel",
            "bar_style": "success",
            "max": 440473133,
            "_view_module": "@jupyter-widgets/controls",
            "_model_module_version": "1.5.0",
            "value": 440473133,
            "_view_count": null,
            "_view_module_version": "1.5.0",
            "orientation": "horizontal",
            "min": 0,
            "description_tooltip": null,
            "_model_module": "@jupyter-widgets/controls",
            "layout": "IPY_MODEL_4d3f03c7aae84deaa065a4379ae248fb"
          }
        },
        "1cd20295db324b01b8f85838127b6408": {
          "model_module": "@jupyter-widgets/controls",
          "model_name": "HTMLModel",
          "model_module_version": "1.5.0",
          "state": {
            "_view_name": "HTMLView",
            "style": "IPY_MODEL_3cf4417cb888416da9c95fd0f6d3c44c",
            "_dom_classes": [],
            "description": "",
            "_model_name": "HTMLModel",
            "placeholder": "​",
            "_view_module": "@jupyter-widgets/controls",
            "_model_module_version": "1.5.0",
            "value": " 420M/420M [00:07&lt;00:00, 58.2MB/s]",
            "_view_count": null,
            "_view_module_version": "1.5.0",
            "description_tooltip": null,
            "_model_module": "@jupyter-widgets/controls",
            "layout": "IPY_MODEL_7068d1c9422c4f568cf722ade092bb1c"
          }
        },
        "c82e7247c92e4a7d96ad023f089d9959": {
          "model_module": "@jupyter-widgets/controls",
          "model_name": "DescriptionStyleModel",
          "model_module_version": "1.5.0",
          "state": {
            "_view_name": "StyleView",
            "_model_name": "DescriptionStyleModel",
            "description_width": "",
            "_view_module": "@jupyter-widgets/base",
            "_model_module_version": "1.5.0",
            "_view_count": null,
            "_view_module_version": "1.2.0",
            "_model_module": "@jupyter-widgets/controls"
          }
        },
        "54734c5d6a11423cb312e163f7a1675c": {
          "model_module": "@jupyter-widgets/base",
          "model_name": "LayoutModel",
          "model_module_version": "1.2.0",
          "state": {
            "_view_name": "LayoutView",
            "grid_template_rows": null,
            "right": null,
            "justify_content": null,
            "_view_module": "@jupyter-widgets/base",
            "overflow": null,
            "_model_module_version": "1.2.0",
            "_view_count": null,
            "flex_flow": null,
            "width": null,
            "min_width": null,
            "border": null,
            "align_items": null,
            "bottom": null,
            "_model_module": "@jupyter-widgets/base",
            "top": null,
            "grid_column": null,
            "overflow_y": null,
            "overflow_x": null,
            "grid_auto_flow": null,
            "grid_area": null,
            "grid_template_columns": null,
            "flex": null,
            "_model_name": "LayoutModel",
            "justify_items": null,
            "grid_row": null,
            "max_height": null,
            "align_content": null,
            "visibility": null,
            "align_self": null,
            "height": null,
            "min_height": null,
            "padding": null,
            "grid_auto_rows": null,
            "grid_gap": null,
            "max_width": null,
            "order": null,
            "_view_module_version": "1.2.0",
            "grid_template_areas": null,
            "object_position": null,
            "object_fit": null,
            "grid_auto_columns": null,
            "margin": null,
            "display": null,
            "left": null
          }
        },
        "6384814a05154183ad821e53862fca76": {
          "model_module": "@jupyter-widgets/controls",
          "model_name": "ProgressStyleModel",
          "model_module_version": "1.5.0",
          "state": {
            "_view_name": "StyleView",
            "_model_name": "ProgressStyleModel",
            "description_width": "",
            "_view_module": "@jupyter-widgets/base",
            "_model_module_version": "1.5.0",
            "_view_count": null,
            "_view_module_version": "1.2.0",
            "bar_color": null,
            "_model_module": "@jupyter-widgets/controls"
          }
        },
        "4d3f03c7aae84deaa065a4379ae248fb": {
          "model_module": "@jupyter-widgets/base",
          "model_name": "LayoutModel",
          "model_module_version": "1.2.0",
          "state": {
            "_view_name": "LayoutView",
            "grid_template_rows": null,
            "right": null,
            "justify_content": null,
            "_view_module": "@jupyter-widgets/base",
            "overflow": null,
            "_model_module_version": "1.2.0",
            "_view_count": null,
            "flex_flow": null,
            "width": null,
            "min_width": null,
            "border": null,
            "align_items": null,
            "bottom": null,
            "_model_module": "@jupyter-widgets/base",
            "top": null,
            "grid_column": null,
            "overflow_y": null,
            "overflow_x": null,
            "grid_auto_flow": null,
            "grid_area": null,
            "grid_template_columns": null,
            "flex": null,
            "_model_name": "LayoutModel",
            "justify_items": null,
            "grid_row": null,
            "max_height": null,
            "align_content": null,
            "visibility": null,
            "align_self": null,
            "height": null,
            "min_height": null,
            "padding": null,
            "grid_auto_rows": null,
            "grid_gap": null,
            "max_width": null,
            "order": null,
            "_view_module_version": "1.2.0",
            "grid_template_areas": null,
            "object_position": null,
            "object_fit": null,
            "grid_auto_columns": null,
            "margin": null,
            "display": null,
            "left": null
          }
        },
        "3cf4417cb888416da9c95fd0f6d3c44c": {
          "model_module": "@jupyter-widgets/controls",
          "model_name": "DescriptionStyleModel",
          "model_module_version": "1.5.0",
          "state": {
            "_view_name": "StyleView",
            "_model_name": "DescriptionStyleModel",
            "description_width": "",
            "_view_module": "@jupyter-widgets/base",
            "_model_module_version": "1.5.0",
            "_view_count": null,
            "_view_module_version": "1.2.0",
            "_model_module": "@jupyter-widgets/controls"
          }
        },
        "7068d1c9422c4f568cf722ade092bb1c": {
          "model_module": "@jupyter-widgets/base",
          "model_name": "LayoutModel",
          "model_module_version": "1.2.0",
          "state": {
            "_view_name": "LayoutView",
            "grid_template_rows": null,
            "right": null,
            "justify_content": null,
            "_view_module": "@jupyter-widgets/base",
            "overflow": null,
            "_model_module_version": "1.2.0",
            "_view_count": null,
            "flex_flow": null,
            "width": null,
            "min_width": null,
            "border": null,
            "align_items": null,
            "bottom": null,
            "_model_module": "@jupyter-widgets/base",
            "top": null,
            "grid_column": null,
            "overflow_y": null,
            "overflow_x": null,
            "grid_auto_flow": null,
            "grid_area": null,
            "grid_template_columns": null,
            "flex": null,
            "_model_name": "LayoutModel",
            "justify_items": null,
            "grid_row": null,
            "max_height": null,
            "align_content": null,
            "visibility": null,
            "align_self": null,
            "height": null,
            "min_height": null,
            "padding": null,
            "grid_auto_rows": null,
            "grid_gap": null,
            "max_width": null,
            "order": null,
            "_view_module_version": "1.2.0",
            "grid_template_areas": null,
            "object_position": null,
            "object_fit": null,
            "grid_auto_columns": null,
            "margin": null,
            "display": null,
            "left": null
          }
        },
        "e3f516f06c724439947c7f8b24306aca": {
          "model_module": "@jupyter-widgets/controls",
          "model_name": "HBoxModel",
          "model_module_version": "1.5.0",
          "state": {
            "_view_name": "HBoxView",
            "_dom_classes": [],
            "_model_name": "HBoxModel",
            "_view_module": "@jupyter-widgets/controls",
            "_model_module_version": "1.5.0",
            "_view_count": null,
            "_view_module_version": "1.5.0",
            "box_style": "",
            "layout": "IPY_MODEL_c9cbc947d4f245469e1e3ef29aadb267",
            "_model_module": "@jupyter-widgets/controls",
            "children": [
              "IPY_MODEL_f36fc02c91d34fbfa25a2f21ab9d0239",
              "IPY_MODEL_b994e02af5574b4b98d0acff68041488",
              "IPY_MODEL_d59cef6ff3414731a208907c71c12ee1"
            ]
          }
        },
        "c9cbc947d4f245469e1e3ef29aadb267": {
          "model_module": "@jupyter-widgets/base",
          "model_name": "LayoutModel",
          "model_module_version": "1.2.0",
          "state": {
            "_view_name": "LayoutView",
            "grid_template_rows": null,
            "right": null,
            "justify_content": null,
            "_view_module": "@jupyter-widgets/base",
            "overflow": null,
            "_model_module_version": "1.2.0",
            "_view_count": null,
            "flex_flow": null,
            "width": null,
            "min_width": null,
            "border": null,
            "align_items": null,
            "bottom": null,
            "_model_module": "@jupyter-widgets/base",
            "top": null,
            "grid_column": null,
            "overflow_y": null,
            "overflow_x": null,
            "grid_auto_flow": null,
            "grid_area": null,
            "grid_template_columns": null,
            "flex": null,
            "_model_name": "LayoutModel",
            "justify_items": null,
            "grid_row": null,
            "max_height": null,
            "align_content": null,
            "visibility": null,
            "align_self": null,
            "height": null,
            "min_height": null,
            "padding": null,
            "grid_auto_rows": null,
            "grid_gap": null,
            "max_width": null,
            "order": null,
            "_view_module_version": "1.2.0",
            "grid_template_areas": null,
            "object_position": null,
            "object_fit": null,
            "grid_auto_columns": null,
            "margin": null,
            "display": null,
            "left": null
          }
        },
        "f36fc02c91d34fbfa25a2f21ab9d0239": {
          "model_module": "@jupyter-widgets/controls",
          "model_name": "HTMLModel",
          "model_module_version": "1.5.0",
          "state": {
            "_view_name": "HTMLView",
            "style": "IPY_MODEL_fb101d224ec14deb85007e37b9057f58",
            "_dom_classes": [],
            "description": "",
            "_model_name": "HTMLModel",
            "placeholder": "​",
            "_view_module": "@jupyter-widgets/controls",
            "_model_module_version": "1.5.0",
            "value": "Dl Completed...: 100%",
            "_view_count": null,
            "_view_module_version": "1.5.0",
            "description_tooltip": null,
            "_model_module": "@jupyter-widgets/controls",
            "layout": "IPY_MODEL_4bb0cbefc4c9496dababf36dc97cd50a"
          }
        },
        "b994e02af5574b4b98d0acff68041488": {
          "model_module": "@jupyter-widgets/controls",
          "model_name": "FloatProgressModel",
          "model_module_version": "1.5.0",
          "state": {
            "_view_name": "ProgressView",
            "style": "IPY_MODEL_5f682d33f29e4c759e2f37a5cdabae8b",
            "_dom_classes": [],
            "description": "",
            "_model_name": "FloatProgressModel",
            "bar_style": "success",
            "max": 1,
            "_view_module": "@jupyter-widgets/controls",
            "_model_module_version": "1.5.0",
            "value": 1,
            "_view_count": null,
            "_view_module_version": "1.5.0",
            "orientation": "horizontal",
            "min": 0,
            "description_tooltip": null,
            "_model_module": "@jupyter-widgets/controls",
            "layout": "IPY_MODEL_8c259ad97d514cb1b4e924536ffde4a0"
          }
        },
        "d59cef6ff3414731a208907c71c12ee1": {
          "model_module": "@jupyter-widgets/controls",
          "model_name": "HTMLModel",
          "model_module_version": "1.5.0",
          "state": {
            "_view_name": "HTMLView",
            "style": "IPY_MODEL_f3f0fede53a24494a920772304894fa3",
            "_dom_classes": [],
            "description": "",
            "_model_name": "HTMLModel",
            "placeholder": "​",
            "_view_module": "@jupyter-widgets/controls",
            "_model_module_version": "1.5.0",
            "value": " 1/1 [00:09&lt;00:00,  9.02s/ url]",
            "_view_count": null,
            "_view_module_version": "1.5.0",
            "description_tooltip": null,
            "_model_module": "@jupyter-widgets/controls",
            "layout": "IPY_MODEL_57355f93675845aaacca062c5d299771"
          }
        },
        "fb101d224ec14deb85007e37b9057f58": {
          "model_module": "@jupyter-widgets/controls",
          "model_name": "DescriptionStyleModel",
          "model_module_version": "1.5.0",
          "state": {
            "_view_name": "StyleView",
            "_model_name": "DescriptionStyleModel",
            "description_width": "",
            "_view_module": "@jupyter-widgets/base",
            "_model_module_version": "1.5.0",
            "_view_count": null,
            "_view_module_version": "1.2.0",
            "_model_module": "@jupyter-widgets/controls"
          }
        },
        "4bb0cbefc4c9496dababf36dc97cd50a": {
          "model_module": "@jupyter-widgets/base",
          "model_name": "LayoutModel",
          "model_module_version": "1.2.0",
          "state": {
            "_view_name": "LayoutView",
            "grid_template_rows": null,
            "right": null,
            "justify_content": null,
            "_view_module": "@jupyter-widgets/base",
            "overflow": null,
            "_model_module_version": "1.2.0",
            "_view_count": null,
            "flex_flow": null,
            "width": null,
            "min_width": null,
            "border": null,
            "align_items": null,
            "bottom": null,
            "_model_module": "@jupyter-widgets/base",
            "top": null,
            "grid_column": null,
            "overflow_y": null,
            "overflow_x": null,
            "grid_auto_flow": null,
            "grid_area": null,
            "grid_template_columns": null,
            "flex": null,
            "_model_name": "LayoutModel",
            "justify_items": null,
            "grid_row": null,
            "max_height": null,
            "align_content": null,
            "visibility": null,
            "align_self": null,
            "height": null,
            "min_height": null,
            "padding": null,
            "grid_auto_rows": null,
            "grid_gap": null,
            "max_width": null,
            "order": null,
            "_view_module_version": "1.2.0",
            "grid_template_areas": null,
            "object_position": null,
            "object_fit": null,
            "grid_auto_columns": null,
            "margin": null,
            "display": null,
            "left": null
          }
        },
        "5f682d33f29e4c759e2f37a5cdabae8b": {
          "model_module": "@jupyter-widgets/controls",
          "model_name": "ProgressStyleModel",
          "model_module_version": "1.5.0",
          "state": {
            "_view_name": "StyleView",
            "_model_name": "ProgressStyleModel",
            "description_width": "",
            "_view_module": "@jupyter-widgets/base",
            "_model_module_version": "1.5.0",
            "_view_count": null,
            "_view_module_version": "1.2.0",
            "bar_color": null,
            "_model_module": "@jupyter-widgets/controls"
          }
        },
        "8c259ad97d514cb1b4e924536ffde4a0": {
          "model_module": "@jupyter-widgets/base",
          "model_name": "LayoutModel",
          "model_module_version": "1.2.0",
          "state": {
            "_view_name": "LayoutView",
            "grid_template_rows": null,
            "right": null,
            "justify_content": null,
            "_view_module": "@jupyter-widgets/base",
            "overflow": null,
            "_model_module_version": "1.2.0",
            "_view_count": null,
            "flex_flow": null,
            "width": "20px",
            "min_width": null,
            "border": null,
            "align_items": null,
            "bottom": null,
            "_model_module": "@jupyter-widgets/base",
            "top": null,
            "grid_column": null,
            "overflow_y": null,
            "overflow_x": null,
            "grid_auto_flow": null,
            "grid_area": null,
            "grid_template_columns": null,
            "flex": null,
            "_model_name": "LayoutModel",
            "justify_items": null,
            "grid_row": null,
            "max_height": null,
            "align_content": null,
            "visibility": null,
            "align_self": null,
            "height": null,
            "min_height": null,
            "padding": null,
            "grid_auto_rows": null,
            "grid_gap": null,
            "max_width": null,
            "order": null,
            "_view_module_version": "1.2.0",
            "grid_template_areas": null,
            "object_position": null,
            "object_fit": null,
            "grid_auto_columns": null,
            "margin": null,
            "display": null,
            "left": null
          }
        },
        "f3f0fede53a24494a920772304894fa3": {
          "model_module": "@jupyter-widgets/controls",
          "model_name": "DescriptionStyleModel",
          "model_module_version": "1.5.0",
          "state": {
            "_view_name": "StyleView",
            "_model_name": "DescriptionStyleModel",
            "description_width": "",
            "_view_module": "@jupyter-widgets/base",
            "_model_module_version": "1.5.0",
            "_view_count": null,
            "_view_module_version": "1.2.0",
            "_model_module": "@jupyter-widgets/controls"
          }
        },
        "57355f93675845aaacca062c5d299771": {
          "model_module": "@jupyter-widgets/base",
          "model_name": "LayoutModel",
          "model_module_version": "1.2.0",
          "state": {
            "_view_name": "LayoutView",
            "grid_template_rows": null,
            "right": null,
            "justify_content": null,
            "_view_module": "@jupyter-widgets/base",
            "overflow": null,
            "_model_module_version": "1.2.0",
            "_view_count": null,
            "flex_flow": null,
            "width": null,
            "min_width": null,
            "border": null,
            "align_items": null,
            "bottom": null,
            "_model_module": "@jupyter-widgets/base",
            "top": null,
            "grid_column": null,
            "overflow_y": null,
            "overflow_x": null,
            "grid_auto_flow": null,
            "grid_area": null,
            "grid_template_columns": null,
            "flex": null,
            "_model_name": "LayoutModel",
            "justify_items": null,
            "grid_row": null,
            "max_height": null,
            "align_content": null,
            "visibility": null,
            "align_self": null,
            "height": null,
            "min_height": null,
            "padding": null,
            "grid_auto_rows": null,
            "grid_gap": null,
            "max_width": null,
            "order": null,
            "_view_module_version": "1.2.0",
            "grid_template_areas": null,
            "object_position": null,
            "object_fit": null,
            "grid_auto_columns": null,
            "margin": null,
            "display": null,
            "left": null
          }
        },
        "9018f4907e234574ba7fae15018ee70f": {
          "model_module": "@jupyter-widgets/controls",
          "model_name": "HBoxModel",
          "model_module_version": "1.5.0",
          "state": {
            "_view_name": "HBoxView",
            "_dom_classes": [],
            "_model_name": "HBoxModel",
            "_view_module": "@jupyter-widgets/controls",
            "_model_module_version": "1.5.0",
            "_view_count": null,
            "_view_module_version": "1.5.0",
            "box_style": "",
            "layout": "IPY_MODEL_440791b80f4645769e7e0e16c8db178e",
            "_model_module": "@jupyter-widgets/controls",
            "children": [
              "IPY_MODEL_37a43f1accb146e18279e6288d00a65c",
              "IPY_MODEL_598c622baa5f442393443ea846cb2a77",
              "IPY_MODEL_627dd9b6764948278bf967b6ab35aeb7"
            ]
          }
        },
        "440791b80f4645769e7e0e16c8db178e": {
          "model_module": "@jupyter-widgets/base",
          "model_name": "LayoutModel",
          "model_module_version": "1.2.0",
          "state": {
            "_view_name": "LayoutView",
            "grid_template_rows": null,
            "right": null,
            "justify_content": null,
            "_view_module": "@jupyter-widgets/base",
            "overflow": null,
            "_model_module_version": "1.2.0",
            "_view_count": null,
            "flex_flow": null,
            "width": null,
            "min_width": null,
            "border": null,
            "align_items": null,
            "bottom": null,
            "_model_module": "@jupyter-widgets/base",
            "top": null,
            "grid_column": null,
            "overflow_y": null,
            "overflow_x": null,
            "grid_auto_flow": null,
            "grid_area": null,
            "grid_template_columns": null,
            "flex": null,
            "_model_name": "LayoutModel",
            "justify_items": null,
            "grid_row": null,
            "max_height": null,
            "align_content": null,
            "visibility": null,
            "align_self": null,
            "height": null,
            "min_height": null,
            "padding": null,
            "grid_auto_rows": null,
            "grid_gap": null,
            "max_width": null,
            "order": null,
            "_view_module_version": "1.2.0",
            "grid_template_areas": null,
            "object_position": null,
            "object_fit": null,
            "grid_auto_columns": null,
            "margin": null,
            "display": null,
            "left": null
          }
        },
        "37a43f1accb146e18279e6288d00a65c": {
          "model_module": "@jupyter-widgets/controls",
          "model_name": "HTMLModel",
          "model_module_version": "1.5.0",
          "state": {
            "_view_name": "HTMLView",
            "style": "IPY_MODEL_5fc927d500ea419a98694a5ea5e448af",
            "_dom_classes": [],
            "description": "",
            "_model_name": "HTMLModel",
            "placeholder": "​",
            "_view_module": "@jupyter-widgets/controls",
            "_model_module_version": "1.5.0",
            "value": "Dl Size...: 100%",
            "_view_count": null,
            "_view_module_version": "1.5.0",
            "description_tooltip": null,
            "_model_module": "@jupyter-widgets/controls",
            "layout": "IPY_MODEL_b0214a1f26ca45218c420dbe473a1323"
          }
        },
        "598c622baa5f442393443ea846cb2a77": {
          "model_module": "@jupyter-widgets/controls",
          "model_name": "FloatProgressModel",
          "model_module_version": "1.5.0",
          "state": {
            "_view_name": "ProgressView",
            "style": "IPY_MODEL_88873811e8af443382d232541403b68b",
            "_dom_classes": [],
            "description": "",
            "_model_name": "FloatProgressModel",
            "bar_style": "success",
            "max": 1,
            "_view_module": "@jupyter-widgets/controls",
            "_model_module_version": "1.5.0",
            "value": 1,
            "_view_count": null,
            "_view_module_version": "1.5.0",
            "orientation": "horizontal",
            "min": 0,
            "description_tooltip": null,
            "_model_module": "@jupyter-widgets/controls",
            "layout": "IPY_MODEL_8258d72c92e34b2d8d7c4432ff5aace1"
          }
        },
        "627dd9b6764948278bf967b6ab35aeb7": {
          "model_module": "@jupyter-widgets/controls",
          "model_name": "HTMLModel",
          "model_module_version": "1.5.0",
          "state": {
            "_view_name": "HTMLView",
            "style": "IPY_MODEL_a446bbb3b68f4747905dc67f30a21c21",
            "_dom_classes": [],
            "description": "",
            "_model_name": "HTMLModel",
            "placeholder": "​",
            "_view_module": "@jupyter-widgets/controls",
            "_model_module_version": "1.5.0",
            "value": " 80/80 [00:08&lt;00:00, 15.72 MiB/s]",
            "_view_count": null,
            "_view_module_version": "1.5.0",
            "description_tooltip": null,
            "_model_module": "@jupyter-widgets/controls",
            "layout": "IPY_MODEL_7a1c5ef2d61c456db3c060a839716970"
          }
        },
        "5fc927d500ea419a98694a5ea5e448af": {
          "model_module": "@jupyter-widgets/controls",
          "model_name": "DescriptionStyleModel",
          "model_module_version": "1.5.0",
          "state": {
            "_view_name": "StyleView",
            "_model_name": "DescriptionStyleModel",
            "description_width": "",
            "_view_module": "@jupyter-widgets/base",
            "_model_module_version": "1.5.0",
            "_view_count": null,
            "_view_module_version": "1.2.0",
            "_model_module": "@jupyter-widgets/controls"
          }
        },
        "b0214a1f26ca45218c420dbe473a1323": {
          "model_module": "@jupyter-widgets/base",
          "model_name": "LayoutModel",
          "model_module_version": "1.2.0",
          "state": {
            "_view_name": "LayoutView",
            "grid_template_rows": null,
            "right": null,
            "justify_content": null,
            "_view_module": "@jupyter-widgets/base",
            "overflow": null,
            "_model_module_version": "1.2.0",
            "_view_count": null,
            "flex_flow": null,
            "width": null,
            "min_width": null,
            "border": null,
            "align_items": null,
            "bottom": null,
            "_model_module": "@jupyter-widgets/base",
            "top": null,
            "grid_column": null,
            "overflow_y": null,
            "overflow_x": null,
            "grid_auto_flow": null,
            "grid_area": null,
            "grid_template_columns": null,
            "flex": null,
            "_model_name": "LayoutModel",
            "justify_items": null,
            "grid_row": null,
            "max_height": null,
            "align_content": null,
            "visibility": null,
            "align_self": null,
            "height": null,
            "min_height": null,
            "padding": null,
            "grid_auto_rows": null,
            "grid_gap": null,
            "max_width": null,
            "order": null,
            "_view_module_version": "1.2.0",
            "grid_template_areas": null,
            "object_position": null,
            "object_fit": null,
            "grid_auto_columns": null,
            "margin": null,
            "display": null,
            "left": null
          }
        },
        "88873811e8af443382d232541403b68b": {
          "model_module": "@jupyter-widgets/controls",
          "model_name": "ProgressStyleModel",
          "model_module_version": "1.5.0",
          "state": {
            "_view_name": "StyleView",
            "_model_name": "ProgressStyleModel",
            "description_width": "",
            "_view_module": "@jupyter-widgets/base",
            "_model_module_version": "1.5.0",
            "_view_count": null,
            "_view_module_version": "1.2.0",
            "bar_color": null,
            "_model_module": "@jupyter-widgets/controls"
          }
        },
        "8258d72c92e34b2d8d7c4432ff5aace1": {
          "model_module": "@jupyter-widgets/base",
          "model_name": "LayoutModel",
          "model_module_version": "1.2.0",
          "state": {
            "_view_name": "LayoutView",
            "grid_template_rows": null,
            "right": null,
            "justify_content": null,
            "_view_module": "@jupyter-widgets/base",
            "overflow": null,
            "_model_module_version": "1.2.0",
            "_view_count": null,
            "flex_flow": null,
            "width": "20px",
            "min_width": null,
            "border": null,
            "align_items": null,
            "bottom": null,
            "_model_module": "@jupyter-widgets/base",
            "top": null,
            "grid_column": null,
            "overflow_y": null,
            "overflow_x": null,
            "grid_auto_flow": null,
            "grid_area": null,
            "grid_template_columns": null,
            "flex": null,
            "_model_name": "LayoutModel",
            "justify_items": null,
            "grid_row": null,
            "max_height": null,
            "align_content": null,
            "visibility": null,
            "align_self": null,
            "height": null,
            "min_height": null,
            "padding": null,
            "grid_auto_rows": null,
            "grid_gap": null,
            "max_width": null,
            "order": null,
            "_view_module_version": "1.2.0",
            "grid_template_areas": null,
            "object_position": null,
            "object_fit": null,
            "grid_auto_columns": null,
            "margin": null,
            "display": null,
            "left": null
          }
        },
        "a446bbb3b68f4747905dc67f30a21c21": {
          "model_module": "@jupyter-widgets/controls",
          "model_name": "DescriptionStyleModel",
          "model_module_version": "1.5.0",
          "state": {
            "_view_name": "StyleView",
            "_model_name": "DescriptionStyleModel",
            "description_width": "",
            "_view_module": "@jupyter-widgets/base",
            "_model_module_version": "1.5.0",
            "_view_count": null,
            "_view_module_version": "1.2.0",
            "_model_module": "@jupyter-widgets/controls"
          }
        },
        "7a1c5ef2d61c456db3c060a839716970": {
          "model_module": "@jupyter-widgets/base",
          "model_name": "LayoutModel",
          "model_module_version": "1.2.0",
          "state": {
            "_view_name": "LayoutView",
            "grid_template_rows": null,
            "right": null,
            "justify_content": null,
            "_view_module": "@jupyter-widgets/base",
            "overflow": null,
            "_model_module_version": "1.2.0",
            "_view_count": null,
            "flex_flow": null,
            "width": null,
            "min_width": null,
            "border": null,
            "align_items": null,
            "bottom": null,
            "_model_module": "@jupyter-widgets/base",
            "top": null,
            "grid_column": null,
            "overflow_y": null,
            "overflow_x": null,
            "grid_auto_flow": null,
            "grid_area": null,
            "grid_template_columns": null,
            "flex": null,
            "_model_name": "LayoutModel",
            "justify_items": null,
            "grid_row": null,
            "max_height": null,
            "align_content": null,
            "visibility": null,
            "align_self": null,
            "height": null,
            "min_height": null,
            "padding": null,
            "grid_auto_rows": null,
            "grid_gap": null,
            "max_width": null,
            "order": null,
            "_view_module_version": "1.2.0",
            "grid_template_areas": null,
            "object_position": null,
            "object_fit": null,
            "grid_auto_columns": null,
            "margin": null,
            "display": null,
            "left": null
          }
        },
        "a91d64099b574a71b9e5d78e444cbe70": {
          "model_module": "@jupyter-widgets/controls",
          "model_name": "HBoxModel",
          "model_module_version": "1.5.0",
          "state": {
            "_view_name": "HBoxView",
            "_dom_classes": [],
            "_model_name": "HBoxModel",
            "_view_module": "@jupyter-widgets/controls",
            "_model_module_version": "1.5.0",
            "_view_count": null,
            "_view_module_version": "1.5.0",
            "box_style": "",
            "layout": "IPY_MODEL_9f75aac56b234a7cb0f4dd9a25cd7d91",
            "_model_module": "@jupyter-widgets/controls",
            "children": [
              "IPY_MODEL_f6a8c79f63d645e1a2358bcd687f4da2",
              "IPY_MODEL_aff4f9304d244e4faef38797f71a6170",
              "IPY_MODEL_b7c96acfc92b495eb3d5e31dcb24cc86"
            ]
          }
        },
        "9f75aac56b234a7cb0f4dd9a25cd7d91": {
          "model_module": "@jupyter-widgets/base",
          "model_name": "LayoutModel",
          "model_module_version": "1.2.0",
          "state": {
            "_view_name": "LayoutView",
            "grid_template_rows": null,
            "right": null,
            "justify_content": null,
            "_view_module": "@jupyter-widgets/base",
            "overflow": null,
            "_model_module_version": "1.2.0",
            "_view_count": null,
            "flex_flow": null,
            "width": null,
            "min_width": null,
            "border": null,
            "align_items": null,
            "bottom": null,
            "_model_module": "@jupyter-widgets/base",
            "top": null,
            "grid_column": null,
            "overflow_y": null,
            "overflow_x": null,
            "grid_auto_flow": null,
            "grid_area": null,
            "grid_template_columns": null,
            "flex": null,
            "_model_name": "LayoutModel",
            "justify_items": null,
            "grid_row": null,
            "max_height": null,
            "align_content": null,
            "visibility": null,
            "align_self": null,
            "height": null,
            "min_height": null,
            "padding": null,
            "grid_auto_rows": null,
            "grid_gap": null,
            "max_width": null,
            "order": null,
            "_view_module_version": "1.2.0",
            "grid_template_areas": null,
            "object_position": null,
            "object_fit": null,
            "grid_auto_columns": null,
            "margin": null,
            "display": null,
            "left": null
          }
        },
        "f6a8c79f63d645e1a2358bcd687f4da2": {
          "model_module": "@jupyter-widgets/controls",
          "model_name": "HTMLModel",
          "model_module_version": "1.5.0",
          "state": {
            "_view_name": "HTMLView",
            "style": "IPY_MODEL_6e97474fa15a4ef1baa8f558e29f4778",
            "_dom_classes": [],
            "description": "",
            "_model_name": "HTMLModel",
            "placeholder": "​",
            "_view_module": "@jupyter-widgets/controls",
            "_model_module_version": "1.5.0",
            "value": "",
            "_view_count": null,
            "_view_module_version": "1.5.0",
            "description_tooltip": null,
            "_model_module": "@jupyter-widgets/controls",
            "layout": "IPY_MODEL_06c50ae97587469db8f95e456b38a717"
          }
        },
        "aff4f9304d244e4faef38797f71a6170": {
          "model_module": "@jupyter-widgets/controls",
          "model_name": "FloatProgressModel",
          "model_module_version": "1.5.0",
          "state": {
            "_view_name": "ProgressView",
            "style": "IPY_MODEL_407f92eaaf6144ceb64bfe14f4ec36e3",
            "_dom_classes": [],
            "description": "",
            "_model_name": "FloatProgressModel",
            "bar_style": "info",
            "max": 1,
            "_view_module": "@jupyter-widgets/controls",
            "_model_module_version": "1.5.0",
            "value": 1,
            "_view_count": null,
            "_view_module_version": "1.5.0",
            "orientation": "horizontal",
            "min": 0,
            "description_tooltip": null,
            "_model_module": "@jupyter-widgets/controls",
            "layout": "IPY_MODEL_ca01d4c24340475095a36186957307ad"
          }
        },
        "b7c96acfc92b495eb3d5e31dcb24cc86": {
          "model_module": "@jupyter-widgets/controls",
          "model_name": "HTMLModel",
          "model_module_version": "1.5.0",
          "state": {
            "_view_name": "HTMLView",
            "style": "IPY_MODEL_79545fd69d834f53a2b5424fed0a89ee",
            "_dom_classes": [],
            "description": "",
            "_model_name": "HTMLModel",
            "placeholder": "​",
            "_view_module": "@jupyter-widgets/controls",
            "_model_module_version": "1.5.0",
            "value": " 24833/0 [00:20&lt;00:00, 2374.91 examples/s]",
            "_view_count": null,
            "_view_module_version": "1.5.0",
            "description_tooltip": null,
            "_model_module": "@jupyter-widgets/controls",
            "layout": "IPY_MODEL_7ca6eb91f886448bae4766ec184801a9"
          }
        },
        "6e97474fa15a4ef1baa8f558e29f4778": {
          "model_module": "@jupyter-widgets/controls",
          "model_name": "DescriptionStyleModel",
          "model_module_version": "1.5.0",
          "state": {
            "_view_name": "StyleView",
            "_model_name": "DescriptionStyleModel",
            "description_width": "",
            "_view_module": "@jupyter-widgets/base",
            "_model_module_version": "1.5.0",
            "_view_count": null,
            "_view_module_version": "1.2.0",
            "_model_module": "@jupyter-widgets/controls"
          }
        },
        "06c50ae97587469db8f95e456b38a717": {
          "model_module": "@jupyter-widgets/base",
          "model_name": "LayoutModel",
          "model_module_version": "1.2.0",
          "state": {
            "_view_name": "LayoutView",
            "grid_template_rows": null,
            "right": null,
            "justify_content": null,
            "_view_module": "@jupyter-widgets/base",
            "overflow": null,
            "_model_module_version": "1.2.0",
            "_view_count": null,
            "flex_flow": null,
            "width": null,
            "min_width": null,
            "border": null,
            "align_items": null,
            "bottom": null,
            "_model_module": "@jupyter-widgets/base",
            "top": null,
            "grid_column": null,
            "overflow_y": null,
            "overflow_x": null,
            "grid_auto_flow": null,
            "grid_area": null,
            "grid_template_columns": null,
            "flex": null,
            "_model_name": "LayoutModel",
            "justify_items": null,
            "grid_row": null,
            "max_height": null,
            "align_content": null,
            "visibility": null,
            "align_self": null,
            "height": null,
            "min_height": null,
            "padding": null,
            "grid_auto_rows": null,
            "grid_gap": null,
            "max_width": null,
            "order": null,
            "_view_module_version": "1.2.0",
            "grid_template_areas": null,
            "object_position": null,
            "object_fit": null,
            "grid_auto_columns": null,
            "margin": null,
            "display": null,
            "left": null
          }
        },
        "407f92eaaf6144ceb64bfe14f4ec36e3": {
          "model_module": "@jupyter-widgets/controls",
          "model_name": "ProgressStyleModel",
          "model_module_version": "1.5.0",
          "state": {
            "_view_name": "StyleView",
            "_model_name": "ProgressStyleModel",
            "description_width": "",
            "_view_module": "@jupyter-widgets/base",
            "_model_module_version": "1.5.0",
            "_view_count": null,
            "_view_module_version": "1.2.0",
            "bar_color": null,
            "_model_module": "@jupyter-widgets/controls"
          }
        },
        "ca01d4c24340475095a36186957307ad": {
          "model_module": "@jupyter-widgets/base",
          "model_name": "LayoutModel",
          "model_module_version": "1.2.0",
          "state": {
            "_view_name": "LayoutView",
            "grid_template_rows": null,
            "right": null,
            "justify_content": null,
            "_view_module": "@jupyter-widgets/base",
            "overflow": null,
            "_model_module_version": "1.2.0",
            "_view_count": null,
            "flex_flow": null,
            "width": "20px",
            "min_width": null,
            "border": null,
            "align_items": null,
            "bottom": null,
            "_model_module": "@jupyter-widgets/base",
            "top": null,
            "grid_column": null,
            "overflow_y": null,
            "overflow_x": null,
            "grid_auto_flow": null,
            "grid_area": null,
            "grid_template_columns": null,
            "flex": null,
            "_model_name": "LayoutModel",
            "justify_items": null,
            "grid_row": null,
            "max_height": null,
            "align_content": null,
            "visibility": null,
            "align_self": null,
            "height": null,
            "min_height": null,
            "padding": null,
            "grid_auto_rows": null,
            "grid_gap": null,
            "max_width": null,
            "order": null,
            "_view_module_version": "1.2.0",
            "grid_template_areas": null,
            "object_position": null,
            "object_fit": null,
            "grid_auto_columns": null,
            "margin": null,
            "display": null,
            "left": null
          }
        },
        "79545fd69d834f53a2b5424fed0a89ee": {
          "model_module": "@jupyter-widgets/controls",
          "model_name": "DescriptionStyleModel",
          "model_module_version": "1.5.0",
          "state": {
            "_view_name": "StyleView",
            "_model_name": "DescriptionStyleModel",
            "description_width": "",
            "_view_module": "@jupyter-widgets/base",
            "_model_module_version": "1.5.0",
            "_view_count": null,
            "_view_module_version": "1.2.0",
            "_model_module": "@jupyter-widgets/controls"
          }
        },
        "7ca6eb91f886448bae4766ec184801a9": {
          "model_module": "@jupyter-widgets/base",
          "model_name": "LayoutModel",
          "model_module_version": "1.2.0",
          "state": {
            "_view_name": "LayoutView",
            "grid_template_rows": null,
            "right": null,
            "justify_content": null,
            "_view_module": "@jupyter-widgets/base",
            "overflow": null,
            "_model_module_version": "1.2.0",
            "_view_count": null,
            "flex_flow": null,
            "width": null,
            "min_width": null,
            "border": null,
            "align_items": null,
            "bottom": null,
            "_model_module": "@jupyter-widgets/base",
            "top": null,
            "grid_column": null,
            "overflow_y": null,
            "overflow_x": null,
            "grid_auto_flow": null,
            "grid_area": null,
            "grid_template_columns": null,
            "flex": null,
            "_model_name": "LayoutModel",
            "justify_items": null,
            "grid_row": null,
            "max_height": null,
            "align_content": null,
            "visibility": null,
            "align_self": null,
            "height": null,
            "min_height": null,
            "padding": null,
            "grid_auto_rows": null,
            "grid_gap": null,
            "max_width": null,
            "order": null,
            "_view_module_version": "1.2.0",
            "grid_template_areas": null,
            "object_position": null,
            "object_fit": null,
            "grid_auto_columns": null,
            "margin": null,
            "display": null,
            "left": null
          }
        },
        "aafef5fe73144b6b8c9e71b147398d63": {
          "model_module": "@jupyter-widgets/controls",
          "model_name": "HBoxModel",
          "model_module_version": "1.5.0",
          "state": {
            "_view_name": "HBoxView",
            "_dom_classes": [],
            "_model_name": "HBoxModel",
            "_view_module": "@jupyter-widgets/controls",
            "_model_module_version": "1.5.0",
            "_view_count": null,
            "_view_module_version": "1.5.0",
            "box_style": "",
            "layout": "IPY_MODEL_8a4d655400e94cc096e5d55be33d1f0e",
            "_model_module": "@jupyter-widgets/controls",
            "children": [
              "IPY_MODEL_4d1bf099d2334bfcae038e736717dfc4",
              "IPY_MODEL_512093344ff4466f99e6256dad328c24",
              "IPY_MODEL_607c9b4e091c491fa999e24c406b52e1"
            ]
          }
        },
        "8a4d655400e94cc096e5d55be33d1f0e": {
          "model_module": "@jupyter-widgets/base",
          "model_name": "LayoutModel",
          "model_module_version": "1.2.0",
          "state": {
            "_view_name": "LayoutView",
            "grid_template_rows": null,
            "right": null,
            "justify_content": null,
            "_view_module": "@jupyter-widgets/base",
            "overflow": null,
            "_model_module_version": "1.2.0",
            "_view_count": null,
            "flex_flow": null,
            "width": null,
            "min_width": null,
            "border": null,
            "align_items": null,
            "bottom": null,
            "_model_module": "@jupyter-widgets/base",
            "top": null,
            "grid_column": null,
            "overflow_y": null,
            "overflow_x": null,
            "grid_auto_flow": null,
            "grid_area": null,
            "grid_template_columns": null,
            "flex": null,
            "_model_name": "LayoutModel",
            "justify_items": null,
            "grid_row": null,
            "max_height": null,
            "align_content": null,
            "visibility": null,
            "align_self": null,
            "height": null,
            "min_height": null,
            "padding": null,
            "grid_auto_rows": null,
            "grid_gap": null,
            "max_width": null,
            "order": null,
            "_view_module_version": "1.2.0",
            "grid_template_areas": null,
            "object_position": null,
            "object_fit": null,
            "grid_auto_columns": null,
            "margin": null,
            "display": null,
            "left": null
          }
        },
        "4d1bf099d2334bfcae038e736717dfc4": {
          "model_module": "@jupyter-widgets/controls",
          "model_name": "HTMLModel",
          "model_module_version": "1.5.0",
          "state": {
            "_view_name": "HTMLView",
            "style": "IPY_MODEL_a22df46ac5f24eb58fa01f5eb1084145",
            "_dom_classes": [],
            "description": "",
            "_model_name": "HTMLModel",
            "placeholder": "​",
            "_view_module": "@jupyter-widgets/controls",
            "_model_module_version": "1.5.0",
            "value": "100%",
            "_view_count": null,
            "_view_module_version": "1.5.0",
            "description_tooltip": null,
            "_model_module": "@jupyter-widgets/controls",
            "layout": "IPY_MODEL_37d73ab3a8844df5ad9311b796045c44"
          }
        },
        "512093344ff4466f99e6256dad328c24": {
          "model_module": "@jupyter-widgets/controls",
          "model_name": "FloatProgressModel",
          "model_module_version": "1.5.0",
          "state": {
            "_view_name": "ProgressView",
            "style": "IPY_MODEL_8159c4c0930646b9aa885646347b36a8",
            "_dom_classes": [],
            "description": "",
            "_model_name": "FloatProgressModel",
            "bar_style": "danger",
            "max": 25000,
            "_view_module": "@jupyter-widgets/controls",
            "_model_module_version": "1.5.0",
            "value": 24999,
            "_view_count": null,
            "_view_module_version": "1.5.0",
            "orientation": "horizontal",
            "min": 0,
            "description_tooltip": null,
            "_model_module": "@jupyter-widgets/controls",
            "layout": "IPY_MODEL_511fffde62874abfa86e3dba0f21d799"
          }
        },
        "607c9b4e091c491fa999e24c406b52e1": {
          "model_module": "@jupyter-widgets/controls",
          "model_name": "HTMLModel",
          "model_module_version": "1.5.0",
          "state": {
            "_view_name": "HTMLView",
            "style": "IPY_MODEL_ba59d4cf84284beaa67457e4cfdd4a1a",
            "_dom_classes": [],
            "description": "",
            "_model_name": "HTMLModel",
            "placeholder": "​",
            "_view_module": "@jupyter-widgets/controls",
            "_model_module_version": "1.5.0",
            "value": " 24999/25000 [00:00&lt;00:00, 128563.50 examples/s]",
            "_view_count": null,
            "_view_module_version": "1.5.0",
            "description_tooltip": null,
            "_model_module": "@jupyter-widgets/controls",
            "layout": "IPY_MODEL_a824d9e5db094251aff74243dfe3a90d"
          }
        },
        "a22df46ac5f24eb58fa01f5eb1084145": {
          "model_module": "@jupyter-widgets/controls",
          "model_name": "DescriptionStyleModel",
          "model_module_version": "1.5.0",
          "state": {
            "_view_name": "StyleView",
            "_model_name": "DescriptionStyleModel",
            "description_width": "",
            "_view_module": "@jupyter-widgets/base",
            "_model_module_version": "1.5.0",
            "_view_count": null,
            "_view_module_version": "1.2.0",
            "_model_module": "@jupyter-widgets/controls"
          }
        },
        "37d73ab3a8844df5ad9311b796045c44": {
          "model_module": "@jupyter-widgets/base",
          "model_name": "LayoutModel",
          "model_module_version": "1.2.0",
          "state": {
            "_view_name": "LayoutView",
            "grid_template_rows": null,
            "right": null,
            "justify_content": null,
            "_view_module": "@jupyter-widgets/base",
            "overflow": null,
            "_model_module_version": "1.2.0",
            "_view_count": null,
            "flex_flow": null,
            "width": null,
            "min_width": null,
            "border": null,
            "align_items": null,
            "bottom": null,
            "_model_module": "@jupyter-widgets/base",
            "top": null,
            "grid_column": null,
            "overflow_y": null,
            "overflow_x": null,
            "grid_auto_flow": null,
            "grid_area": null,
            "grid_template_columns": null,
            "flex": null,
            "_model_name": "LayoutModel",
            "justify_items": null,
            "grid_row": null,
            "max_height": null,
            "align_content": null,
            "visibility": null,
            "align_self": null,
            "height": null,
            "min_height": null,
            "padding": null,
            "grid_auto_rows": null,
            "grid_gap": null,
            "max_width": null,
            "order": null,
            "_view_module_version": "1.2.0",
            "grid_template_areas": null,
            "object_position": null,
            "object_fit": null,
            "grid_auto_columns": null,
            "margin": null,
            "display": null,
            "left": null
          }
        },
        "8159c4c0930646b9aa885646347b36a8": {
          "model_module": "@jupyter-widgets/controls",
          "model_name": "ProgressStyleModel",
          "model_module_version": "1.5.0",
          "state": {
            "_view_name": "StyleView",
            "_model_name": "ProgressStyleModel",
            "description_width": "",
            "_view_module": "@jupyter-widgets/base",
            "_model_module_version": "1.5.0",
            "_view_count": null,
            "_view_module_version": "1.2.0",
            "bar_color": null,
            "_model_module": "@jupyter-widgets/controls"
          }
        },
        "511fffde62874abfa86e3dba0f21d799": {
          "model_module": "@jupyter-widgets/base",
          "model_name": "LayoutModel",
          "model_module_version": "1.2.0",
          "state": {
            "_view_name": "LayoutView",
            "grid_template_rows": null,
            "right": null,
            "justify_content": null,
            "_view_module": "@jupyter-widgets/base",
            "overflow": null,
            "_model_module_version": "1.2.0",
            "_view_count": null,
            "flex_flow": null,
            "width": null,
            "min_width": null,
            "border": null,
            "align_items": null,
            "bottom": null,
            "_model_module": "@jupyter-widgets/base",
            "top": null,
            "grid_column": null,
            "overflow_y": null,
            "overflow_x": null,
            "grid_auto_flow": null,
            "grid_area": null,
            "grid_template_columns": null,
            "flex": null,
            "_model_name": "LayoutModel",
            "justify_items": null,
            "grid_row": null,
            "max_height": null,
            "align_content": null,
            "visibility": null,
            "align_self": null,
            "height": null,
            "min_height": null,
            "padding": null,
            "grid_auto_rows": null,
            "grid_gap": null,
            "max_width": null,
            "order": null,
            "_view_module_version": "1.2.0",
            "grid_template_areas": null,
            "object_position": null,
            "object_fit": null,
            "grid_auto_columns": null,
            "margin": null,
            "display": null,
            "left": null
          }
        },
        "ba59d4cf84284beaa67457e4cfdd4a1a": {
          "model_module": "@jupyter-widgets/controls",
          "model_name": "DescriptionStyleModel",
          "model_module_version": "1.5.0",
          "state": {
            "_view_name": "StyleView",
            "_model_name": "DescriptionStyleModel",
            "description_width": "",
            "_view_module": "@jupyter-widgets/base",
            "_model_module_version": "1.5.0",
            "_view_count": null,
            "_view_module_version": "1.2.0",
            "_model_module": "@jupyter-widgets/controls"
          }
        },
        "a824d9e5db094251aff74243dfe3a90d": {
          "model_module": "@jupyter-widgets/base",
          "model_name": "LayoutModel",
          "model_module_version": "1.2.0",
          "state": {
            "_view_name": "LayoutView",
            "grid_template_rows": null,
            "right": null,
            "justify_content": null,
            "_view_module": "@jupyter-widgets/base",
            "overflow": null,
            "_model_module_version": "1.2.0",
            "_view_count": null,
            "flex_flow": null,
            "width": null,
            "min_width": null,
            "border": null,
            "align_items": null,
            "bottom": null,
            "_model_module": "@jupyter-widgets/base",
            "top": null,
            "grid_column": null,
            "overflow_y": null,
            "overflow_x": null,
            "grid_auto_flow": null,
            "grid_area": null,
            "grid_template_columns": null,
            "flex": null,
            "_model_name": "LayoutModel",
            "justify_items": null,
            "grid_row": null,
            "max_height": null,
            "align_content": null,
            "visibility": null,
            "align_self": null,
            "height": null,
            "min_height": null,
            "padding": null,
            "grid_auto_rows": null,
            "grid_gap": null,
            "max_width": null,
            "order": null,
            "_view_module_version": "1.2.0",
            "grid_template_areas": null,
            "object_position": null,
            "object_fit": null,
            "grid_auto_columns": null,
            "margin": null,
            "display": null,
            "left": null
          }
        },
        "ae057a83bad947a0b7e51b4245b908c5": {
          "model_module": "@jupyter-widgets/controls",
          "model_name": "HBoxModel",
          "model_module_version": "1.5.0",
          "state": {
            "_view_name": "HBoxView",
            "_dom_classes": [],
            "_model_name": "HBoxModel",
            "_view_module": "@jupyter-widgets/controls",
            "_model_module_version": "1.5.0",
            "_view_count": null,
            "_view_module_version": "1.5.0",
            "box_style": "",
            "layout": "IPY_MODEL_d69fe02cd11d4578a324c7a22ba9722a",
            "_model_module": "@jupyter-widgets/controls",
            "children": [
              "IPY_MODEL_51050bc251984d988857b76fa599a5e8",
              "IPY_MODEL_8aed5e37e87045d589e665d05160c34c",
              "IPY_MODEL_3eb77b72cf554edf9cde6f8901fa89db"
            ]
          }
        },
        "d69fe02cd11d4578a324c7a22ba9722a": {
          "model_module": "@jupyter-widgets/base",
          "model_name": "LayoutModel",
          "model_module_version": "1.2.0",
          "state": {
            "_view_name": "LayoutView",
            "grid_template_rows": null,
            "right": null,
            "justify_content": null,
            "_view_module": "@jupyter-widgets/base",
            "overflow": null,
            "_model_module_version": "1.2.0",
            "_view_count": null,
            "flex_flow": null,
            "width": null,
            "min_width": null,
            "border": null,
            "align_items": null,
            "bottom": null,
            "_model_module": "@jupyter-widgets/base",
            "top": null,
            "grid_column": null,
            "overflow_y": null,
            "overflow_x": null,
            "grid_auto_flow": null,
            "grid_area": null,
            "grid_template_columns": null,
            "flex": null,
            "_model_name": "LayoutModel",
            "justify_items": null,
            "grid_row": null,
            "max_height": null,
            "align_content": null,
            "visibility": null,
            "align_self": null,
            "height": null,
            "min_height": null,
            "padding": null,
            "grid_auto_rows": null,
            "grid_gap": null,
            "max_width": null,
            "order": null,
            "_view_module_version": "1.2.0",
            "grid_template_areas": null,
            "object_position": null,
            "object_fit": null,
            "grid_auto_columns": null,
            "margin": null,
            "display": null,
            "left": null
          }
        },
        "51050bc251984d988857b76fa599a5e8": {
          "model_module": "@jupyter-widgets/controls",
          "model_name": "HTMLModel",
          "model_module_version": "1.5.0",
          "state": {
            "_view_name": "HTMLView",
            "style": "IPY_MODEL_d27326d5385e4b058af589eff7240700",
            "_dom_classes": [],
            "description": "",
            "_model_name": "HTMLModel",
            "placeholder": "​",
            "_view_module": "@jupyter-widgets/controls",
            "_model_module_version": "1.5.0",
            "value": "",
            "_view_count": null,
            "_view_module_version": "1.5.0",
            "description_tooltip": null,
            "_model_module": "@jupyter-widgets/controls",
            "layout": "IPY_MODEL_164093717a084058ae1aa9478b5736b6"
          }
        },
        "8aed5e37e87045d589e665d05160c34c": {
          "model_module": "@jupyter-widgets/controls",
          "model_name": "FloatProgressModel",
          "model_module_version": "1.5.0",
          "state": {
            "_view_name": "ProgressView",
            "style": "IPY_MODEL_c3aa7715b6da444a95e99d3bcc209994",
            "_dom_classes": [],
            "description": "",
            "_model_name": "FloatProgressModel",
            "bar_style": "info",
            "max": 1,
            "_view_module": "@jupyter-widgets/controls",
            "_model_module_version": "1.5.0",
            "value": 1,
            "_view_count": null,
            "_view_module_version": "1.5.0",
            "orientation": "horizontal",
            "min": 0,
            "description_tooltip": null,
            "_model_module": "@jupyter-widgets/controls",
            "layout": "IPY_MODEL_2f31359832f94a498c4ff03bc5a7a3b4"
          }
        },
        "3eb77b72cf554edf9cde6f8901fa89db": {
          "model_module": "@jupyter-widgets/controls",
          "model_name": "HTMLModel",
          "model_module_version": "1.5.0",
          "state": {
            "_view_name": "HTMLView",
            "style": "IPY_MODEL_f8eb673e7d42478195655ad90fdbe481",
            "_dom_classes": [],
            "description": "",
            "_model_name": "HTMLModel",
            "placeholder": "​",
            "_view_module": "@jupyter-widgets/controls",
            "_model_module_version": "1.5.0",
            "value": " 24770/0 [00:10&lt;00:00, 2639.29 examples/s]",
            "_view_count": null,
            "_view_module_version": "1.5.0",
            "description_tooltip": null,
            "_model_module": "@jupyter-widgets/controls",
            "layout": "IPY_MODEL_2bc54694be684fb79670290acebe84ad"
          }
        },
        "d27326d5385e4b058af589eff7240700": {
          "model_module": "@jupyter-widgets/controls",
          "model_name": "DescriptionStyleModel",
          "model_module_version": "1.5.0",
          "state": {
            "_view_name": "StyleView",
            "_model_name": "DescriptionStyleModel",
            "description_width": "",
            "_view_module": "@jupyter-widgets/base",
            "_model_module_version": "1.5.0",
            "_view_count": null,
            "_view_module_version": "1.2.0",
            "_model_module": "@jupyter-widgets/controls"
          }
        },
        "164093717a084058ae1aa9478b5736b6": {
          "model_module": "@jupyter-widgets/base",
          "model_name": "LayoutModel",
          "model_module_version": "1.2.0",
          "state": {
            "_view_name": "LayoutView",
            "grid_template_rows": null,
            "right": null,
            "justify_content": null,
            "_view_module": "@jupyter-widgets/base",
            "overflow": null,
            "_model_module_version": "1.2.0",
            "_view_count": null,
            "flex_flow": null,
            "width": null,
            "min_width": null,
            "border": null,
            "align_items": null,
            "bottom": null,
            "_model_module": "@jupyter-widgets/base",
            "top": null,
            "grid_column": null,
            "overflow_y": null,
            "overflow_x": null,
            "grid_auto_flow": null,
            "grid_area": null,
            "grid_template_columns": null,
            "flex": null,
            "_model_name": "LayoutModel",
            "justify_items": null,
            "grid_row": null,
            "max_height": null,
            "align_content": null,
            "visibility": null,
            "align_self": null,
            "height": null,
            "min_height": null,
            "padding": null,
            "grid_auto_rows": null,
            "grid_gap": null,
            "max_width": null,
            "order": null,
            "_view_module_version": "1.2.0",
            "grid_template_areas": null,
            "object_position": null,
            "object_fit": null,
            "grid_auto_columns": null,
            "margin": null,
            "display": null,
            "left": null
          }
        },
        "c3aa7715b6da444a95e99d3bcc209994": {
          "model_module": "@jupyter-widgets/controls",
          "model_name": "ProgressStyleModel",
          "model_module_version": "1.5.0",
          "state": {
            "_view_name": "StyleView",
            "_model_name": "ProgressStyleModel",
            "description_width": "",
            "_view_module": "@jupyter-widgets/base",
            "_model_module_version": "1.5.0",
            "_view_count": null,
            "_view_module_version": "1.2.0",
            "bar_color": null,
            "_model_module": "@jupyter-widgets/controls"
          }
        },
        "2f31359832f94a498c4ff03bc5a7a3b4": {
          "model_module": "@jupyter-widgets/base",
          "model_name": "LayoutModel",
          "model_module_version": "1.2.0",
          "state": {
            "_view_name": "LayoutView",
            "grid_template_rows": null,
            "right": null,
            "justify_content": null,
            "_view_module": "@jupyter-widgets/base",
            "overflow": null,
            "_model_module_version": "1.2.0",
            "_view_count": null,
            "flex_flow": null,
            "width": "20px",
            "min_width": null,
            "border": null,
            "align_items": null,
            "bottom": null,
            "_model_module": "@jupyter-widgets/base",
            "top": null,
            "grid_column": null,
            "overflow_y": null,
            "overflow_x": null,
            "grid_auto_flow": null,
            "grid_area": null,
            "grid_template_columns": null,
            "flex": null,
            "_model_name": "LayoutModel",
            "justify_items": null,
            "grid_row": null,
            "max_height": null,
            "align_content": null,
            "visibility": null,
            "align_self": null,
            "height": null,
            "min_height": null,
            "padding": null,
            "grid_auto_rows": null,
            "grid_gap": null,
            "max_width": null,
            "order": null,
            "_view_module_version": "1.2.0",
            "grid_template_areas": null,
            "object_position": null,
            "object_fit": null,
            "grid_auto_columns": null,
            "margin": null,
            "display": null,
            "left": null
          }
        },
        "f8eb673e7d42478195655ad90fdbe481": {
          "model_module": "@jupyter-widgets/controls",
          "model_name": "DescriptionStyleModel",
          "model_module_version": "1.5.0",
          "state": {
            "_view_name": "StyleView",
            "_model_name": "DescriptionStyleModel",
            "description_width": "",
            "_view_module": "@jupyter-widgets/base",
            "_model_module_version": "1.5.0",
            "_view_count": null,
            "_view_module_version": "1.2.0",
            "_model_module": "@jupyter-widgets/controls"
          }
        },
        "2bc54694be684fb79670290acebe84ad": {
          "model_module": "@jupyter-widgets/base",
          "model_name": "LayoutModel",
          "model_module_version": "1.2.0",
          "state": {
            "_view_name": "LayoutView",
            "grid_template_rows": null,
            "right": null,
            "justify_content": null,
            "_view_module": "@jupyter-widgets/base",
            "overflow": null,
            "_model_module_version": "1.2.0",
            "_view_count": null,
            "flex_flow": null,
            "width": null,
            "min_width": null,
            "border": null,
            "align_items": null,
            "bottom": null,
            "_model_module": "@jupyter-widgets/base",
            "top": null,
            "grid_column": null,
            "overflow_y": null,
            "overflow_x": null,
            "grid_auto_flow": null,
            "grid_area": null,
            "grid_template_columns": null,
            "flex": null,
            "_model_name": "LayoutModel",
            "justify_items": null,
            "grid_row": null,
            "max_height": null,
            "align_content": null,
            "visibility": null,
            "align_self": null,
            "height": null,
            "min_height": null,
            "padding": null,
            "grid_auto_rows": null,
            "grid_gap": null,
            "max_width": null,
            "order": null,
            "_view_module_version": "1.2.0",
            "grid_template_areas": null,
            "object_position": null,
            "object_fit": null,
            "grid_auto_columns": null,
            "margin": null,
            "display": null,
            "left": null
          }
        },
        "21db2c75b28e4985ae3caf994e370851": {
          "model_module": "@jupyter-widgets/controls",
          "model_name": "HBoxModel",
          "model_module_version": "1.5.0",
          "state": {
            "_view_name": "HBoxView",
            "_dom_classes": [],
            "_model_name": "HBoxModel",
            "_view_module": "@jupyter-widgets/controls",
            "_model_module_version": "1.5.0",
            "_view_count": null,
            "_view_module_version": "1.5.0",
            "box_style": "",
            "layout": "IPY_MODEL_6ffac889169b4381ad32b40990cce41d",
            "_model_module": "@jupyter-widgets/controls",
            "children": [
              "IPY_MODEL_bd0e923f55d64e7c8aa7021b32da654a",
              "IPY_MODEL_0fdcacc86eeb429bbce35d6e1f4b732a",
              "IPY_MODEL_47fc06e23f084624abd5658a9075cb30"
            ]
          }
        },
        "6ffac889169b4381ad32b40990cce41d": {
          "model_module": "@jupyter-widgets/base",
          "model_name": "LayoutModel",
          "model_module_version": "1.2.0",
          "state": {
            "_view_name": "LayoutView",
            "grid_template_rows": null,
            "right": null,
            "justify_content": null,
            "_view_module": "@jupyter-widgets/base",
            "overflow": null,
            "_model_module_version": "1.2.0",
            "_view_count": null,
            "flex_flow": null,
            "width": null,
            "min_width": null,
            "border": null,
            "align_items": null,
            "bottom": null,
            "_model_module": "@jupyter-widgets/base",
            "top": null,
            "grid_column": null,
            "overflow_y": null,
            "overflow_x": null,
            "grid_auto_flow": null,
            "grid_area": null,
            "grid_template_columns": null,
            "flex": null,
            "_model_name": "LayoutModel",
            "justify_items": null,
            "grid_row": null,
            "max_height": null,
            "align_content": null,
            "visibility": null,
            "align_self": null,
            "height": null,
            "min_height": null,
            "padding": null,
            "grid_auto_rows": null,
            "grid_gap": null,
            "max_width": null,
            "order": null,
            "_view_module_version": "1.2.0",
            "grid_template_areas": null,
            "object_position": null,
            "object_fit": null,
            "grid_auto_columns": null,
            "margin": null,
            "display": null,
            "left": null
          }
        },
        "bd0e923f55d64e7c8aa7021b32da654a": {
          "model_module": "@jupyter-widgets/controls",
          "model_name": "HTMLModel",
          "model_module_version": "1.5.0",
          "state": {
            "_view_name": "HTMLView",
            "style": "IPY_MODEL_3fdacd7a573c4a64ae243cba8fadc6b4",
            "_dom_classes": [],
            "description": "",
            "_model_name": "HTMLModel",
            "placeholder": "​",
            "_view_module": "@jupyter-widgets/controls",
            "_model_module_version": "1.5.0",
            "value": "100%",
            "_view_count": null,
            "_view_module_version": "1.5.0",
            "description_tooltip": null,
            "_model_module": "@jupyter-widgets/controls",
            "layout": "IPY_MODEL_268a0cea8c4c49e6a8cdaa5510ebfe1f"
          }
        },
        "0fdcacc86eeb429bbce35d6e1f4b732a": {
          "model_module": "@jupyter-widgets/controls",
          "model_name": "FloatProgressModel",
          "model_module_version": "1.5.0",
          "state": {
            "_view_name": "ProgressView",
            "style": "IPY_MODEL_4dec72420b30444a877163504dc70987",
            "_dom_classes": [],
            "description": "",
            "_model_name": "FloatProgressModel",
            "bar_style": "danger",
            "max": 25000,
            "_view_module": "@jupyter-widgets/controls",
            "_model_module_version": "1.5.0",
            "value": 24999,
            "_view_count": null,
            "_view_module_version": "1.5.0",
            "orientation": "horizontal",
            "min": 0,
            "description_tooltip": null,
            "_model_module": "@jupyter-widgets/controls",
            "layout": "IPY_MODEL_51342cda56934eebbd2969955f8c3376"
          }
        },
        "47fc06e23f084624abd5658a9075cb30": {
          "model_module": "@jupyter-widgets/controls",
          "model_name": "HTMLModel",
          "model_module_version": "1.5.0",
          "state": {
            "_view_name": "HTMLView",
            "style": "IPY_MODEL_83f0e6c689054f2a8b12324f9054ab35",
            "_dom_classes": [],
            "description": "",
            "_model_name": "HTMLModel",
            "placeholder": "​",
            "_view_module": "@jupyter-widgets/controls",
            "_model_module_version": "1.5.0",
            "value": " 24999/25000 [00:00&lt;00:00, 128318.76 examples/s]",
            "_view_count": null,
            "_view_module_version": "1.5.0",
            "description_tooltip": null,
            "_model_module": "@jupyter-widgets/controls",
            "layout": "IPY_MODEL_2d811be09f574e37a69f34c1c09770da"
          }
        },
        "3fdacd7a573c4a64ae243cba8fadc6b4": {
          "model_module": "@jupyter-widgets/controls",
          "model_name": "DescriptionStyleModel",
          "model_module_version": "1.5.0",
          "state": {
            "_view_name": "StyleView",
            "_model_name": "DescriptionStyleModel",
            "description_width": "",
            "_view_module": "@jupyter-widgets/base",
            "_model_module_version": "1.5.0",
            "_view_count": null,
            "_view_module_version": "1.2.0",
            "_model_module": "@jupyter-widgets/controls"
          }
        },
        "268a0cea8c4c49e6a8cdaa5510ebfe1f": {
          "model_module": "@jupyter-widgets/base",
          "model_name": "LayoutModel",
          "model_module_version": "1.2.0",
          "state": {
            "_view_name": "LayoutView",
            "grid_template_rows": null,
            "right": null,
            "justify_content": null,
            "_view_module": "@jupyter-widgets/base",
            "overflow": null,
            "_model_module_version": "1.2.0",
            "_view_count": null,
            "flex_flow": null,
            "width": null,
            "min_width": null,
            "border": null,
            "align_items": null,
            "bottom": null,
            "_model_module": "@jupyter-widgets/base",
            "top": null,
            "grid_column": null,
            "overflow_y": null,
            "overflow_x": null,
            "grid_auto_flow": null,
            "grid_area": null,
            "grid_template_columns": null,
            "flex": null,
            "_model_name": "LayoutModel",
            "justify_items": null,
            "grid_row": null,
            "max_height": null,
            "align_content": null,
            "visibility": null,
            "align_self": null,
            "height": null,
            "min_height": null,
            "padding": null,
            "grid_auto_rows": null,
            "grid_gap": null,
            "max_width": null,
            "order": null,
            "_view_module_version": "1.2.0",
            "grid_template_areas": null,
            "object_position": null,
            "object_fit": null,
            "grid_auto_columns": null,
            "margin": null,
            "display": null,
            "left": null
          }
        },
        "4dec72420b30444a877163504dc70987": {
          "model_module": "@jupyter-widgets/controls",
          "model_name": "ProgressStyleModel",
          "model_module_version": "1.5.0",
          "state": {
            "_view_name": "StyleView",
            "_model_name": "ProgressStyleModel",
            "description_width": "",
            "_view_module": "@jupyter-widgets/base",
            "_model_module_version": "1.5.0",
            "_view_count": null,
            "_view_module_version": "1.2.0",
            "bar_color": null,
            "_model_module": "@jupyter-widgets/controls"
          }
        },
        "51342cda56934eebbd2969955f8c3376": {
          "model_module": "@jupyter-widgets/base",
          "model_name": "LayoutModel",
          "model_module_version": "1.2.0",
          "state": {
            "_view_name": "LayoutView",
            "grid_template_rows": null,
            "right": null,
            "justify_content": null,
            "_view_module": "@jupyter-widgets/base",
            "overflow": null,
            "_model_module_version": "1.2.0",
            "_view_count": null,
            "flex_flow": null,
            "width": null,
            "min_width": null,
            "border": null,
            "align_items": null,
            "bottom": null,
            "_model_module": "@jupyter-widgets/base",
            "top": null,
            "grid_column": null,
            "overflow_y": null,
            "overflow_x": null,
            "grid_auto_flow": null,
            "grid_area": null,
            "grid_template_columns": null,
            "flex": null,
            "_model_name": "LayoutModel",
            "justify_items": null,
            "grid_row": null,
            "max_height": null,
            "align_content": null,
            "visibility": null,
            "align_self": null,
            "height": null,
            "min_height": null,
            "padding": null,
            "grid_auto_rows": null,
            "grid_gap": null,
            "max_width": null,
            "order": null,
            "_view_module_version": "1.2.0",
            "grid_template_areas": null,
            "object_position": null,
            "object_fit": null,
            "grid_auto_columns": null,
            "margin": null,
            "display": null,
            "left": null
          }
        },
        "83f0e6c689054f2a8b12324f9054ab35": {
          "model_module": "@jupyter-widgets/controls",
          "model_name": "DescriptionStyleModel",
          "model_module_version": "1.5.0",
          "state": {
            "_view_name": "StyleView",
            "_model_name": "DescriptionStyleModel",
            "description_width": "",
            "_view_module": "@jupyter-widgets/base",
            "_model_module_version": "1.5.0",
            "_view_count": null,
            "_view_module_version": "1.2.0",
            "_model_module": "@jupyter-widgets/controls"
          }
        },
        "2d811be09f574e37a69f34c1c09770da": {
          "model_module": "@jupyter-widgets/base",
          "model_name": "LayoutModel",
          "model_module_version": "1.2.0",
          "state": {
            "_view_name": "LayoutView",
            "grid_template_rows": null,
            "right": null,
            "justify_content": null,
            "_view_module": "@jupyter-widgets/base",
            "overflow": null,
            "_model_module_version": "1.2.0",
            "_view_count": null,
            "flex_flow": null,
            "width": null,
            "min_width": null,
            "border": null,
            "align_items": null,
            "bottom": null,
            "_model_module": "@jupyter-widgets/base",
            "top": null,
            "grid_column": null,
            "overflow_y": null,
            "overflow_x": null,
            "grid_auto_flow": null,
            "grid_area": null,
            "grid_template_columns": null,
            "flex": null,
            "_model_name": "LayoutModel",
            "justify_items": null,
            "grid_row": null,
            "max_height": null,
            "align_content": null,
            "visibility": null,
            "align_self": null,
            "height": null,
            "min_height": null,
            "padding": null,
            "grid_auto_rows": null,
            "grid_gap": null,
            "max_width": null,
            "order": null,
            "_view_module_version": "1.2.0",
            "grid_template_areas": null,
            "object_position": null,
            "object_fit": null,
            "grid_auto_columns": null,
            "margin": null,
            "display": null,
            "left": null
          }
        },
        "3bfe49d85a5b40e7a40a2f7e1189e771": {
          "model_module": "@jupyter-widgets/controls",
          "model_name": "HBoxModel",
          "model_module_version": "1.5.0",
          "state": {
            "_view_name": "HBoxView",
            "_dom_classes": [],
            "_model_name": "HBoxModel",
            "_view_module": "@jupyter-widgets/controls",
            "_model_module_version": "1.5.0",
            "_view_count": null,
            "_view_module_version": "1.5.0",
            "box_style": "",
            "layout": "IPY_MODEL_2730015038e04ceebdb98864addc1039",
            "_model_module": "@jupyter-widgets/controls",
            "children": [
              "IPY_MODEL_53b50e43a057404aa10588b882b3c08a",
              "IPY_MODEL_aefa4a68f5e24732814290093749268e",
              "IPY_MODEL_e919d3d8cef547e0906e1791fae8025f"
            ]
          }
        },
        "2730015038e04ceebdb98864addc1039": {
          "model_module": "@jupyter-widgets/base",
          "model_name": "LayoutModel",
          "model_module_version": "1.2.0",
          "state": {
            "_view_name": "LayoutView",
            "grid_template_rows": null,
            "right": null,
            "justify_content": null,
            "_view_module": "@jupyter-widgets/base",
            "overflow": null,
            "_model_module_version": "1.2.0",
            "_view_count": null,
            "flex_flow": null,
            "width": null,
            "min_width": null,
            "border": null,
            "align_items": null,
            "bottom": null,
            "_model_module": "@jupyter-widgets/base",
            "top": null,
            "grid_column": null,
            "overflow_y": null,
            "overflow_x": null,
            "grid_auto_flow": null,
            "grid_area": null,
            "grid_template_columns": null,
            "flex": null,
            "_model_name": "LayoutModel",
            "justify_items": null,
            "grid_row": null,
            "max_height": null,
            "align_content": null,
            "visibility": null,
            "align_self": null,
            "height": null,
            "min_height": null,
            "padding": null,
            "grid_auto_rows": null,
            "grid_gap": null,
            "max_width": null,
            "order": null,
            "_view_module_version": "1.2.0",
            "grid_template_areas": null,
            "object_position": null,
            "object_fit": null,
            "grid_auto_columns": null,
            "margin": null,
            "display": null,
            "left": null
          }
        },
        "53b50e43a057404aa10588b882b3c08a": {
          "model_module": "@jupyter-widgets/controls",
          "model_name": "HTMLModel",
          "model_module_version": "1.5.0",
          "state": {
            "_view_name": "HTMLView",
            "style": "IPY_MODEL_29f29da15f824605bfff0297274abbd0",
            "_dom_classes": [],
            "description": "",
            "_model_name": "HTMLModel",
            "placeholder": "​",
            "_view_module": "@jupyter-widgets/controls",
            "_model_module_version": "1.5.0",
            "value": "",
            "_view_count": null,
            "_view_module_version": "1.5.0",
            "description_tooltip": null,
            "_model_module": "@jupyter-widgets/controls",
            "layout": "IPY_MODEL_5379a340e9af44309265e745ece509e8"
          }
        },
        "aefa4a68f5e24732814290093749268e": {
          "model_module": "@jupyter-widgets/controls",
          "model_name": "FloatProgressModel",
          "model_module_version": "1.5.0",
          "state": {
            "_view_name": "ProgressView",
            "style": "IPY_MODEL_878c9eec1680418aa60add4852f23cf1",
            "_dom_classes": [],
            "description": "",
            "_model_name": "FloatProgressModel",
            "bar_style": "info",
            "max": 1,
            "_view_module": "@jupyter-widgets/controls",
            "_model_module_version": "1.5.0",
            "value": 1,
            "_view_count": null,
            "_view_module_version": "1.5.0",
            "orientation": "horizontal",
            "min": 0,
            "description_tooltip": null,
            "_model_module": "@jupyter-widgets/controls",
            "layout": "IPY_MODEL_4a3a07fbaeb04e128ef5cd2513c30f17"
          }
        },
        "e919d3d8cef547e0906e1791fae8025f": {
          "model_module": "@jupyter-widgets/controls",
          "model_name": "HTMLModel",
          "model_module_version": "1.5.0",
          "state": {
            "_view_name": "HTMLView",
            "style": "IPY_MODEL_fd212285be254d42a238efb10402de8b",
            "_dom_classes": [],
            "description": "",
            "_model_name": "HTMLModel",
            "placeholder": "​",
            "_view_module": "@jupyter-widgets/controls",
            "_model_module_version": "1.5.0",
            "value": " 49926/0 [00:24&lt;00:00, 2707.27 examples/s]",
            "_view_count": null,
            "_view_module_version": "1.5.0",
            "description_tooltip": null,
            "_model_module": "@jupyter-widgets/controls",
            "layout": "IPY_MODEL_6f5fa61cffd54dd69496b80e29f69b60"
          }
        },
        "29f29da15f824605bfff0297274abbd0": {
          "model_module": "@jupyter-widgets/controls",
          "model_name": "DescriptionStyleModel",
          "model_module_version": "1.5.0",
          "state": {
            "_view_name": "StyleView",
            "_model_name": "DescriptionStyleModel",
            "description_width": "",
            "_view_module": "@jupyter-widgets/base",
            "_model_module_version": "1.5.0",
            "_view_count": null,
            "_view_module_version": "1.2.0",
            "_model_module": "@jupyter-widgets/controls"
          }
        },
        "5379a340e9af44309265e745ece509e8": {
          "model_module": "@jupyter-widgets/base",
          "model_name": "LayoutModel",
          "model_module_version": "1.2.0",
          "state": {
            "_view_name": "LayoutView",
            "grid_template_rows": null,
            "right": null,
            "justify_content": null,
            "_view_module": "@jupyter-widgets/base",
            "overflow": null,
            "_model_module_version": "1.2.0",
            "_view_count": null,
            "flex_flow": null,
            "width": null,
            "min_width": null,
            "border": null,
            "align_items": null,
            "bottom": null,
            "_model_module": "@jupyter-widgets/base",
            "top": null,
            "grid_column": null,
            "overflow_y": null,
            "overflow_x": null,
            "grid_auto_flow": null,
            "grid_area": null,
            "grid_template_columns": null,
            "flex": null,
            "_model_name": "LayoutModel",
            "justify_items": null,
            "grid_row": null,
            "max_height": null,
            "align_content": null,
            "visibility": null,
            "align_self": null,
            "height": null,
            "min_height": null,
            "padding": null,
            "grid_auto_rows": null,
            "grid_gap": null,
            "max_width": null,
            "order": null,
            "_view_module_version": "1.2.0",
            "grid_template_areas": null,
            "object_position": null,
            "object_fit": null,
            "grid_auto_columns": null,
            "margin": null,
            "display": null,
            "left": null
          }
        },
        "878c9eec1680418aa60add4852f23cf1": {
          "model_module": "@jupyter-widgets/controls",
          "model_name": "ProgressStyleModel",
          "model_module_version": "1.5.0",
          "state": {
            "_view_name": "StyleView",
            "_model_name": "ProgressStyleModel",
            "description_width": "",
            "_view_module": "@jupyter-widgets/base",
            "_model_module_version": "1.5.0",
            "_view_count": null,
            "_view_module_version": "1.2.0",
            "bar_color": null,
            "_model_module": "@jupyter-widgets/controls"
          }
        },
        "4a3a07fbaeb04e128ef5cd2513c30f17": {
          "model_module": "@jupyter-widgets/base",
          "model_name": "LayoutModel",
          "model_module_version": "1.2.0",
          "state": {
            "_view_name": "LayoutView",
            "grid_template_rows": null,
            "right": null,
            "justify_content": null,
            "_view_module": "@jupyter-widgets/base",
            "overflow": null,
            "_model_module_version": "1.2.0",
            "_view_count": null,
            "flex_flow": null,
            "width": "20px",
            "min_width": null,
            "border": null,
            "align_items": null,
            "bottom": null,
            "_model_module": "@jupyter-widgets/base",
            "top": null,
            "grid_column": null,
            "overflow_y": null,
            "overflow_x": null,
            "grid_auto_flow": null,
            "grid_area": null,
            "grid_template_columns": null,
            "flex": null,
            "_model_name": "LayoutModel",
            "justify_items": null,
            "grid_row": null,
            "max_height": null,
            "align_content": null,
            "visibility": null,
            "align_self": null,
            "height": null,
            "min_height": null,
            "padding": null,
            "grid_auto_rows": null,
            "grid_gap": null,
            "max_width": null,
            "order": null,
            "_view_module_version": "1.2.0",
            "grid_template_areas": null,
            "object_position": null,
            "object_fit": null,
            "grid_auto_columns": null,
            "margin": null,
            "display": null,
            "left": null
          }
        },
        "fd212285be254d42a238efb10402de8b": {
          "model_module": "@jupyter-widgets/controls",
          "model_name": "DescriptionStyleModel",
          "model_module_version": "1.5.0",
          "state": {
            "_view_name": "StyleView",
            "_model_name": "DescriptionStyleModel",
            "description_width": "",
            "_view_module": "@jupyter-widgets/base",
            "_model_module_version": "1.5.0",
            "_view_count": null,
            "_view_module_version": "1.2.0",
            "_model_module": "@jupyter-widgets/controls"
          }
        },
        "6f5fa61cffd54dd69496b80e29f69b60": {
          "model_module": "@jupyter-widgets/base",
          "model_name": "LayoutModel",
          "model_module_version": "1.2.0",
          "state": {
            "_view_name": "LayoutView",
            "grid_template_rows": null,
            "right": null,
            "justify_content": null,
            "_view_module": "@jupyter-widgets/base",
            "overflow": null,
            "_model_module_version": "1.2.0",
            "_view_count": null,
            "flex_flow": null,
            "width": null,
            "min_width": null,
            "border": null,
            "align_items": null,
            "bottom": null,
            "_model_module": "@jupyter-widgets/base",
            "top": null,
            "grid_column": null,
            "overflow_y": null,
            "overflow_x": null,
            "grid_auto_flow": null,
            "grid_area": null,
            "grid_template_columns": null,
            "flex": null,
            "_model_name": "LayoutModel",
            "justify_items": null,
            "grid_row": null,
            "max_height": null,
            "align_content": null,
            "visibility": null,
            "align_self": null,
            "height": null,
            "min_height": null,
            "padding": null,
            "grid_auto_rows": null,
            "grid_gap": null,
            "max_width": null,
            "order": null,
            "_view_module_version": "1.2.0",
            "grid_template_areas": null,
            "object_position": null,
            "object_fit": null,
            "grid_auto_columns": null,
            "margin": null,
            "display": null,
            "left": null
          }
        },
        "ff67f972a7594a5eb208afb66f9260fd": {
          "model_module": "@jupyter-widgets/controls",
          "model_name": "HBoxModel",
          "model_module_version": "1.5.0",
          "state": {
            "_view_name": "HBoxView",
            "_dom_classes": [],
            "_model_name": "HBoxModel",
            "_view_module": "@jupyter-widgets/controls",
            "_model_module_version": "1.5.0",
            "_view_count": null,
            "_view_module_version": "1.5.0",
            "box_style": "",
            "layout": "IPY_MODEL_00bffb70990840dba6b9b9424ced1ba0",
            "_model_module": "@jupyter-widgets/controls",
            "children": [
              "IPY_MODEL_459328a47a114c278611aca46e293736",
              "IPY_MODEL_ca87249699f0416895f0edeaa80edc26",
              "IPY_MODEL_ec66185a31ea4655be480c243953401f"
            ]
          }
        },
        "00bffb70990840dba6b9b9424ced1ba0": {
          "model_module": "@jupyter-widgets/base",
          "model_name": "LayoutModel",
          "model_module_version": "1.2.0",
          "state": {
            "_view_name": "LayoutView",
            "grid_template_rows": null,
            "right": null,
            "justify_content": null,
            "_view_module": "@jupyter-widgets/base",
            "overflow": null,
            "_model_module_version": "1.2.0",
            "_view_count": null,
            "flex_flow": null,
            "width": null,
            "min_width": null,
            "border": null,
            "align_items": null,
            "bottom": null,
            "_model_module": "@jupyter-widgets/base",
            "top": null,
            "grid_column": null,
            "overflow_y": null,
            "overflow_x": null,
            "grid_auto_flow": null,
            "grid_area": null,
            "grid_template_columns": null,
            "flex": null,
            "_model_name": "LayoutModel",
            "justify_items": null,
            "grid_row": null,
            "max_height": null,
            "align_content": null,
            "visibility": null,
            "align_self": null,
            "height": null,
            "min_height": null,
            "padding": null,
            "grid_auto_rows": null,
            "grid_gap": null,
            "max_width": null,
            "order": null,
            "_view_module_version": "1.2.0",
            "grid_template_areas": null,
            "object_position": null,
            "object_fit": null,
            "grid_auto_columns": null,
            "margin": null,
            "display": null,
            "left": null
          }
        },
        "459328a47a114c278611aca46e293736": {
          "model_module": "@jupyter-widgets/controls",
          "model_name": "HTMLModel",
          "model_module_version": "1.5.0",
          "state": {
            "_view_name": "HTMLView",
            "style": "IPY_MODEL_c9c82dca002143bf97d8ec0af787a4d1",
            "_dom_classes": [],
            "description": "",
            "_model_name": "HTMLModel",
            "placeholder": "​",
            "_view_module": "@jupyter-widgets/controls",
            "_model_module_version": "1.5.0",
            "value": "100%",
            "_view_count": null,
            "_view_module_version": "1.5.0",
            "description_tooltip": null,
            "_model_module": "@jupyter-widgets/controls",
            "layout": "IPY_MODEL_10d635cb3b1e43bf8af3ccd42678e469"
          }
        },
        "ca87249699f0416895f0edeaa80edc26": {
          "model_module": "@jupyter-widgets/controls",
          "model_name": "FloatProgressModel",
          "model_module_version": "1.5.0",
          "state": {
            "_view_name": "ProgressView",
            "style": "IPY_MODEL_4cfbe40c03da4479bd84eb0a458cde8e",
            "_dom_classes": [],
            "description": "",
            "_model_name": "FloatProgressModel",
            "bar_style": "danger",
            "max": 50000,
            "_view_module": "@jupyter-widgets/controls",
            "_model_module_version": "1.5.0",
            "value": 49999,
            "_view_count": null,
            "_view_module_version": "1.5.0",
            "orientation": "horizontal",
            "min": 0,
            "description_tooltip": null,
            "_model_module": "@jupyter-widgets/controls",
            "layout": "IPY_MODEL_6867e0c05be5456ea2b0c9912c418aa0"
          }
        },
        "ec66185a31ea4655be480c243953401f": {
          "model_module": "@jupyter-widgets/controls",
          "model_name": "HTMLModel",
          "model_module_version": "1.5.0",
          "state": {
            "_view_name": "HTMLView",
            "style": "IPY_MODEL_5fdd5b3018e04a09b39cab2f80d97923",
            "_dom_classes": [],
            "description": "",
            "_model_name": "HTMLModel",
            "placeholder": "​",
            "_view_module": "@jupyter-widgets/controls",
            "_model_module_version": "1.5.0",
            "value": " 49999/50000 [00:00&lt;00:00, 140653.45 examples/s]",
            "_view_count": null,
            "_view_module_version": "1.5.0",
            "description_tooltip": null,
            "_model_module": "@jupyter-widgets/controls",
            "layout": "IPY_MODEL_145884ad2a464e12a7fb7cd198daf351"
          }
        },
        "c9c82dca002143bf97d8ec0af787a4d1": {
          "model_module": "@jupyter-widgets/controls",
          "model_name": "DescriptionStyleModel",
          "model_module_version": "1.5.0",
          "state": {
            "_view_name": "StyleView",
            "_model_name": "DescriptionStyleModel",
            "description_width": "",
            "_view_module": "@jupyter-widgets/base",
            "_model_module_version": "1.5.0",
            "_view_count": null,
            "_view_module_version": "1.2.0",
            "_model_module": "@jupyter-widgets/controls"
          }
        },
        "10d635cb3b1e43bf8af3ccd42678e469": {
          "model_module": "@jupyter-widgets/base",
          "model_name": "LayoutModel",
          "model_module_version": "1.2.0",
          "state": {
            "_view_name": "LayoutView",
            "grid_template_rows": null,
            "right": null,
            "justify_content": null,
            "_view_module": "@jupyter-widgets/base",
            "overflow": null,
            "_model_module_version": "1.2.0",
            "_view_count": null,
            "flex_flow": null,
            "width": null,
            "min_width": null,
            "border": null,
            "align_items": null,
            "bottom": null,
            "_model_module": "@jupyter-widgets/base",
            "top": null,
            "grid_column": null,
            "overflow_y": null,
            "overflow_x": null,
            "grid_auto_flow": null,
            "grid_area": null,
            "grid_template_columns": null,
            "flex": null,
            "_model_name": "LayoutModel",
            "justify_items": null,
            "grid_row": null,
            "max_height": null,
            "align_content": null,
            "visibility": null,
            "align_self": null,
            "height": null,
            "min_height": null,
            "padding": null,
            "grid_auto_rows": null,
            "grid_gap": null,
            "max_width": null,
            "order": null,
            "_view_module_version": "1.2.0",
            "grid_template_areas": null,
            "object_position": null,
            "object_fit": null,
            "grid_auto_columns": null,
            "margin": null,
            "display": null,
            "left": null
          }
        },
        "4cfbe40c03da4479bd84eb0a458cde8e": {
          "model_module": "@jupyter-widgets/controls",
          "model_name": "ProgressStyleModel",
          "model_module_version": "1.5.0",
          "state": {
            "_view_name": "StyleView",
            "_model_name": "ProgressStyleModel",
            "description_width": "",
            "_view_module": "@jupyter-widgets/base",
            "_model_module_version": "1.5.0",
            "_view_count": null,
            "_view_module_version": "1.2.0",
            "bar_color": null,
            "_model_module": "@jupyter-widgets/controls"
          }
        },
        "6867e0c05be5456ea2b0c9912c418aa0": {
          "model_module": "@jupyter-widgets/base",
          "model_name": "LayoutModel",
          "model_module_version": "1.2.0",
          "state": {
            "_view_name": "LayoutView",
            "grid_template_rows": null,
            "right": null,
            "justify_content": null,
            "_view_module": "@jupyter-widgets/base",
            "overflow": null,
            "_model_module_version": "1.2.0",
            "_view_count": null,
            "flex_flow": null,
            "width": null,
            "min_width": null,
            "border": null,
            "align_items": null,
            "bottom": null,
            "_model_module": "@jupyter-widgets/base",
            "top": null,
            "grid_column": null,
            "overflow_y": null,
            "overflow_x": null,
            "grid_auto_flow": null,
            "grid_area": null,
            "grid_template_columns": null,
            "flex": null,
            "_model_name": "LayoutModel",
            "justify_items": null,
            "grid_row": null,
            "max_height": null,
            "align_content": null,
            "visibility": null,
            "align_self": null,
            "height": null,
            "min_height": null,
            "padding": null,
            "grid_auto_rows": null,
            "grid_gap": null,
            "max_width": null,
            "order": null,
            "_view_module_version": "1.2.0",
            "grid_template_areas": null,
            "object_position": null,
            "object_fit": null,
            "grid_auto_columns": null,
            "margin": null,
            "display": null,
            "left": null
          }
        },
        "5fdd5b3018e04a09b39cab2f80d97923": {
          "model_module": "@jupyter-widgets/controls",
          "model_name": "DescriptionStyleModel",
          "model_module_version": "1.5.0",
          "state": {
            "_view_name": "StyleView",
            "_model_name": "DescriptionStyleModel",
            "description_width": "",
            "_view_module": "@jupyter-widgets/base",
            "_model_module_version": "1.5.0",
            "_view_count": null,
            "_view_module_version": "1.2.0",
            "_model_module": "@jupyter-widgets/controls"
          }
        },
        "145884ad2a464e12a7fb7cd198daf351": {
          "model_module": "@jupyter-widgets/base",
          "model_name": "LayoutModel",
          "model_module_version": "1.2.0",
          "state": {
            "_view_name": "LayoutView",
            "grid_template_rows": null,
            "right": null,
            "justify_content": null,
            "_view_module": "@jupyter-widgets/base",
            "overflow": null,
            "_model_module_version": "1.2.0",
            "_view_count": null,
            "flex_flow": null,
            "width": null,
            "min_width": null,
            "border": null,
            "align_items": null,
            "bottom": null,
            "_model_module": "@jupyter-widgets/base",
            "top": null,
            "grid_column": null,
            "overflow_y": null,
            "overflow_x": null,
            "grid_auto_flow": null,
            "grid_area": null,
            "grid_template_columns": null,
            "flex": null,
            "_model_name": "LayoutModel",
            "justify_items": null,
            "grid_row": null,
            "max_height": null,
            "align_content": null,
            "visibility": null,
            "align_self": null,
            "height": null,
            "min_height": null,
            "padding": null,
            "grid_auto_rows": null,
            "grid_gap": null,
            "max_width": null,
            "order": null,
            "_view_module_version": "1.2.0",
            "grid_template_areas": null,
            "object_position": null,
            "object_fit": null,
            "grid_auto_columns": null,
            "margin": null,
            "display": null,
            "left": null
          }
        },
        "c39cec4ab23f4abb91be891837d7b132": {
          "model_module": "@jupyter-widgets/controls",
          "model_name": "HBoxModel",
          "model_module_version": "1.5.0",
          "state": {
            "_view_name": "HBoxView",
            "_dom_classes": [],
            "_model_name": "HBoxModel",
            "_view_module": "@jupyter-widgets/controls",
            "_model_module_version": "1.5.0",
            "_view_count": null,
            "_view_module_version": "1.5.0",
            "box_style": "",
            "layout": "IPY_MODEL_5cde04f8ee1a49eda8d97d8f86043ceb",
            "_model_module": "@jupyter-widgets/controls",
            "children": [
              "IPY_MODEL_143479e4a23f458f89b24c009f476689",
              "IPY_MODEL_dfb13f701fb342309b2dff5f13aba6d5",
              "IPY_MODEL_031c1e201ce74222999fc8f1b14c7a01"
            ]
          }
        },
        "5cde04f8ee1a49eda8d97d8f86043ceb": {
          "model_module": "@jupyter-widgets/base",
          "model_name": "LayoutModel",
          "model_module_version": "1.2.0",
          "state": {
            "_view_name": "LayoutView",
            "grid_template_rows": null,
            "right": null,
            "justify_content": null,
            "_view_module": "@jupyter-widgets/base",
            "overflow": null,
            "_model_module_version": "1.2.0",
            "_view_count": null,
            "flex_flow": null,
            "width": null,
            "min_width": null,
            "border": null,
            "align_items": null,
            "bottom": null,
            "_model_module": "@jupyter-widgets/base",
            "top": null,
            "grid_column": null,
            "overflow_y": null,
            "overflow_x": null,
            "grid_auto_flow": null,
            "grid_area": null,
            "grid_template_columns": null,
            "flex": null,
            "_model_name": "LayoutModel",
            "justify_items": null,
            "grid_row": null,
            "max_height": null,
            "align_content": null,
            "visibility": null,
            "align_self": null,
            "height": null,
            "min_height": null,
            "padding": null,
            "grid_auto_rows": null,
            "grid_gap": null,
            "max_width": null,
            "order": null,
            "_view_module_version": "1.2.0",
            "grid_template_areas": null,
            "object_position": null,
            "object_fit": null,
            "grid_auto_columns": null,
            "margin": null,
            "display": null,
            "left": null
          }
        },
        "143479e4a23f458f89b24c009f476689": {
          "model_module": "@jupyter-widgets/controls",
          "model_name": "HTMLModel",
          "model_module_version": "1.5.0",
          "state": {
            "_view_name": "HTMLView",
            "style": "IPY_MODEL_6393fa125d8d47488be0f6e21868cd8b",
            "_dom_classes": [],
            "description": "",
            "_model_name": "HTMLModel",
            "placeholder": "​",
            "_view_module": "@jupyter-widgets/controls",
            "_model_module_version": "1.5.0",
            "value": "Downloading: 100%",
            "_view_count": null,
            "_view_module_version": "1.5.0",
            "description_tooltip": null,
            "_model_module": "@jupyter-widgets/controls",
            "layout": "IPY_MODEL_8eddc13e91f04eab8f6ea82d22df02d9"
          }
        },
        "dfb13f701fb342309b2dff5f13aba6d5": {
          "model_module": "@jupyter-widgets/controls",
          "model_name": "FloatProgressModel",
          "model_module_version": "1.5.0",
          "state": {
            "_view_name": "ProgressView",
            "style": "IPY_MODEL_5db6c00ddbcc436685e3b22c46eddb9c",
            "_dom_classes": [],
            "description": "",
            "_model_name": "FloatProgressModel",
            "bar_style": "success",
            "max": 28,
            "_view_module": "@jupyter-widgets/controls",
            "_model_module_version": "1.5.0",
            "value": 28,
            "_view_count": null,
            "_view_module_version": "1.5.0",
            "orientation": "horizontal",
            "min": 0,
            "description_tooltip": null,
            "_model_module": "@jupyter-widgets/controls",
            "layout": "IPY_MODEL_c95d0fa95b184d2781114f2894c6872b"
          }
        },
        "031c1e201ce74222999fc8f1b14c7a01": {
          "model_module": "@jupyter-widgets/controls",
          "model_name": "HTMLModel",
          "model_module_version": "1.5.0",
          "state": {
            "_view_name": "HTMLView",
            "style": "IPY_MODEL_5b00cc866e6940d9af6c8b3b05fd45b5",
            "_dom_classes": [],
            "description": "",
            "_model_name": "HTMLModel",
            "placeholder": "​",
            "_view_module": "@jupyter-widgets/controls",
            "_model_module_version": "1.5.0",
            "value": " 28.0/28.0 [00:00&lt;00:00, 520B/s]",
            "_view_count": null,
            "_view_module_version": "1.5.0",
            "description_tooltip": null,
            "_model_module": "@jupyter-widgets/controls",
            "layout": "IPY_MODEL_31a4cab4d39a42ebb938cba026588d35"
          }
        },
        "6393fa125d8d47488be0f6e21868cd8b": {
          "model_module": "@jupyter-widgets/controls",
          "model_name": "DescriptionStyleModel",
          "model_module_version": "1.5.0",
          "state": {
            "_view_name": "StyleView",
            "_model_name": "DescriptionStyleModel",
            "description_width": "",
            "_view_module": "@jupyter-widgets/base",
            "_model_module_version": "1.5.0",
            "_view_count": null,
            "_view_module_version": "1.2.0",
            "_model_module": "@jupyter-widgets/controls"
          }
        },
        "8eddc13e91f04eab8f6ea82d22df02d9": {
          "model_module": "@jupyter-widgets/base",
          "model_name": "LayoutModel",
          "model_module_version": "1.2.0",
          "state": {
            "_view_name": "LayoutView",
            "grid_template_rows": null,
            "right": null,
            "justify_content": null,
            "_view_module": "@jupyter-widgets/base",
            "overflow": null,
            "_model_module_version": "1.2.0",
            "_view_count": null,
            "flex_flow": null,
            "width": null,
            "min_width": null,
            "border": null,
            "align_items": null,
            "bottom": null,
            "_model_module": "@jupyter-widgets/base",
            "top": null,
            "grid_column": null,
            "overflow_y": null,
            "overflow_x": null,
            "grid_auto_flow": null,
            "grid_area": null,
            "grid_template_columns": null,
            "flex": null,
            "_model_name": "LayoutModel",
            "justify_items": null,
            "grid_row": null,
            "max_height": null,
            "align_content": null,
            "visibility": null,
            "align_self": null,
            "height": null,
            "min_height": null,
            "padding": null,
            "grid_auto_rows": null,
            "grid_gap": null,
            "max_width": null,
            "order": null,
            "_view_module_version": "1.2.0",
            "grid_template_areas": null,
            "object_position": null,
            "object_fit": null,
            "grid_auto_columns": null,
            "margin": null,
            "display": null,
            "left": null
          }
        },
        "5db6c00ddbcc436685e3b22c46eddb9c": {
          "model_module": "@jupyter-widgets/controls",
          "model_name": "ProgressStyleModel",
          "model_module_version": "1.5.0",
          "state": {
            "_view_name": "StyleView",
            "_model_name": "ProgressStyleModel",
            "description_width": "",
            "_view_module": "@jupyter-widgets/base",
            "_model_module_version": "1.5.0",
            "_view_count": null,
            "_view_module_version": "1.2.0",
            "bar_color": null,
            "_model_module": "@jupyter-widgets/controls"
          }
        },
        "c95d0fa95b184d2781114f2894c6872b": {
          "model_module": "@jupyter-widgets/base",
          "model_name": "LayoutModel",
          "model_module_version": "1.2.0",
          "state": {
            "_view_name": "LayoutView",
            "grid_template_rows": null,
            "right": null,
            "justify_content": null,
            "_view_module": "@jupyter-widgets/base",
            "overflow": null,
            "_model_module_version": "1.2.0",
            "_view_count": null,
            "flex_flow": null,
            "width": null,
            "min_width": null,
            "border": null,
            "align_items": null,
            "bottom": null,
            "_model_module": "@jupyter-widgets/base",
            "top": null,
            "grid_column": null,
            "overflow_y": null,
            "overflow_x": null,
            "grid_auto_flow": null,
            "grid_area": null,
            "grid_template_columns": null,
            "flex": null,
            "_model_name": "LayoutModel",
            "justify_items": null,
            "grid_row": null,
            "max_height": null,
            "align_content": null,
            "visibility": null,
            "align_self": null,
            "height": null,
            "min_height": null,
            "padding": null,
            "grid_auto_rows": null,
            "grid_gap": null,
            "max_width": null,
            "order": null,
            "_view_module_version": "1.2.0",
            "grid_template_areas": null,
            "object_position": null,
            "object_fit": null,
            "grid_auto_columns": null,
            "margin": null,
            "display": null,
            "left": null
          }
        },
        "5b00cc866e6940d9af6c8b3b05fd45b5": {
          "model_module": "@jupyter-widgets/controls",
          "model_name": "DescriptionStyleModel",
          "model_module_version": "1.5.0",
          "state": {
            "_view_name": "StyleView",
            "_model_name": "DescriptionStyleModel",
            "description_width": "",
            "_view_module": "@jupyter-widgets/base",
            "_model_module_version": "1.5.0",
            "_view_count": null,
            "_view_module_version": "1.2.0",
            "_model_module": "@jupyter-widgets/controls"
          }
        },
        "31a4cab4d39a42ebb938cba026588d35": {
          "model_module": "@jupyter-widgets/base",
          "model_name": "LayoutModel",
          "model_module_version": "1.2.0",
          "state": {
            "_view_name": "LayoutView",
            "grid_template_rows": null,
            "right": null,
            "justify_content": null,
            "_view_module": "@jupyter-widgets/base",
            "overflow": null,
            "_model_module_version": "1.2.0",
            "_view_count": null,
            "flex_flow": null,
            "width": null,
            "min_width": null,
            "border": null,
            "align_items": null,
            "bottom": null,
            "_model_module": "@jupyter-widgets/base",
            "top": null,
            "grid_column": null,
            "overflow_y": null,
            "overflow_x": null,
            "grid_auto_flow": null,
            "grid_area": null,
            "grid_template_columns": null,
            "flex": null,
            "_model_name": "LayoutModel",
            "justify_items": null,
            "grid_row": null,
            "max_height": null,
            "align_content": null,
            "visibility": null,
            "align_self": null,
            "height": null,
            "min_height": null,
            "padding": null,
            "grid_auto_rows": null,
            "grid_gap": null,
            "max_width": null,
            "order": null,
            "_view_module_version": "1.2.0",
            "grid_template_areas": null,
            "object_position": null,
            "object_fit": null,
            "grid_auto_columns": null,
            "margin": null,
            "display": null,
            "left": null
          }
        },
        "824fb528bb234fc79294a8d297c7b139": {
          "model_module": "@jupyter-widgets/controls",
          "model_name": "HBoxModel",
          "model_module_version": "1.5.0",
          "state": {
            "_view_name": "HBoxView",
            "_dom_classes": [],
            "_model_name": "HBoxModel",
            "_view_module": "@jupyter-widgets/controls",
            "_model_module_version": "1.5.0",
            "_view_count": null,
            "_view_module_version": "1.5.0",
            "box_style": "",
            "layout": "IPY_MODEL_f100f7fcca764272b951374c3fbbf2ad",
            "_model_module": "@jupyter-widgets/controls",
            "children": [
              "IPY_MODEL_7a94ccf9bd024da1bea6f4d0fb22ed67",
              "IPY_MODEL_9822eee50baf43a4a6d636cf1bf317fd",
              "IPY_MODEL_001027733cfd433793b070a707822888"
            ]
          }
        },
        "f100f7fcca764272b951374c3fbbf2ad": {
          "model_module": "@jupyter-widgets/base",
          "model_name": "LayoutModel",
          "model_module_version": "1.2.0",
          "state": {
            "_view_name": "LayoutView",
            "grid_template_rows": null,
            "right": null,
            "justify_content": null,
            "_view_module": "@jupyter-widgets/base",
            "overflow": null,
            "_model_module_version": "1.2.0",
            "_view_count": null,
            "flex_flow": null,
            "width": null,
            "min_width": null,
            "border": null,
            "align_items": null,
            "bottom": null,
            "_model_module": "@jupyter-widgets/base",
            "top": null,
            "grid_column": null,
            "overflow_y": null,
            "overflow_x": null,
            "grid_auto_flow": null,
            "grid_area": null,
            "grid_template_columns": null,
            "flex": null,
            "_model_name": "LayoutModel",
            "justify_items": null,
            "grid_row": null,
            "max_height": null,
            "align_content": null,
            "visibility": null,
            "align_self": null,
            "height": null,
            "min_height": null,
            "padding": null,
            "grid_auto_rows": null,
            "grid_gap": null,
            "max_width": null,
            "order": null,
            "_view_module_version": "1.2.0",
            "grid_template_areas": null,
            "object_position": null,
            "object_fit": null,
            "grid_auto_columns": null,
            "margin": null,
            "display": null,
            "left": null
          }
        },
        "7a94ccf9bd024da1bea6f4d0fb22ed67": {
          "model_module": "@jupyter-widgets/controls",
          "model_name": "HTMLModel",
          "model_module_version": "1.5.0",
          "state": {
            "_view_name": "HTMLView",
            "style": "IPY_MODEL_6034799ede2c48f7a9f9ce5ee8a7eb0a",
            "_dom_classes": [],
            "description": "",
            "_model_name": "HTMLModel",
            "placeholder": "​",
            "_view_module": "@jupyter-widgets/controls",
            "_model_module_version": "1.5.0",
            "value": "Downloading: 100%",
            "_view_count": null,
            "_view_module_version": "1.5.0",
            "description_tooltip": null,
            "_model_module": "@jupyter-widgets/controls",
            "layout": "IPY_MODEL_9749b1e261724970a21973391ffb646e"
          }
        },
        "9822eee50baf43a4a6d636cf1bf317fd": {
          "model_module": "@jupyter-widgets/controls",
          "model_name": "FloatProgressModel",
          "model_module_version": "1.5.0",
          "state": {
            "_view_name": "ProgressView",
            "style": "IPY_MODEL_12828a3ff7454b6391e27e03984f4105",
            "_dom_classes": [],
            "description": "",
            "_model_name": "FloatProgressModel",
            "bar_style": "success",
            "max": 231508,
            "_view_module": "@jupyter-widgets/controls",
            "_model_module_version": "1.5.0",
            "value": 231508,
            "_view_count": null,
            "_view_module_version": "1.5.0",
            "orientation": "horizontal",
            "min": 0,
            "description_tooltip": null,
            "_model_module": "@jupyter-widgets/controls",
            "layout": "IPY_MODEL_379db3e7da8e40548e74c899d3170148"
          }
        },
        "001027733cfd433793b070a707822888": {
          "model_module": "@jupyter-widgets/controls",
          "model_name": "HTMLModel",
          "model_module_version": "1.5.0",
          "state": {
            "_view_name": "HTMLView",
            "style": "IPY_MODEL_b07668d579844278b039746785942f64",
            "_dom_classes": [],
            "description": "",
            "_model_name": "HTMLModel",
            "placeholder": "​",
            "_view_module": "@jupyter-widgets/controls",
            "_model_module_version": "1.5.0",
            "value": " 226k/226k [00:00&lt;00:00, 682kB/s]",
            "_view_count": null,
            "_view_module_version": "1.5.0",
            "description_tooltip": null,
            "_model_module": "@jupyter-widgets/controls",
            "layout": "IPY_MODEL_70f3daac4fa64f9d87f05f7ccd6e5e6b"
          }
        },
        "6034799ede2c48f7a9f9ce5ee8a7eb0a": {
          "model_module": "@jupyter-widgets/controls",
          "model_name": "DescriptionStyleModel",
          "model_module_version": "1.5.0",
          "state": {
            "_view_name": "StyleView",
            "_model_name": "DescriptionStyleModel",
            "description_width": "",
            "_view_module": "@jupyter-widgets/base",
            "_model_module_version": "1.5.0",
            "_view_count": null,
            "_view_module_version": "1.2.0",
            "_model_module": "@jupyter-widgets/controls"
          }
        },
        "9749b1e261724970a21973391ffb646e": {
          "model_module": "@jupyter-widgets/base",
          "model_name": "LayoutModel",
          "model_module_version": "1.2.0",
          "state": {
            "_view_name": "LayoutView",
            "grid_template_rows": null,
            "right": null,
            "justify_content": null,
            "_view_module": "@jupyter-widgets/base",
            "overflow": null,
            "_model_module_version": "1.2.0",
            "_view_count": null,
            "flex_flow": null,
            "width": null,
            "min_width": null,
            "border": null,
            "align_items": null,
            "bottom": null,
            "_model_module": "@jupyter-widgets/base",
            "top": null,
            "grid_column": null,
            "overflow_y": null,
            "overflow_x": null,
            "grid_auto_flow": null,
            "grid_area": null,
            "grid_template_columns": null,
            "flex": null,
            "_model_name": "LayoutModel",
            "justify_items": null,
            "grid_row": null,
            "max_height": null,
            "align_content": null,
            "visibility": null,
            "align_self": null,
            "height": null,
            "min_height": null,
            "padding": null,
            "grid_auto_rows": null,
            "grid_gap": null,
            "max_width": null,
            "order": null,
            "_view_module_version": "1.2.0",
            "grid_template_areas": null,
            "object_position": null,
            "object_fit": null,
            "grid_auto_columns": null,
            "margin": null,
            "display": null,
            "left": null
          }
        },
        "12828a3ff7454b6391e27e03984f4105": {
          "model_module": "@jupyter-widgets/controls",
          "model_name": "ProgressStyleModel",
          "model_module_version": "1.5.0",
          "state": {
            "_view_name": "StyleView",
            "_model_name": "ProgressStyleModel",
            "description_width": "",
            "_view_module": "@jupyter-widgets/base",
            "_model_module_version": "1.5.0",
            "_view_count": null,
            "_view_module_version": "1.2.0",
            "bar_color": null,
            "_model_module": "@jupyter-widgets/controls"
          }
        },
        "379db3e7da8e40548e74c899d3170148": {
          "model_module": "@jupyter-widgets/base",
          "model_name": "LayoutModel",
          "model_module_version": "1.2.0",
          "state": {
            "_view_name": "LayoutView",
            "grid_template_rows": null,
            "right": null,
            "justify_content": null,
            "_view_module": "@jupyter-widgets/base",
            "overflow": null,
            "_model_module_version": "1.2.0",
            "_view_count": null,
            "flex_flow": null,
            "width": null,
            "min_width": null,
            "border": null,
            "align_items": null,
            "bottom": null,
            "_model_module": "@jupyter-widgets/base",
            "top": null,
            "grid_column": null,
            "overflow_y": null,
            "overflow_x": null,
            "grid_auto_flow": null,
            "grid_area": null,
            "grid_template_columns": null,
            "flex": null,
            "_model_name": "LayoutModel",
            "justify_items": null,
            "grid_row": null,
            "max_height": null,
            "align_content": null,
            "visibility": null,
            "align_self": null,
            "height": null,
            "min_height": null,
            "padding": null,
            "grid_auto_rows": null,
            "grid_gap": null,
            "max_width": null,
            "order": null,
            "_view_module_version": "1.2.0",
            "grid_template_areas": null,
            "object_position": null,
            "object_fit": null,
            "grid_auto_columns": null,
            "margin": null,
            "display": null,
            "left": null
          }
        },
        "b07668d579844278b039746785942f64": {
          "model_module": "@jupyter-widgets/controls",
          "model_name": "DescriptionStyleModel",
          "model_module_version": "1.5.0",
          "state": {
            "_view_name": "StyleView",
            "_model_name": "DescriptionStyleModel",
            "description_width": "",
            "_view_module": "@jupyter-widgets/base",
            "_model_module_version": "1.5.0",
            "_view_count": null,
            "_view_module_version": "1.2.0",
            "_model_module": "@jupyter-widgets/controls"
          }
        },
        "70f3daac4fa64f9d87f05f7ccd6e5e6b": {
          "model_module": "@jupyter-widgets/base",
          "model_name": "LayoutModel",
          "model_module_version": "1.2.0",
          "state": {
            "_view_name": "LayoutView",
            "grid_template_rows": null,
            "right": null,
            "justify_content": null,
            "_view_module": "@jupyter-widgets/base",
            "overflow": null,
            "_model_module_version": "1.2.0",
            "_view_count": null,
            "flex_flow": null,
            "width": null,
            "min_width": null,
            "border": null,
            "align_items": null,
            "bottom": null,
            "_model_module": "@jupyter-widgets/base",
            "top": null,
            "grid_column": null,
            "overflow_y": null,
            "overflow_x": null,
            "grid_auto_flow": null,
            "grid_area": null,
            "grid_template_columns": null,
            "flex": null,
            "_model_name": "LayoutModel",
            "justify_items": null,
            "grid_row": null,
            "max_height": null,
            "align_content": null,
            "visibility": null,
            "align_self": null,
            "height": null,
            "min_height": null,
            "padding": null,
            "grid_auto_rows": null,
            "grid_gap": null,
            "max_width": null,
            "order": null,
            "_view_module_version": "1.2.0",
            "grid_template_areas": null,
            "object_position": null,
            "object_fit": null,
            "grid_auto_columns": null,
            "margin": null,
            "display": null,
            "left": null
          }
        },
        "1a780268e4c04fdc8220b600ec71ec2a": {
          "model_module": "@jupyter-widgets/controls",
          "model_name": "HBoxModel",
          "model_module_version": "1.5.0",
          "state": {
            "_view_name": "HBoxView",
            "_dom_classes": [],
            "_model_name": "HBoxModel",
            "_view_module": "@jupyter-widgets/controls",
            "_model_module_version": "1.5.0",
            "_view_count": null,
            "_view_module_version": "1.5.0",
            "box_style": "",
            "layout": "IPY_MODEL_0cc206257d8d4e4894d029b4c9ba9c89",
            "_model_module": "@jupyter-widgets/controls",
            "children": [
              "IPY_MODEL_932d7a287155498986574cce6aeb9b52",
              "IPY_MODEL_ff5baf9b7825402ab7cfe90cf2f1dae1",
              "IPY_MODEL_9fc6b9b02c0d4e7ab54c3d6118d6266e"
            ]
          }
        },
        "0cc206257d8d4e4894d029b4c9ba9c89": {
          "model_module": "@jupyter-widgets/base",
          "model_name": "LayoutModel",
          "model_module_version": "1.2.0",
          "state": {
            "_view_name": "LayoutView",
            "grid_template_rows": null,
            "right": null,
            "justify_content": null,
            "_view_module": "@jupyter-widgets/base",
            "overflow": null,
            "_model_module_version": "1.2.0",
            "_view_count": null,
            "flex_flow": null,
            "width": null,
            "min_width": null,
            "border": null,
            "align_items": null,
            "bottom": null,
            "_model_module": "@jupyter-widgets/base",
            "top": null,
            "grid_column": null,
            "overflow_y": null,
            "overflow_x": null,
            "grid_auto_flow": null,
            "grid_area": null,
            "grid_template_columns": null,
            "flex": null,
            "_model_name": "LayoutModel",
            "justify_items": null,
            "grid_row": null,
            "max_height": null,
            "align_content": null,
            "visibility": null,
            "align_self": null,
            "height": null,
            "min_height": null,
            "padding": null,
            "grid_auto_rows": null,
            "grid_gap": null,
            "max_width": null,
            "order": null,
            "_view_module_version": "1.2.0",
            "grid_template_areas": null,
            "object_position": null,
            "object_fit": null,
            "grid_auto_columns": null,
            "margin": null,
            "display": null,
            "left": null
          }
        },
        "932d7a287155498986574cce6aeb9b52": {
          "model_module": "@jupyter-widgets/controls",
          "model_name": "HTMLModel",
          "model_module_version": "1.5.0",
          "state": {
            "_view_name": "HTMLView",
            "style": "IPY_MODEL_87b6958292d444168e9cd290c3396255",
            "_dom_classes": [],
            "description": "",
            "_model_name": "HTMLModel",
            "placeholder": "​",
            "_view_module": "@jupyter-widgets/controls",
            "_model_module_version": "1.5.0",
            "value": "Downloading: 100%",
            "_view_count": null,
            "_view_module_version": "1.5.0",
            "description_tooltip": null,
            "_model_module": "@jupyter-widgets/controls",
            "layout": "IPY_MODEL_fa223c138bca47d8ac3eb7145301fa64"
          }
        },
        "ff5baf9b7825402ab7cfe90cf2f1dae1": {
          "model_module": "@jupyter-widgets/controls",
          "model_name": "FloatProgressModel",
          "model_module_version": "1.5.0",
          "state": {
            "_view_name": "ProgressView",
            "style": "IPY_MODEL_8bce88b1351b4aa4b800a027404d2dda",
            "_dom_classes": [],
            "description": "",
            "_model_name": "FloatProgressModel",
            "bar_style": "success",
            "max": 466062,
            "_view_module": "@jupyter-widgets/controls",
            "_model_module_version": "1.5.0",
            "value": 466062,
            "_view_count": null,
            "_view_module_version": "1.5.0",
            "orientation": "horizontal",
            "min": 0,
            "description_tooltip": null,
            "_model_module": "@jupyter-widgets/controls",
            "layout": "IPY_MODEL_877f957440f742c29ad9934b5934ee5b"
          }
        },
        "9fc6b9b02c0d4e7ab54c3d6118d6266e": {
          "model_module": "@jupyter-widgets/controls",
          "model_name": "HTMLModel",
          "model_module_version": "1.5.0",
          "state": {
            "_view_name": "HTMLView",
            "style": "IPY_MODEL_34abb8a8c2404f659f014af5568ffbde",
            "_dom_classes": [],
            "description": "",
            "_model_name": "HTMLModel",
            "placeholder": "​",
            "_view_module": "@jupyter-widgets/controls",
            "_model_module_version": "1.5.0",
            "value": " 455k/455k [00:00&lt;00:00, 632kB/s]",
            "_view_count": null,
            "_view_module_version": "1.5.0",
            "description_tooltip": null,
            "_model_module": "@jupyter-widgets/controls",
            "layout": "IPY_MODEL_d88e11489c134b81a6b694179ed838c9"
          }
        },
        "87b6958292d444168e9cd290c3396255": {
          "model_module": "@jupyter-widgets/controls",
          "model_name": "DescriptionStyleModel",
          "model_module_version": "1.5.0",
          "state": {
            "_view_name": "StyleView",
            "_model_name": "DescriptionStyleModel",
            "description_width": "",
            "_view_module": "@jupyter-widgets/base",
            "_model_module_version": "1.5.0",
            "_view_count": null,
            "_view_module_version": "1.2.0",
            "_model_module": "@jupyter-widgets/controls"
          }
        },
        "fa223c138bca47d8ac3eb7145301fa64": {
          "model_module": "@jupyter-widgets/base",
          "model_name": "LayoutModel",
          "model_module_version": "1.2.0",
          "state": {
            "_view_name": "LayoutView",
            "grid_template_rows": null,
            "right": null,
            "justify_content": null,
            "_view_module": "@jupyter-widgets/base",
            "overflow": null,
            "_model_module_version": "1.2.0",
            "_view_count": null,
            "flex_flow": null,
            "width": null,
            "min_width": null,
            "border": null,
            "align_items": null,
            "bottom": null,
            "_model_module": "@jupyter-widgets/base",
            "top": null,
            "grid_column": null,
            "overflow_y": null,
            "overflow_x": null,
            "grid_auto_flow": null,
            "grid_area": null,
            "grid_template_columns": null,
            "flex": null,
            "_model_name": "LayoutModel",
            "justify_items": null,
            "grid_row": null,
            "max_height": null,
            "align_content": null,
            "visibility": null,
            "align_self": null,
            "height": null,
            "min_height": null,
            "padding": null,
            "grid_auto_rows": null,
            "grid_gap": null,
            "max_width": null,
            "order": null,
            "_view_module_version": "1.2.0",
            "grid_template_areas": null,
            "object_position": null,
            "object_fit": null,
            "grid_auto_columns": null,
            "margin": null,
            "display": null,
            "left": null
          }
        },
        "8bce88b1351b4aa4b800a027404d2dda": {
          "model_module": "@jupyter-widgets/controls",
          "model_name": "ProgressStyleModel",
          "model_module_version": "1.5.0",
          "state": {
            "_view_name": "StyleView",
            "_model_name": "ProgressStyleModel",
            "description_width": "",
            "_view_module": "@jupyter-widgets/base",
            "_model_module_version": "1.5.0",
            "_view_count": null,
            "_view_module_version": "1.2.0",
            "bar_color": null,
            "_model_module": "@jupyter-widgets/controls"
          }
        },
        "877f957440f742c29ad9934b5934ee5b": {
          "model_module": "@jupyter-widgets/base",
          "model_name": "LayoutModel",
          "model_module_version": "1.2.0",
          "state": {
            "_view_name": "LayoutView",
            "grid_template_rows": null,
            "right": null,
            "justify_content": null,
            "_view_module": "@jupyter-widgets/base",
            "overflow": null,
            "_model_module_version": "1.2.0",
            "_view_count": null,
            "flex_flow": null,
            "width": null,
            "min_width": null,
            "border": null,
            "align_items": null,
            "bottom": null,
            "_model_module": "@jupyter-widgets/base",
            "top": null,
            "grid_column": null,
            "overflow_y": null,
            "overflow_x": null,
            "grid_auto_flow": null,
            "grid_area": null,
            "grid_template_columns": null,
            "flex": null,
            "_model_name": "LayoutModel",
            "justify_items": null,
            "grid_row": null,
            "max_height": null,
            "align_content": null,
            "visibility": null,
            "align_self": null,
            "height": null,
            "min_height": null,
            "padding": null,
            "grid_auto_rows": null,
            "grid_gap": null,
            "max_width": null,
            "order": null,
            "_view_module_version": "1.2.0",
            "grid_template_areas": null,
            "object_position": null,
            "object_fit": null,
            "grid_auto_columns": null,
            "margin": null,
            "display": null,
            "left": null
          }
        },
        "34abb8a8c2404f659f014af5568ffbde": {
          "model_module": "@jupyter-widgets/controls",
          "model_name": "DescriptionStyleModel",
          "model_module_version": "1.5.0",
          "state": {
            "_view_name": "StyleView",
            "_model_name": "DescriptionStyleModel",
            "description_width": "",
            "_view_module": "@jupyter-widgets/base",
            "_model_module_version": "1.5.0",
            "_view_count": null,
            "_view_module_version": "1.2.0",
            "_model_module": "@jupyter-widgets/controls"
          }
        },
        "d88e11489c134b81a6b694179ed838c9": {
          "model_module": "@jupyter-widgets/base",
          "model_name": "LayoutModel",
          "model_module_version": "1.2.0",
          "state": {
            "_view_name": "LayoutView",
            "grid_template_rows": null,
            "right": null,
            "justify_content": null,
            "_view_module": "@jupyter-widgets/base",
            "overflow": null,
            "_model_module_version": "1.2.0",
            "_view_count": null,
            "flex_flow": null,
            "width": null,
            "min_width": null,
            "border": null,
            "align_items": null,
            "bottom": null,
            "_model_module": "@jupyter-widgets/base",
            "top": null,
            "grid_column": null,
            "overflow_y": null,
            "overflow_x": null,
            "grid_auto_flow": null,
            "grid_area": null,
            "grid_template_columns": null,
            "flex": null,
            "_model_name": "LayoutModel",
            "justify_items": null,
            "grid_row": null,
            "max_height": null,
            "align_content": null,
            "visibility": null,
            "align_self": null,
            "height": null,
            "min_height": null,
            "padding": null,
            "grid_auto_rows": null,
            "grid_gap": null,
            "max_width": null,
            "order": null,
            "_view_module_version": "1.2.0",
            "grid_template_areas": null,
            "object_position": null,
            "object_fit": null,
            "grid_auto_columns": null,
            "margin": null,
            "display": null,
            "left": null
          }
        },
        "d6fe1fd760a544aba3ec88e4ea2291a7": {
          "model_module": "@jupyter-widgets/controls",
          "model_name": "HBoxModel",
          "model_module_version": "1.5.0",
          "state": {
            "_view_name": "HBoxView",
            "_dom_classes": [],
            "_model_name": "HBoxModel",
            "_view_module": "@jupyter-widgets/controls",
            "_model_module_version": "1.5.0",
            "_view_count": null,
            "_view_module_version": "1.5.0",
            "box_style": "",
            "layout": "IPY_MODEL_d27bc4a3560d4e348cbb5ca0f3d7ec77",
            "_model_module": "@jupyter-widgets/controls",
            "children": [
              "IPY_MODEL_10f7ed1d31ec408cb4819a5e5ed839c4",
              "IPY_MODEL_191bd26e12d34de192856ca0679a95a7",
              "IPY_MODEL_a50d0cc26658449090b4d049e6a08554"
            ]
          }
        },
        "d27bc4a3560d4e348cbb5ca0f3d7ec77": {
          "model_module": "@jupyter-widgets/base",
          "model_name": "LayoutModel",
          "model_module_version": "1.2.0",
          "state": {
            "_view_name": "LayoutView",
            "grid_template_rows": null,
            "right": null,
            "justify_content": null,
            "_view_module": "@jupyter-widgets/base",
            "overflow": null,
            "_model_module_version": "1.2.0",
            "_view_count": null,
            "flex_flow": null,
            "width": null,
            "min_width": null,
            "border": null,
            "align_items": null,
            "bottom": null,
            "_model_module": "@jupyter-widgets/base",
            "top": null,
            "grid_column": null,
            "overflow_y": null,
            "overflow_x": null,
            "grid_auto_flow": null,
            "grid_area": null,
            "grid_template_columns": null,
            "flex": null,
            "_model_name": "LayoutModel",
            "justify_items": null,
            "grid_row": null,
            "max_height": null,
            "align_content": null,
            "visibility": null,
            "align_self": null,
            "height": null,
            "min_height": null,
            "padding": null,
            "grid_auto_rows": null,
            "grid_gap": null,
            "max_width": null,
            "order": null,
            "_view_module_version": "1.2.0",
            "grid_template_areas": null,
            "object_position": null,
            "object_fit": null,
            "grid_auto_columns": null,
            "margin": null,
            "display": null,
            "left": null
          }
        },
        "10f7ed1d31ec408cb4819a5e5ed839c4": {
          "model_module": "@jupyter-widgets/controls",
          "model_name": "HTMLModel",
          "model_module_version": "1.5.0",
          "state": {
            "_view_name": "HTMLView",
            "style": "IPY_MODEL_42ddd9dc015d48669315dd4d2b9478b5",
            "_dom_classes": [],
            "description": "",
            "_model_name": "HTMLModel",
            "placeholder": "​",
            "_view_module": "@jupyter-widgets/controls",
            "_model_module_version": "1.5.0",
            "value": "Downloading: 100%",
            "_view_count": null,
            "_view_module_version": "1.5.0",
            "description_tooltip": null,
            "_model_module": "@jupyter-widgets/controls",
            "layout": "IPY_MODEL_75a86dcccea14b9194be67956993606a"
          }
        },
        "191bd26e12d34de192856ca0679a95a7": {
          "model_module": "@jupyter-widgets/controls",
          "model_name": "FloatProgressModel",
          "model_module_version": "1.5.0",
          "state": {
            "_view_name": "ProgressView",
            "style": "IPY_MODEL_3dcc3c8c61254a338268c393818ec39b",
            "_dom_classes": [],
            "description": "",
            "_model_name": "FloatProgressModel",
            "bar_style": "success",
            "max": 570,
            "_view_module": "@jupyter-widgets/controls",
            "_model_module_version": "1.5.0",
            "value": 570,
            "_view_count": null,
            "_view_module_version": "1.5.0",
            "orientation": "horizontal",
            "min": 0,
            "description_tooltip": null,
            "_model_module": "@jupyter-widgets/controls",
            "layout": "IPY_MODEL_61a9c4cd8942405898a638a21ba8e517"
          }
        },
        "a50d0cc26658449090b4d049e6a08554": {
          "model_module": "@jupyter-widgets/controls",
          "model_name": "HTMLModel",
          "model_module_version": "1.5.0",
          "state": {
            "_view_name": "HTMLView",
            "style": "IPY_MODEL_93e07ae5478f41f29e4a0001eeea963b",
            "_dom_classes": [],
            "description": "",
            "_model_name": "HTMLModel",
            "placeholder": "​",
            "_view_module": "@jupyter-widgets/controls",
            "_model_module_version": "1.5.0",
            "value": " 570/570 [00:00&lt;00:00, 8.97kB/s]",
            "_view_count": null,
            "_view_module_version": "1.5.0",
            "description_tooltip": null,
            "_model_module": "@jupyter-widgets/controls",
            "layout": "IPY_MODEL_91615b185eff4bfa9fa12ced97f8a544"
          }
        },
        "42ddd9dc015d48669315dd4d2b9478b5": {
          "model_module": "@jupyter-widgets/controls",
          "model_name": "DescriptionStyleModel",
          "model_module_version": "1.5.0",
          "state": {
            "_view_name": "StyleView",
            "_model_name": "DescriptionStyleModel",
            "description_width": "",
            "_view_module": "@jupyter-widgets/base",
            "_model_module_version": "1.5.0",
            "_view_count": null,
            "_view_module_version": "1.2.0",
            "_model_module": "@jupyter-widgets/controls"
          }
        },
        "75a86dcccea14b9194be67956993606a": {
          "model_module": "@jupyter-widgets/base",
          "model_name": "LayoutModel",
          "model_module_version": "1.2.0",
          "state": {
            "_view_name": "LayoutView",
            "grid_template_rows": null,
            "right": null,
            "justify_content": null,
            "_view_module": "@jupyter-widgets/base",
            "overflow": null,
            "_model_module_version": "1.2.0",
            "_view_count": null,
            "flex_flow": null,
            "width": null,
            "min_width": null,
            "border": null,
            "align_items": null,
            "bottom": null,
            "_model_module": "@jupyter-widgets/base",
            "top": null,
            "grid_column": null,
            "overflow_y": null,
            "overflow_x": null,
            "grid_auto_flow": null,
            "grid_area": null,
            "grid_template_columns": null,
            "flex": null,
            "_model_name": "LayoutModel",
            "justify_items": null,
            "grid_row": null,
            "max_height": null,
            "align_content": null,
            "visibility": null,
            "align_self": null,
            "height": null,
            "min_height": null,
            "padding": null,
            "grid_auto_rows": null,
            "grid_gap": null,
            "max_width": null,
            "order": null,
            "_view_module_version": "1.2.0",
            "grid_template_areas": null,
            "object_position": null,
            "object_fit": null,
            "grid_auto_columns": null,
            "margin": null,
            "display": null,
            "left": null
          }
        },
        "3dcc3c8c61254a338268c393818ec39b": {
          "model_module": "@jupyter-widgets/controls",
          "model_name": "ProgressStyleModel",
          "model_module_version": "1.5.0",
          "state": {
            "_view_name": "StyleView",
            "_model_name": "ProgressStyleModel",
            "description_width": "",
            "_view_module": "@jupyter-widgets/base",
            "_model_module_version": "1.5.0",
            "_view_count": null,
            "_view_module_version": "1.2.0",
            "bar_color": null,
            "_model_module": "@jupyter-widgets/controls"
          }
        },
        "61a9c4cd8942405898a638a21ba8e517": {
          "model_module": "@jupyter-widgets/base",
          "model_name": "LayoutModel",
          "model_module_version": "1.2.0",
          "state": {
            "_view_name": "LayoutView",
            "grid_template_rows": null,
            "right": null,
            "justify_content": null,
            "_view_module": "@jupyter-widgets/base",
            "overflow": null,
            "_model_module_version": "1.2.0",
            "_view_count": null,
            "flex_flow": null,
            "width": null,
            "min_width": null,
            "border": null,
            "align_items": null,
            "bottom": null,
            "_model_module": "@jupyter-widgets/base",
            "top": null,
            "grid_column": null,
            "overflow_y": null,
            "overflow_x": null,
            "grid_auto_flow": null,
            "grid_area": null,
            "grid_template_columns": null,
            "flex": null,
            "_model_name": "LayoutModel",
            "justify_items": null,
            "grid_row": null,
            "max_height": null,
            "align_content": null,
            "visibility": null,
            "align_self": null,
            "height": null,
            "min_height": null,
            "padding": null,
            "grid_auto_rows": null,
            "grid_gap": null,
            "max_width": null,
            "order": null,
            "_view_module_version": "1.2.0",
            "grid_template_areas": null,
            "object_position": null,
            "object_fit": null,
            "grid_auto_columns": null,
            "margin": null,
            "display": null,
            "left": null
          }
        },
        "93e07ae5478f41f29e4a0001eeea963b": {
          "model_module": "@jupyter-widgets/controls",
          "model_name": "DescriptionStyleModel",
          "model_module_version": "1.5.0",
          "state": {
            "_view_name": "StyleView",
            "_model_name": "DescriptionStyleModel",
            "description_width": "",
            "_view_module": "@jupyter-widgets/base",
            "_model_module_version": "1.5.0",
            "_view_count": null,
            "_view_module_version": "1.2.0",
            "_model_module": "@jupyter-widgets/controls"
          }
        },
        "91615b185eff4bfa9fa12ced97f8a544": {
          "model_module": "@jupyter-widgets/base",
          "model_name": "LayoutModel",
          "model_module_version": "1.2.0",
          "state": {
            "_view_name": "LayoutView",
            "grid_template_rows": null,
            "right": null,
            "justify_content": null,
            "_view_module": "@jupyter-widgets/base",
            "overflow": null,
            "_model_module_version": "1.2.0",
            "_view_count": null,
            "flex_flow": null,
            "width": null,
            "min_width": null,
            "border": null,
            "align_items": null,
            "bottom": null,
            "_model_module": "@jupyter-widgets/base",
            "top": null,
            "grid_column": null,
            "overflow_y": null,
            "overflow_x": null,
            "grid_auto_flow": null,
            "grid_area": null,
            "grid_template_columns": null,
            "flex": null,
            "_model_name": "LayoutModel",
            "justify_items": null,
            "grid_row": null,
            "max_height": null,
            "align_content": null,
            "visibility": null,
            "align_self": null,
            "height": null,
            "min_height": null,
            "padding": null,
            "grid_auto_rows": null,
            "grid_gap": null,
            "max_width": null,
            "order": null,
            "_view_module_version": "1.2.0",
            "grid_template_areas": null,
            "object_position": null,
            "object_fit": null,
            "grid_auto_columns": null,
            "margin": null,
            "display": null,
            "left": null
          }
        }
      }
    }
  },
  "cells": [
    {
      "cell_type": "markdown",
      "metadata": {
        "id": "view-in-github",
        "colab_type": "text"
      },
      "source": [
        "<a href=\"https://colab.research.google.com/github/sayanbanerjee32/smart-batching-transformer/blob/main/Smart_Batching_BERT.ipynb\" target=\"_parent\"><img src=\"https://colab.research.google.com/assets/colab-badge.svg\" alt=\"Open In Colab\"/></a>"
      ]
    },
    {
      "cell_type": "markdown",
      "metadata": {
        "id": "Y-RBPRl43usv"
      },
      "source": [
        "# Introduction"
      ]
    },
    {
      "cell_type": "markdown",
      "metadata": {
        "id": "Lr5OzVxdc85k"
      },
      "source": [
        "In this Notebook, I'll demonstrate how to dramatically increase BERT's training time by creating batches of samples with different sequence lengths. \n",
        "\n",
        "I learned this technique from Michaël Benesty in his excellent blog post [here](https://towardsdatascience.com/divide-hugging-face-transformers-training-time-by-2-or-more-21bf7129db9q-21bf7129db9e), and used key pieces of his implementation ([here](https://gist.github.com/pommedeterresautee/1a334b665710bec9bb65965f662c94c8)) in this Notebook. \n",
        "\n",
        "> Michaël's code is designed to make use of the new `Trainer` class in the `transformers` library, and makes use of many helper classes from PyTorch and transformers. Unfortunately, the `transformers` library appears to have broken compatibility with his code, and it no longer runs. \n",
        "\n",
        "> I've taken a more manual approach in this Notebook, and I think it turned out well, especially for illustrating the technique.\n",
        "\n"
      ]
    },
    {
      "cell_type": "markdown",
      "metadata": {
        "id": "WgwZMTRN2OfF"
      },
      "source": [
        "### Why We Pad\n"
      ]
    },
    {
      "cell_type": "markdown",
      "metadata": {
        "id": "FLmgAlcNDaR3"
      },
      "source": [
        "\n",
        "GPUs are much more efficient when we can give them multiple training samples to work on in parallel, so we give them a \"batch\" of samples.\n",
        "\n",
        "In order for the GPU to operate on a batch, however, all of the inputs need to be of the same length. To address this, we pad all of our input sequences to be a single fixed length.\n",
        "\n",
        "We also provide the model with an \"attention mask\" for each sample, which identifies the `[PAD]` tokens and tells BERT to ignore them. \n",
        "\n",
        "*Side Note: In my experience, it seems that the [PAD] tokens may in fact have some* small *effect on the model. I'd have to look closely at how the attention mask is implemented to understand this better.* \n",
        "\n",
        "Below are some example sentences from a French dataset that have been tokenized with a French BERT model called CamemBERT. For the sake of illustration, let's say that our dataset only consists of these 12 sentences, and we're dividing them into 3 batches of 4 samples each.\n",
        "\n",
        "![Fixed Padding Length](https://drive.google.com/uc?export=view&id=1UaVW3gxTSAD0E9CrCX48kn6QF_L_slP9)\n",
        "\n",
        "In order to feed multiple samples into BERT at once, we are padding out all of the sentences to a length of 14 (to match the length of the longest sentence(s) in the dataset).\n",
        "\n",
        "This is the standard approach that I've used in all of my examples, and it's certainly the simplest to implement, code-wise.\n",
        "\n",
        "\n",
        "\n",
        "\n"
      ]
    },
    {
      "cell_type": "markdown",
      "metadata": {
        "id": "MMVDieLwz-f5"
      },
      "source": [
        "### Dynamic Padding \n"
      ]
    },
    {
      "cell_type": "markdown",
      "metadata": {
        "id": "_6vwHS0A9qq4"
      },
      "source": [
        "\n",
        "\n",
        "While the attention mask ensures that the `[PAD]` tokens don't influence BERT's *interpretation* of the text, the `[PAD]` tokens are still fully included in all of the mathematical operations that BERT is performing. This means they *do*  impact our *speed* for training and evaluation. \n",
        "\n",
        "And although all of the samples *within a batch* need to be of the same length, BERT doesn't care what length that is, and we can feed it batches of text with different maximum lengths!\n",
        "\n",
        "(If you think about it, there's nowhere in our code that we ever explicitly tell BERT what sequence length to expect from us. We pad our dataset to whatever length we want, and BERT processes it just fine).\n",
        "\n",
        "![Dynamic padding](https://drive.google.com/uc?export=view&id=1UfJJ2sj1w6prvwQPwyqbQCgJbJ9qIC9V)\n",
        "\n",
        "So, if we're willing to get more sophisticated with our code, we can customize our padding for each batch. This shouldn't have any impact on our accuracy, and Michaël confirmed this with his experiments.\n"
      ]
    },
    {
      "cell_type": "markdown",
      "metadata": {
        "id": "MELBfexO1QzA"
      },
      "source": [
        "### Uniform Length Batching\n"
      ]
    },
    {
      "cell_type": "markdown",
      "metadata": {
        "id": "Yd1jPxX-9tCH"
      },
      "source": [
        "\n",
        "We can go a step further, and sort our dataset by length before creating the batches, to be even more efficient.\n",
        "\n",
        "![Uniform Length Batching](https://drive.google.com/uc?export=view&id=1UjQaOAkN-zPh10fSoXmZ-68jMdFLq2y_)\n",
        "\n",
        "*Note: In the above illustration I've selected the batches in sequence, but we'll actually be selecting them more randomly, to allow for more randomness to the order of the training data.*\n",
        "\n",
        "Michael's experiments also support the intuition that this technique shouldn't adversely impact performance.\n",
        "\n",
        "For the rest of the notebook, I'll just refer to the combination of these two techniques as \"smart batching\"!"
      ]
    },
    {
      "cell_type": "markdown",
      "metadata": {
        "id": "iiMLQi1y7a8N"
      },
      "source": [
        "Note: You can view the results of Michael's experiments on \"Weights and Biases\" [here](https://app.wandb.ai/pommedeterresautee/speed_training/reports/Divide-HuggingFace-Transformers-training-times-by-2-or-more-with-dynamic-padding-and-uniform-length-batching--VmlldzoxMDgzOTI)."
      ]
    },
    {
      "cell_type": "markdown",
      "metadata": {
        "id": "f38X8ryC7pvD"
      },
      "source": [
        "# S1. Setup"
      ]
    },
    {
      "cell_type": "markdown",
      "metadata": {
        "id": "T9PJns-a7srE"
      },
      "source": [
        "## 1.1. Install transformers"
      ]
    },
    {
      "cell_type": "code",
      "metadata": {
        "id": "-XeR8Sbz0B5x",
        "colab": {
          "base_uri": "https://localhost:8080/"
        },
        "outputId": "e81493a6-480b-44b3-ef77-06ea377c3388"
      },
      "source": [
        "!pip install transformers"
      ],
      "execution_count": 3,
      "outputs": [
        {
          "output_type": "stream",
          "name": "stdout",
          "text": [
            "Collecting transformers\n",
            "  Downloading transformers-4.16.2-py3-none-any.whl (3.5 MB)\n",
            "\u001b[?25l\r\u001b[K     |                                | 10 kB 23.9 MB/s eta 0:00:01\r\u001b[K     |▏                               | 20 kB 28.4 MB/s eta 0:00:01\r\u001b[K     |▎                               | 30 kB 20.8 MB/s eta 0:00:01\r\u001b[K     |▍                               | 40 kB 11.3 MB/s eta 0:00:01\r\u001b[K     |▌                               | 51 kB 10.9 MB/s eta 0:00:01\r\u001b[K     |▌                               | 61 kB 12.5 MB/s eta 0:00:01\r\u001b[K     |▋                               | 71 kB 10.5 MB/s eta 0:00:01\r\u001b[K     |▊                               | 81 kB 11.3 MB/s eta 0:00:01\r\u001b[K     |▉                               | 92 kB 12.4 MB/s eta 0:00:01\r\u001b[K     |█                               | 102 kB 11.9 MB/s eta 0:00:01\r\u001b[K     |█                               | 112 kB 11.9 MB/s eta 0:00:01\r\u001b[K     |█                               | 122 kB 11.9 MB/s eta 0:00:01\r\u001b[K     |█▏                              | 133 kB 11.9 MB/s eta 0:00:01\r\u001b[K     |█▎                              | 143 kB 11.9 MB/s eta 0:00:01\r\u001b[K     |█▍                              | 153 kB 11.9 MB/s eta 0:00:01\r\u001b[K     |█▌                              | 163 kB 11.9 MB/s eta 0:00:01\r\u001b[K     |█▋                              | 174 kB 11.9 MB/s eta 0:00:01\r\u001b[K     |█▋                              | 184 kB 11.9 MB/s eta 0:00:01\r\u001b[K     |█▊                              | 194 kB 11.9 MB/s eta 0:00:01\r\u001b[K     |█▉                              | 204 kB 11.9 MB/s eta 0:00:01\r\u001b[K     |██                              | 215 kB 11.9 MB/s eta 0:00:01\r\u001b[K     |██                              | 225 kB 11.9 MB/s eta 0:00:01\r\u001b[K     |██▏                             | 235 kB 11.9 MB/s eta 0:00:01\r\u001b[K     |██▏                             | 245 kB 11.9 MB/s eta 0:00:01\r\u001b[K     |██▎                             | 256 kB 11.9 MB/s eta 0:00:01\r\u001b[K     |██▍                             | 266 kB 11.9 MB/s eta 0:00:01\r\u001b[K     |██▌                             | 276 kB 11.9 MB/s eta 0:00:01\r\u001b[K     |██▋                             | 286 kB 11.9 MB/s eta 0:00:01\r\u001b[K     |██▊                             | 296 kB 11.9 MB/s eta 0:00:01\r\u001b[K     |██▊                             | 307 kB 11.9 MB/s eta 0:00:01\r\u001b[K     |██▉                             | 317 kB 11.9 MB/s eta 0:00:01\r\u001b[K     |███                             | 327 kB 11.9 MB/s eta 0:00:01\r\u001b[K     |███                             | 337 kB 11.9 MB/s eta 0:00:01\r\u001b[K     |███▏                            | 348 kB 11.9 MB/s eta 0:00:01\r\u001b[K     |███▎                            | 358 kB 11.9 MB/s eta 0:00:01\r\u001b[K     |███▎                            | 368 kB 11.9 MB/s eta 0:00:01\r\u001b[K     |███▍                            | 378 kB 11.9 MB/s eta 0:00:01\r\u001b[K     |███▌                            | 389 kB 11.9 MB/s eta 0:00:01\r\u001b[K     |███▋                            | 399 kB 11.9 MB/s eta 0:00:01\r\u001b[K     |███▊                            | 409 kB 11.9 MB/s eta 0:00:01\r\u001b[K     |███▉                            | 419 kB 11.9 MB/s eta 0:00:01\r\u001b[K     |███▉                            | 430 kB 11.9 MB/s eta 0:00:01\r\u001b[K     |████                            | 440 kB 11.9 MB/s eta 0:00:01\r\u001b[K     |████                            | 450 kB 11.9 MB/s eta 0:00:01\r\u001b[K     |████▏                           | 460 kB 11.9 MB/s eta 0:00:01\r\u001b[K     |████▎                           | 471 kB 11.9 MB/s eta 0:00:01\r\u001b[K     |████▍                           | 481 kB 11.9 MB/s eta 0:00:01\r\u001b[K     |████▍                           | 491 kB 11.9 MB/s eta 0:00:01\r\u001b[K     |████▌                           | 501 kB 11.9 MB/s eta 0:00:01\r\u001b[K     |████▋                           | 512 kB 11.9 MB/s eta 0:00:01\r\u001b[K     |████▊                           | 522 kB 11.9 MB/s eta 0:00:01\r\u001b[K     |████▉                           | 532 kB 11.9 MB/s eta 0:00:01\r\u001b[K     |█████                           | 542 kB 11.9 MB/s eta 0:00:01\r\u001b[K     |█████                           | 552 kB 11.9 MB/s eta 0:00:01\r\u001b[K     |█████                           | 563 kB 11.9 MB/s eta 0:00:01\r\u001b[K     |█████▏                          | 573 kB 11.9 MB/s eta 0:00:01\r\u001b[K     |█████▎                          | 583 kB 11.9 MB/s eta 0:00:01\r\u001b[K     |█████▍                          | 593 kB 11.9 MB/s eta 0:00:01\r\u001b[K     |█████▌                          | 604 kB 11.9 MB/s eta 0:00:01\r\u001b[K     |█████▌                          | 614 kB 11.9 MB/s eta 0:00:01\r\u001b[K     |█████▋                          | 624 kB 11.9 MB/s eta 0:00:01\r\u001b[K     |█████▊                          | 634 kB 11.9 MB/s eta 0:00:01\r\u001b[K     |█████▉                          | 645 kB 11.9 MB/s eta 0:00:01\r\u001b[K     |██████                          | 655 kB 11.9 MB/s eta 0:00:01\r\u001b[K     |██████                          | 665 kB 11.9 MB/s eta 0:00:01\r\u001b[K     |██████                          | 675 kB 11.9 MB/s eta 0:00:01\r\u001b[K     |██████▏                         | 686 kB 11.9 MB/s eta 0:00:01\r\u001b[K     |██████▎                         | 696 kB 11.9 MB/s eta 0:00:01\r\u001b[K     |██████▍                         | 706 kB 11.9 MB/s eta 0:00:01\r\u001b[K     |██████▌                         | 716 kB 11.9 MB/s eta 0:00:01\r\u001b[K     |██████▌                         | 727 kB 11.9 MB/s eta 0:00:01\r\u001b[K     |██████▋                         | 737 kB 11.9 MB/s eta 0:00:01\r\u001b[K     |██████▊                         | 747 kB 11.9 MB/s eta 0:00:01\r\u001b[K     |██████▉                         | 757 kB 11.9 MB/s eta 0:00:01\r\u001b[K     |███████                         | 768 kB 11.9 MB/s eta 0:00:01\r\u001b[K     |███████                         | 778 kB 11.9 MB/s eta 0:00:01\r\u001b[K     |███████                         | 788 kB 11.9 MB/s eta 0:00:01\r\u001b[K     |███████▏                        | 798 kB 11.9 MB/s eta 0:00:01\r\u001b[K     |███████▎                        | 808 kB 11.9 MB/s eta 0:00:01\r\u001b[K     |███████▍                        | 819 kB 11.9 MB/s eta 0:00:01\r\u001b[K     |███████▌                        | 829 kB 11.9 MB/s eta 0:00:01\r\u001b[K     |███████▋                        | 839 kB 11.9 MB/s eta 0:00:01\r\u001b[K     |███████▋                        | 849 kB 11.9 MB/s eta 0:00:01\r\u001b[K     |███████▊                        | 860 kB 11.9 MB/s eta 0:00:01\r\u001b[K     |███████▉                        | 870 kB 11.9 MB/s eta 0:00:01\r\u001b[K     |████████                        | 880 kB 11.9 MB/s eta 0:00:01\r\u001b[K     |████████                        | 890 kB 11.9 MB/s eta 0:00:01\r\u001b[K     |████████▏                       | 901 kB 11.9 MB/s eta 0:00:01\r\u001b[K     |████████▏                       | 911 kB 11.9 MB/s eta 0:00:01\r\u001b[K     |████████▎                       | 921 kB 11.9 MB/s eta 0:00:01\r\u001b[K     |████████▍                       | 931 kB 11.9 MB/s eta 0:00:01\r\u001b[K     |████████▌                       | 942 kB 11.9 MB/s eta 0:00:01\r\u001b[K     |████████▋                       | 952 kB 11.9 MB/s eta 0:00:01\r\u001b[K     |████████▊                       | 962 kB 11.9 MB/s eta 0:00:01\r\u001b[K     |████████▊                       | 972 kB 11.9 MB/s eta 0:00:01\r\u001b[K     |████████▉                       | 983 kB 11.9 MB/s eta 0:00:01\r\u001b[K     |█████████                       | 993 kB 11.9 MB/s eta 0:00:01\r\u001b[K     |█████████                       | 1.0 MB 11.9 MB/s eta 0:00:01\r\u001b[K     |█████████▏                      | 1.0 MB 11.9 MB/s eta 0:00:01\r\u001b[K     |█████████▎                      | 1.0 MB 11.9 MB/s eta 0:00:01\r\u001b[K     |█████████▎                      | 1.0 MB 11.9 MB/s eta 0:00:01\r\u001b[K     |█████████▍                      | 1.0 MB 11.9 MB/s eta 0:00:01\r\u001b[K     |█████████▌                      | 1.1 MB 11.9 MB/s eta 0:00:01\r\u001b[K     |█████████▋                      | 1.1 MB 11.9 MB/s eta 0:00:01\r\u001b[K     |█████████▊                      | 1.1 MB 11.9 MB/s eta 0:00:01\r\u001b[K     |█████████▉                      | 1.1 MB 11.9 MB/s eta 0:00:01\r\u001b[K     |█████████▉                      | 1.1 MB 11.9 MB/s eta 0:00:01\r\u001b[K     |██████████                      | 1.1 MB 11.9 MB/s eta 0:00:01\r\u001b[K     |██████████                      | 1.1 MB 11.9 MB/s eta 0:00:01\r\u001b[K     |██████████▏                     | 1.1 MB 11.9 MB/s eta 0:00:01\r\u001b[K     |██████████▎                     | 1.1 MB 11.9 MB/s eta 0:00:01\r\u001b[K     |██████████▍                     | 1.1 MB 11.9 MB/s eta 0:00:01\r\u001b[K     |██████████▍                     | 1.2 MB 11.9 MB/s eta 0:00:01\r\u001b[K     |██████████▌                     | 1.2 MB 11.9 MB/s eta 0:00:01\r\u001b[K     |██████████▋                     | 1.2 MB 11.9 MB/s eta 0:00:01\r\u001b[K     |██████████▊                     | 1.2 MB 11.9 MB/s eta 0:00:01\r\u001b[K     |██████████▉                     | 1.2 MB 11.9 MB/s eta 0:00:01\r\u001b[K     |███████████                     | 1.2 MB 11.9 MB/s eta 0:00:01\r\u001b[K     |███████████                     | 1.2 MB 11.9 MB/s eta 0:00:01\r\u001b[K     |███████████                     | 1.2 MB 11.9 MB/s eta 0:00:01\r\u001b[K     |███████████▏                    | 1.2 MB 11.9 MB/s eta 0:00:01\r\u001b[K     |███████████▎                    | 1.2 MB 11.9 MB/s eta 0:00:01\r\u001b[K     |███████████▍                    | 1.3 MB 11.9 MB/s eta 0:00:01\r\u001b[K     |███████████▌                    | 1.3 MB 11.9 MB/s eta 0:00:01\r\u001b[K     |███████████▌                    | 1.3 MB 11.9 MB/s eta 0:00:01\r\u001b[K     |███████████▋                    | 1.3 MB 11.9 MB/s eta 0:00:01\r\u001b[K     |███████████▊                    | 1.3 MB 11.9 MB/s eta 0:00:01\r\u001b[K     |███████████▉                    | 1.3 MB 11.9 MB/s eta 0:00:01\r\u001b[K     |████████████                    | 1.3 MB 11.9 MB/s eta 0:00:01\r\u001b[K     |████████████                    | 1.3 MB 11.9 MB/s eta 0:00:01\r\u001b[K     |████████████                    | 1.3 MB 11.9 MB/s eta 0:00:01\r\u001b[K     |████████████▏                   | 1.4 MB 11.9 MB/s eta 0:00:01\r\u001b[K     |████████████▎                   | 1.4 MB 11.9 MB/s eta 0:00:01\r\u001b[K     |████████████▍                   | 1.4 MB 11.9 MB/s eta 0:00:01\r\u001b[K     |████████████▌                   | 1.4 MB 11.9 MB/s eta 0:00:01\r\u001b[K     |████████████▋                   | 1.4 MB 11.9 MB/s eta 0:00:01\r\u001b[K     |████████████▋                   | 1.4 MB 11.9 MB/s eta 0:00:01\r\u001b[K     |████████████▊                   | 1.4 MB 11.9 MB/s eta 0:00:01\r\u001b[K     |████████████▉                   | 1.4 MB 11.9 MB/s eta 0:00:01\r\u001b[K     |█████████████                   | 1.4 MB 11.9 MB/s eta 0:00:01\r\u001b[K     |█████████████                   | 1.4 MB 11.9 MB/s eta 0:00:01\r\u001b[K     |█████████████                   | 1.5 MB 11.9 MB/s eta 0:00:01\r\u001b[K     |█████████████▏                  | 1.5 MB 11.9 MB/s eta 0:00:01\r\u001b[K     |█████████████▎                  | 1.5 MB 11.9 MB/s eta 0:00:01\r\u001b[K     |█████████████▍                  | 1.5 MB 11.9 MB/s eta 0:00:01\r\u001b[K     |█████████████▌                  | 1.5 MB 11.9 MB/s eta 0:00:01\r\u001b[K     |█████████████▋                  | 1.5 MB 11.9 MB/s eta 0:00:01\r\u001b[K     |█████████████▋                  | 1.5 MB 11.9 MB/s eta 0:00:01\r\u001b[K     |█████████████▊                  | 1.5 MB 11.9 MB/s eta 0:00:01\r\u001b[K     |█████████████▉                  | 1.5 MB 11.9 MB/s eta 0:00:01\r\u001b[K     |██████████████                  | 1.5 MB 11.9 MB/s eta 0:00:01\r\u001b[K     |██████████████                  | 1.6 MB 11.9 MB/s eta 0:00:01\r\u001b[K     |██████████████▏                 | 1.6 MB 11.9 MB/s eta 0:00:01\r\u001b[K     |██████████████▏                 | 1.6 MB 11.9 MB/s eta 0:00:01\r\u001b[K     |██████████████▎                 | 1.6 MB 11.9 MB/s eta 0:00:01\r\u001b[K     |██████████████▍                 | 1.6 MB 11.9 MB/s eta 0:00:01\r\u001b[K     |██████████████▌                 | 1.6 MB 11.9 MB/s eta 0:00:01\r\u001b[K     |██████████████▋                 | 1.6 MB 11.9 MB/s eta 0:00:01\r\u001b[K     |██████████████▊                 | 1.6 MB 11.9 MB/s eta 0:00:01\r\u001b[K     |██████████████▊                 | 1.6 MB 11.9 MB/s eta 0:00:01\r\u001b[K     |██████████████▉                 | 1.6 MB 11.9 MB/s eta 0:00:01\r\u001b[K     |███████████████                 | 1.7 MB 11.9 MB/s eta 0:00:01\r\u001b[K     |███████████████                 | 1.7 MB 11.9 MB/s eta 0:00:01\r\u001b[K     |███████████████▏                | 1.7 MB 11.9 MB/s eta 0:00:01\r\u001b[K     |███████████████▎                | 1.7 MB 11.9 MB/s eta 0:00:01\r\u001b[K     |███████████████▎                | 1.7 MB 11.9 MB/s eta 0:00:01\r\u001b[K     |███████████████▍                | 1.7 MB 11.9 MB/s eta 0:00:01\r\u001b[K     |███████████████▌                | 1.7 MB 11.9 MB/s eta 0:00:01\r\u001b[K     |███████████████▋                | 1.7 MB 11.9 MB/s eta 0:00:01\r\u001b[K     |███████████████▊                | 1.7 MB 11.9 MB/s eta 0:00:01\r\u001b[K     |███████████████▉                | 1.8 MB 11.9 MB/s eta 0:00:01\r\u001b[K     |███████████████▉                | 1.8 MB 11.9 MB/s eta 0:00:01\r\u001b[K     |████████████████                | 1.8 MB 11.9 MB/s eta 0:00:01\r\u001b[K     |████████████████                | 1.8 MB 11.9 MB/s eta 0:00:01\r\u001b[K     |████████████████▏               | 1.8 MB 11.9 MB/s eta 0:00:01\r\u001b[K     |████████████████▎               | 1.8 MB 11.9 MB/s eta 0:00:01\r\u001b[K     |████████████████▍               | 1.8 MB 11.9 MB/s eta 0:00:01\r\u001b[K     |████████████████▍               | 1.8 MB 11.9 MB/s eta 0:00:01\r\u001b[K     |████████████████▌               | 1.8 MB 11.9 MB/s eta 0:00:01\r\u001b[K     |████████████████▋               | 1.8 MB 11.9 MB/s eta 0:00:01\r\u001b[K     |████████████████▊               | 1.9 MB 11.9 MB/s eta 0:00:01\r\u001b[K     |████████████████▉               | 1.9 MB 11.9 MB/s eta 0:00:01\r\u001b[K     |█████████████████               | 1.9 MB 11.9 MB/s eta 0:00:01\r\u001b[K     |█████████████████               | 1.9 MB 11.9 MB/s eta 0:00:01\r\u001b[K     |█████████████████               | 1.9 MB 11.9 MB/s eta 0:00:01\r\u001b[K     |█████████████████▏              | 1.9 MB 11.9 MB/s eta 0:00:01\r\u001b[K     |█████████████████▎              | 1.9 MB 11.9 MB/s eta 0:00:01\r\u001b[K     |█████████████████▍              | 1.9 MB 11.9 MB/s eta 0:00:01\r\u001b[K     |█████████████████▌              | 1.9 MB 11.9 MB/s eta 0:00:01\r\u001b[K     |█████████████████▌              | 1.9 MB 11.9 MB/s eta 0:00:01\r\u001b[K     |█████████████████▋              | 2.0 MB 11.9 MB/s eta 0:00:01\r\u001b[K     |█████████████████▊              | 2.0 MB 11.9 MB/s eta 0:00:01\r\u001b[K     |█████████████████▉              | 2.0 MB 11.9 MB/s eta 0:00:01\r\u001b[K     |██████████████████              | 2.0 MB 11.9 MB/s eta 0:00:01\r\u001b[K     |██████████████████              | 2.0 MB 11.9 MB/s eta 0:00:01\r\u001b[K     |██████████████████              | 2.0 MB 11.9 MB/s eta 0:00:01\r\u001b[K     |██████████████████▏             | 2.0 MB 11.9 MB/s eta 0:00:01\r\u001b[K     |██████████████████▎             | 2.0 MB 11.9 MB/s eta 0:00:01\r\u001b[K     |██████████████████▍             | 2.0 MB 11.9 MB/s eta 0:00:01\r\u001b[K     |██████████████████▌             | 2.0 MB 11.9 MB/s eta 0:00:01\r\u001b[K     |██████████████████▋             | 2.1 MB 11.9 MB/s eta 0:00:01\r\u001b[K     |██████████████████▋             | 2.1 MB 11.9 MB/s eta 0:00:01\r\u001b[K     |██████████████████▊             | 2.1 MB 11.9 MB/s eta 0:00:01\r\u001b[K     |██████████████████▉             | 2.1 MB 11.9 MB/s eta 0:00:01\r\u001b[K     |███████████████████             | 2.1 MB 11.9 MB/s eta 0:00:01\r\u001b[K     |███████████████████             | 2.1 MB 11.9 MB/s eta 0:00:01\r\u001b[K     |███████████████████▏            | 2.1 MB 11.9 MB/s eta 0:00:01\r\u001b[K     |███████████████████▏            | 2.1 MB 11.9 MB/s eta 0:00:01\r\u001b[K     |███████████████████▎            | 2.1 MB 11.9 MB/s eta 0:00:01\r\u001b[K     |███████████████████▍            | 2.2 MB 11.9 MB/s eta 0:00:01\r\u001b[K     |███████████████████▌            | 2.2 MB 11.9 MB/s eta 0:00:01\r\u001b[K     |███████████████████▋            | 2.2 MB 11.9 MB/s eta 0:00:01\r\u001b[K     |███████████████████▋            | 2.2 MB 11.9 MB/s eta 0:00:01\r\u001b[K     |███████████████████▊            | 2.2 MB 11.9 MB/s eta 0:00:01\r\u001b[K     |███████████████████▉            | 2.2 MB 11.9 MB/s eta 0:00:01\r\u001b[K     |████████████████████            | 2.2 MB 11.9 MB/s eta 0:00:01\r\u001b[K     |████████████████████            | 2.2 MB 11.9 MB/s eta 0:00:01\r\u001b[K     |████████████████████▏           | 2.2 MB 11.9 MB/s eta 0:00:01\r\u001b[K     |████████████████████▏           | 2.2 MB 11.9 MB/s eta 0:00:01\r\u001b[K     |████████████████████▎           | 2.3 MB 11.9 MB/s eta 0:00:01\r\u001b[K     |████████████████████▍           | 2.3 MB 11.9 MB/s eta 0:00:01\r\u001b[K     |████████████████████▌           | 2.3 MB 11.9 MB/s eta 0:00:01\r\u001b[K     |████████████████████▋           | 2.3 MB 11.9 MB/s eta 0:00:01\r\u001b[K     |████████████████████▊           | 2.3 MB 11.9 MB/s eta 0:00:01\r\u001b[K     |████████████████████▊           | 2.3 MB 11.9 MB/s eta 0:00:01\r\u001b[K     |████████████████████▉           | 2.3 MB 11.9 MB/s eta 0:00:01\r\u001b[K     |█████████████████████           | 2.3 MB 11.9 MB/s eta 0:00:01\r\u001b[K     |█████████████████████           | 2.3 MB 11.9 MB/s eta 0:00:01\r\u001b[K     |█████████████████████▏          | 2.3 MB 11.9 MB/s eta 0:00:01\r\u001b[K     |█████████████████████▎          | 2.4 MB 11.9 MB/s eta 0:00:01\r\u001b[K     |█████████████████████▎          | 2.4 MB 11.9 MB/s eta 0:00:01\r\u001b[K     |█████████████████████▍          | 2.4 MB 11.9 MB/s eta 0:00:01\r\u001b[K     |█████████████████████▌          | 2.4 MB 11.9 MB/s eta 0:00:01\r\u001b[K     |█████████████████████▋          | 2.4 MB 11.9 MB/s eta 0:00:01\r\u001b[K     |█████████████████████▊          | 2.4 MB 11.9 MB/s eta 0:00:01\r\u001b[K     |█████████████████████▉          | 2.4 MB 11.9 MB/s eta 0:00:01\r\u001b[K     |█████████████████████▉          | 2.4 MB 11.9 MB/s eta 0:00:01\r\u001b[K     |██████████████████████          | 2.4 MB 11.9 MB/s eta 0:00:01\r\u001b[K     |██████████████████████          | 2.4 MB 11.9 MB/s eta 0:00:01\r\u001b[K     |██████████████████████▏         | 2.5 MB 11.9 MB/s eta 0:00:01\r\u001b[K     |██████████████████████▎         | 2.5 MB 11.9 MB/s eta 0:00:01\r\u001b[K     |██████████████████████▍         | 2.5 MB 11.9 MB/s eta 0:00:01\r\u001b[K     |██████████████████████▍         | 2.5 MB 11.9 MB/s eta 0:00:01\r\u001b[K     |██████████████████████▌         | 2.5 MB 11.9 MB/s eta 0:00:01\r\u001b[K     |██████████████████████▋         | 2.5 MB 11.9 MB/s eta 0:00:01\r\u001b[K     |██████████████████████▊         | 2.5 MB 11.9 MB/s eta 0:00:01\r\u001b[K     |██████████████████████▉         | 2.5 MB 11.9 MB/s eta 0:00:01\r\u001b[K     |███████████████████████         | 2.5 MB 11.9 MB/s eta 0:00:01\r\u001b[K     |███████████████████████         | 2.5 MB 11.9 MB/s eta 0:00:01\r\u001b[K     |███████████████████████         | 2.6 MB 11.9 MB/s eta 0:00:01\r\u001b[K     |███████████████████████▏        | 2.6 MB 11.9 MB/s eta 0:00:01\r\u001b[K     |███████████████████████▎        | 2.6 MB 11.9 MB/s eta 0:00:01\r\u001b[K     |███████████████████████▍        | 2.6 MB 11.9 MB/s eta 0:00:01\r\u001b[K     |███████████████████████▌        | 2.6 MB 11.9 MB/s eta 0:00:01\r\u001b[K     |███████████████████████▌        | 2.6 MB 11.9 MB/s eta 0:00:01\r\u001b[K     |███████████████████████▋        | 2.6 MB 11.9 MB/s eta 0:00:01\r\u001b[K     |███████████████████████▊        | 2.6 MB 11.9 MB/s eta 0:00:01\r\u001b[K     |███████████████████████▉        | 2.6 MB 11.9 MB/s eta 0:00:01\r\u001b[K     |████████████████████████        | 2.7 MB 11.9 MB/s eta 0:00:01\r\u001b[K     |████████████████████████        | 2.7 MB 11.9 MB/s eta 0:00:01\r\u001b[K     |████████████████████████        | 2.7 MB 11.9 MB/s eta 0:00:01\r\u001b[K     |████████████████████████▏       | 2.7 MB 11.9 MB/s eta 0:00:01\r\u001b[K     |████████████████████████▎       | 2.7 MB 11.9 MB/s eta 0:00:01\r\u001b[K     |████████████████████████▍       | 2.7 MB 11.9 MB/s eta 0:00:01\r\u001b[K     |████████████████████████▌       | 2.7 MB 11.9 MB/s eta 0:00:01\r\u001b[K     |████████████████████████▋       | 2.7 MB 11.9 MB/s eta 0:00:01\r\u001b[K     |████████████████████████▋       | 2.7 MB 11.9 MB/s eta 0:00:01\r\u001b[K     |████████████████████████▊       | 2.7 MB 11.9 MB/s eta 0:00:01\r\u001b[K     |████████████████████████▉       | 2.8 MB 11.9 MB/s eta 0:00:01\r\u001b[K     |█████████████████████████       | 2.8 MB 11.9 MB/s eta 0:00:01\r\u001b[K     |█████████████████████████       | 2.8 MB 11.9 MB/s eta 0:00:01\r\u001b[K     |█████████████████████████▏      | 2.8 MB 11.9 MB/s eta 0:00:01\r\u001b[K     |█████████████████████████▏      | 2.8 MB 11.9 MB/s eta 0:00:01\r\u001b[K     |█████████████████████████▎      | 2.8 MB 11.9 MB/s eta 0:00:01\r\u001b[K     |█████████████████████████▍      | 2.8 MB 11.9 MB/s eta 0:00:01\r\u001b[K     |█████████████████████████▌      | 2.8 MB 11.9 MB/s eta 0:00:01\r\u001b[K     |█████████████████████████▋      | 2.8 MB 11.9 MB/s eta 0:00:01\r\u001b[K     |█████████████████████████▋      | 2.8 MB 11.9 MB/s eta 0:00:01\r\u001b[K     |█████████████████████████▊      | 2.9 MB 11.9 MB/s eta 0:00:01\r\u001b[K     |█████████████████████████▉      | 2.9 MB 11.9 MB/s eta 0:00:01\r\u001b[K     |██████████████████████████      | 2.9 MB 11.9 MB/s eta 0:00:01\r\u001b[K     |██████████████████████████      | 2.9 MB 11.9 MB/s eta 0:00:01\r\u001b[K     |██████████████████████████▏     | 2.9 MB 11.9 MB/s eta 0:00:01\r\u001b[K     |██████████████████████████▏     | 2.9 MB 11.9 MB/s eta 0:00:01\r\u001b[K     |██████████████████████████▎     | 2.9 MB 11.9 MB/s eta 0:00:01\r\u001b[K     |██████████████████████████▍     | 2.9 MB 11.9 MB/s eta 0:00:01\r\u001b[K     |██████████████████████████▌     | 2.9 MB 11.9 MB/s eta 0:00:01\r\u001b[K     |██████████████████████████▋     | 2.9 MB 11.9 MB/s eta 0:00:01\r\u001b[K     |██████████████████████████▊     | 3.0 MB 11.9 MB/s eta 0:00:01\r\u001b[K     |██████████████████████████▊     | 3.0 MB 11.9 MB/s eta 0:00:01\r\u001b[K     |██████████████████████████▉     | 3.0 MB 11.9 MB/s eta 0:00:01\r\u001b[K     |███████████████████████████     | 3.0 MB 11.9 MB/s eta 0:00:01\r\u001b[K     |███████████████████████████     | 3.0 MB 11.9 MB/s eta 0:00:01\r\u001b[K     |███████████████████████████▏    | 3.0 MB 11.9 MB/s eta 0:00:01\r\u001b[K     |███████████████████████████▎    | 3.0 MB 11.9 MB/s eta 0:00:01\r\u001b[K     |███████████████████████████▎    | 3.0 MB 11.9 MB/s eta 0:00:01\r\u001b[K     |███████████████████████████▍    | 3.0 MB 11.9 MB/s eta 0:00:01\r\u001b[K     |███████████████████████████▌    | 3.1 MB 11.9 MB/s eta 0:00:01\r\u001b[K     |███████████████████████████▋    | 3.1 MB 11.9 MB/s eta 0:00:01\r\u001b[K     |███████████████████████████▊    | 3.1 MB 11.9 MB/s eta 0:00:01\r\u001b[K     |███████████████████████████▉    | 3.1 MB 11.9 MB/s eta 0:00:01\r\u001b[K     |███████████████████████████▉    | 3.1 MB 11.9 MB/s eta 0:00:01\r\u001b[K     |████████████████████████████    | 3.1 MB 11.9 MB/s eta 0:00:01\r\u001b[K     |████████████████████████████    | 3.1 MB 11.9 MB/s eta 0:00:01\r\u001b[K     |████████████████████████████▏   | 3.1 MB 11.9 MB/s eta 0:00:01\r\u001b[K     |████████████████████████████▎   | 3.1 MB 11.9 MB/s eta 0:00:01\r\u001b[K     |████████████████████████████▍   | 3.1 MB 11.9 MB/s eta 0:00:01\r\u001b[K     |████████████████████████████▍   | 3.2 MB 11.9 MB/s eta 0:00:01\r\u001b[K     |████████████████████████████▌   | 3.2 MB 11.9 MB/s eta 0:00:01\r\u001b[K     |████████████████████████████▋   | 3.2 MB 11.9 MB/s eta 0:00:01\r\u001b[K     |████████████████████████████▊   | 3.2 MB 11.9 MB/s eta 0:00:01\r\u001b[K     |████████████████████████████▉   | 3.2 MB 11.9 MB/s eta 0:00:01\r\u001b[K     |█████████████████████████████   | 3.2 MB 11.9 MB/s eta 0:00:01\r\u001b[K     |█████████████████████████████   | 3.2 MB 11.9 MB/s eta 0:00:01\r\u001b[K     |█████████████████████████████   | 3.2 MB 11.9 MB/s eta 0:00:01\r\u001b[K     |█████████████████████████████▏  | 3.2 MB 11.9 MB/s eta 0:00:01\r\u001b[K     |█████████████████████████████▎  | 3.2 MB 11.9 MB/s eta 0:00:01\r\u001b[K     |█████████████████████████████▍  | 3.3 MB 11.9 MB/s eta 0:00:01\r\u001b[K     |█████████████████████████████▌  | 3.3 MB 11.9 MB/s eta 0:00:01\r\u001b[K     |█████████████████████████████▌  | 3.3 MB 11.9 MB/s eta 0:00:01\r\u001b[K     |█████████████████████████████▋  | 3.3 MB 11.9 MB/s eta 0:00:01\r\u001b[K     |█████████████████████████████▊  | 3.3 MB 11.9 MB/s eta 0:00:01\r\u001b[K     |█████████████████████████████▉  | 3.3 MB 11.9 MB/s eta 0:00:01\r\u001b[K     |██████████████████████████████  | 3.3 MB 11.9 MB/s eta 0:00:01\r\u001b[K     |██████████████████████████████  | 3.3 MB 11.9 MB/s eta 0:00:01\r\u001b[K     |██████████████████████████████  | 3.3 MB 11.9 MB/s eta 0:00:01\r\u001b[K     |██████████████████████████████▏ | 3.3 MB 11.9 MB/s eta 0:00:01\r\u001b[K     |██████████████████████████████▎ | 3.4 MB 11.9 MB/s eta 0:00:01\r\u001b[K     |██████████████████████████████▍ | 3.4 MB 11.9 MB/s eta 0:00:01\r\u001b[K     |██████████████████████████████▌ | 3.4 MB 11.9 MB/s eta 0:00:01\r\u001b[K     |██████████████████████████████▋ | 3.4 MB 11.9 MB/s eta 0:00:01\r\u001b[K     |██████████████████████████████▋ | 3.4 MB 11.9 MB/s eta 0:00:01\r\u001b[K     |██████████████████████████████▊ | 3.4 MB 11.9 MB/s eta 0:00:01\r\u001b[K     |██████████████████████████████▉ | 3.4 MB 11.9 MB/s eta 0:00:01\r\u001b[K     |███████████████████████████████ | 3.4 MB 11.9 MB/s eta 0:00:01\r\u001b[K     |███████████████████████████████ | 3.4 MB 11.9 MB/s eta 0:00:01\r\u001b[K     |███████████████████████████████▏| 3.5 MB 11.9 MB/s eta 0:00:01\r\u001b[K     |███████████████████████████████▏| 3.5 MB 11.9 MB/s eta 0:00:01\r\u001b[K     |███████████████████████████████▎| 3.5 MB 11.9 MB/s eta 0:00:01\r\u001b[K     |███████████████████████████████▍| 3.5 MB 11.9 MB/s eta 0:00:01\r\u001b[K     |███████████████████████████████▌| 3.5 MB 11.9 MB/s eta 0:00:01\r\u001b[K     |███████████████████████████████▋| 3.5 MB 11.9 MB/s eta 0:00:01\r\u001b[K     |███████████████████████████████▊| 3.5 MB 11.9 MB/s eta 0:00:01\r\u001b[K     |███████████████████████████████▊| 3.5 MB 11.9 MB/s eta 0:00:01\r\u001b[K     |███████████████████████████████▉| 3.5 MB 11.9 MB/s eta 0:00:01\r\u001b[K     |████████████████████████████████| 3.5 MB 11.9 MB/s eta 0:00:01\r\u001b[K     |████████████████████████████████| 3.5 MB 11.9 MB/s \n",
            "\u001b[?25hRequirement already satisfied: tqdm>=4.27 in /usr/local/lib/python3.7/dist-packages (from transformers) (4.62.3)\n",
            "Requirement already satisfied: importlib-metadata in /usr/local/lib/python3.7/dist-packages (from transformers) (4.11.1)\n",
            "Collecting pyyaml>=5.1\n",
            "  Downloading PyYAML-6.0-cp37-cp37m-manylinux_2_5_x86_64.manylinux1_x86_64.manylinux_2_12_x86_64.manylinux2010_x86_64.whl (596 kB)\n",
            "\u001b[K     |████████████████████████████████| 596 kB 31.3 MB/s \n",
            "\u001b[?25hRequirement already satisfied: regex!=2019.12.17 in /usr/local/lib/python3.7/dist-packages (from transformers) (2019.12.20)\n",
            "Requirement already satisfied: filelock in /usr/local/lib/python3.7/dist-packages (from transformers) (3.6.0)\n",
            "Requirement already satisfied: requests in /usr/local/lib/python3.7/dist-packages (from transformers) (2.23.0)\n",
            "Collecting sacremoses\n",
            "  Downloading sacremoses-0.0.47-py2.py3-none-any.whl (895 kB)\n",
            "\u001b[K     |████████████████████████████████| 895 kB 54.4 MB/s \n",
            "\u001b[?25hCollecting tokenizers!=0.11.3,>=0.10.1\n",
            "  Downloading tokenizers-0.11.5-cp37-cp37m-manylinux_2_12_x86_64.manylinux2010_x86_64.whl (6.8 MB)\n",
            "\u001b[K     |████████████████████████████████| 6.8 MB 21.0 MB/s \n",
            "\u001b[?25hRequirement already satisfied: packaging>=20.0 in /usr/local/lib/python3.7/dist-packages (from transformers) (21.3)\n",
            "Requirement already satisfied: numpy>=1.17 in /usr/local/lib/python3.7/dist-packages (from transformers) (1.21.5)\n",
            "Collecting huggingface-hub<1.0,>=0.1.0\n",
            "  Downloading huggingface_hub-0.4.0-py3-none-any.whl (67 kB)\n",
            "\u001b[K     |████████████████████████████████| 67 kB 6.1 MB/s \n",
            "\u001b[?25hRequirement already satisfied: typing-extensions>=3.7.4.3 in /usr/local/lib/python3.7/dist-packages (from huggingface-hub<1.0,>=0.1.0->transformers) (3.10.0.2)\n",
            "Requirement already satisfied: pyparsing!=3.0.5,>=2.0.2 in /usr/local/lib/python3.7/dist-packages (from packaging>=20.0->transformers) (3.0.7)\n",
            "Requirement already satisfied: zipp>=0.5 in /usr/local/lib/python3.7/dist-packages (from importlib-metadata->transformers) (3.7.0)\n",
            "Requirement already satisfied: chardet<4,>=3.0.2 in /usr/local/lib/python3.7/dist-packages (from requests->transformers) (3.0.4)\n",
            "Requirement already satisfied: urllib3!=1.25.0,!=1.25.1,<1.26,>=1.21.1 in /usr/local/lib/python3.7/dist-packages (from requests->transformers) (1.24.3)\n",
            "Requirement already satisfied: idna<3,>=2.5 in /usr/local/lib/python3.7/dist-packages (from requests->transformers) (2.10)\n",
            "Requirement already satisfied: certifi>=2017.4.17 in /usr/local/lib/python3.7/dist-packages (from requests->transformers) (2021.10.8)\n",
            "Requirement already satisfied: six in /usr/local/lib/python3.7/dist-packages (from sacremoses->transformers) (1.15.0)\n",
            "Requirement already satisfied: click in /usr/local/lib/python3.7/dist-packages (from sacremoses->transformers) (7.1.2)\n",
            "Requirement already satisfied: joblib in /usr/local/lib/python3.7/dist-packages (from sacremoses->transformers) (1.1.0)\n",
            "Installing collected packages: pyyaml, tokenizers, sacremoses, huggingface-hub, transformers\n",
            "  Attempting uninstall: pyyaml\n",
            "    Found existing installation: PyYAML 3.13\n",
            "    Uninstalling PyYAML-3.13:\n",
            "      Successfully uninstalled PyYAML-3.13\n",
            "Successfully installed huggingface-hub-0.4.0 pyyaml-6.0 sacremoses-0.0.47 tokenizers-0.11.5 transformers-4.16.2\n"
          ]
        }
      ]
    },
    {
      "cell_type": "markdown",
      "metadata": {
        "id": "Dannu15yD_tu"
      },
      "source": [
        "## 1.2. Helper Functions"
      ]
    },
    {
      "cell_type": "markdown",
      "metadata": {
        "id": "nszM7hA_IoKP"
      },
      "source": [
        "In many of my (long-running) for-loops I'll print periodic progress updates. Typically I pick the update interval manually, but for this Notebook I've defined a helper function to make that choice for me :)"
      ]
    },
    {
      "cell_type": "code",
      "metadata": {
        "id": "iTrHp0_FgOSg"
      },
      "source": [
        "def good_update_interval(total_iters, num_desired_updates):\n",
        "    '''\n",
        "    This function will try to pick an intelligent progress update interval \n",
        "    based on the magnitude of the total iterations.\n",
        "\n",
        "    Parameters:\n",
        "      `total_iters` - The number of iterations in the for-loop.\n",
        "      `num_desired_updates` - How many times we want to see an update over the \n",
        "                              course of the for-loop.\n",
        "    '''\n",
        "    # Divide the total iterations by the desired number of updates. Most likely\n",
        "    # this will be some ugly number.\n",
        "    exact_interval = total_iters / num_desired_updates\n",
        "\n",
        "    # The `round` function has the ability to round down a number to, e.g., the\n",
        "    # nearest thousandth: round(exact_interval, -3)\n",
        "    #\n",
        "    # To determine the magnitude to round to, find the magnitude of the total,\n",
        "    # and then go one magnitude below that.\n",
        "\n",
        "    # Get the order of magnitude of the total.\n",
        "    order_of_mag = len(str(total_iters)) - 1\n",
        "\n",
        "    # Our update interval should be rounded to an order of magnitude smaller. \n",
        "    round_mag = order_of_mag - 1\n",
        "\n",
        "    # Round down and cast to an int.\n",
        "    update_interval = int(round(exact_interval, -round_mag))\n",
        "\n",
        "    # Don't allow the interval to be zero!\n",
        "    if update_interval == 0:\n",
        "        update_interval = 1\n",
        "\n",
        "    return update_interval"
      ],
      "execution_count": null,
      "outputs": []
    },
    {
      "cell_type": "markdown",
      "metadata": {
        "id": "KNhRtWPXH9C3"
      },
      "source": [
        "Helper function for formatting elapsed times as `hh:mm:ss`\n"
      ]
    },
    {
      "cell_type": "code",
      "metadata": {
        "id": "gpt6tR83keZD"
      },
      "source": [
        "import time\n",
        "import datetime\n",
        "\n",
        "def format_time(elapsed):\n",
        "    '''\n",
        "    Takes a time in seconds and returns a string hh:mm:ss\n",
        "    '''\n",
        "    # Round to the nearest second.\n",
        "    elapsed_rounded = int(round((elapsed)))\n",
        "    \n",
        "    # Format as hh:mm:ss\n",
        "    return str(datetime.timedelta(seconds=elapsed_rounded))\n"
      ],
      "execution_count": null,
      "outputs": []
    },
    {
      "cell_type": "markdown",
      "metadata": {
        "id": "h3dCqjK_9v4q"
      },
      "source": [
        "# S2. Retrieve Dataset"
      ]
    },
    {
      "cell_type": "markdown",
      "metadata": {
        "id": "Cairkv4V7_IE"
      },
      "source": [
        "## 2.1. Download Dataset Files"
      ]
    },
    {
      "cell_type": "markdown",
      "metadata": {
        "id": "UfYIRFDca_lx"
      },
      "source": [
        "I'm sure there are many ways to retrieve this dataset--I'm using the TensorFlow Datasets library here as one easy way to do it.\n",
        "\n",
        "Documentation is here: https://www.tensorflow.org/datasets/catalog/imdb_reviews\n",
        "\n"
      ]
    },
    {
      "cell_type": "code",
      "metadata": {
        "id": "gx3aeVLJBuKC",
        "colab": {
          "base_uri": "https://localhost:8080/",
          "height": 336,
          "referenced_widgets": [
            "e3f516f06c724439947c7f8b24306aca",
            "c9cbc947d4f245469e1e3ef29aadb267",
            "f36fc02c91d34fbfa25a2f21ab9d0239",
            "b994e02af5574b4b98d0acff68041488",
            "d59cef6ff3414731a208907c71c12ee1",
            "fb101d224ec14deb85007e37b9057f58",
            "4bb0cbefc4c9496dababf36dc97cd50a",
            "5f682d33f29e4c759e2f37a5cdabae8b",
            "8c259ad97d514cb1b4e924536ffde4a0",
            "f3f0fede53a24494a920772304894fa3",
            "57355f93675845aaacca062c5d299771",
            "9018f4907e234574ba7fae15018ee70f",
            "440791b80f4645769e7e0e16c8db178e",
            "37a43f1accb146e18279e6288d00a65c",
            "598c622baa5f442393443ea846cb2a77",
            "627dd9b6764948278bf967b6ab35aeb7",
            "5fc927d500ea419a98694a5ea5e448af",
            "b0214a1f26ca45218c420dbe473a1323",
            "88873811e8af443382d232541403b68b",
            "8258d72c92e34b2d8d7c4432ff5aace1",
            "a446bbb3b68f4747905dc67f30a21c21",
            "7a1c5ef2d61c456db3c060a839716970",
            "a91d64099b574a71b9e5d78e444cbe70",
            "9f75aac56b234a7cb0f4dd9a25cd7d91",
            "f6a8c79f63d645e1a2358bcd687f4da2",
            "aff4f9304d244e4faef38797f71a6170",
            "b7c96acfc92b495eb3d5e31dcb24cc86",
            "6e97474fa15a4ef1baa8f558e29f4778",
            "06c50ae97587469db8f95e456b38a717",
            "407f92eaaf6144ceb64bfe14f4ec36e3",
            "ca01d4c24340475095a36186957307ad",
            "79545fd69d834f53a2b5424fed0a89ee",
            "7ca6eb91f886448bae4766ec184801a9",
            "aafef5fe73144b6b8c9e71b147398d63",
            "8a4d655400e94cc096e5d55be33d1f0e",
            "4d1bf099d2334bfcae038e736717dfc4",
            "512093344ff4466f99e6256dad328c24",
            "607c9b4e091c491fa999e24c406b52e1",
            "a22df46ac5f24eb58fa01f5eb1084145",
            "37d73ab3a8844df5ad9311b796045c44",
            "8159c4c0930646b9aa885646347b36a8",
            "511fffde62874abfa86e3dba0f21d799",
            "ba59d4cf84284beaa67457e4cfdd4a1a",
            "a824d9e5db094251aff74243dfe3a90d",
            "ae057a83bad947a0b7e51b4245b908c5",
            "d69fe02cd11d4578a324c7a22ba9722a",
            "51050bc251984d988857b76fa599a5e8",
            "8aed5e37e87045d589e665d05160c34c",
            "3eb77b72cf554edf9cde6f8901fa89db",
            "d27326d5385e4b058af589eff7240700",
            "164093717a084058ae1aa9478b5736b6",
            "c3aa7715b6da444a95e99d3bcc209994",
            "2f31359832f94a498c4ff03bc5a7a3b4",
            "f8eb673e7d42478195655ad90fdbe481",
            "2bc54694be684fb79670290acebe84ad",
            "21db2c75b28e4985ae3caf994e370851",
            "6ffac889169b4381ad32b40990cce41d",
            "bd0e923f55d64e7c8aa7021b32da654a",
            "0fdcacc86eeb429bbce35d6e1f4b732a",
            "47fc06e23f084624abd5658a9075cb30",
            "3fdacd7a573c4a64ae243cba8fadc6b4",
            "268a0cea8c4c49e6a8cdaa5510ebfe1f",
            "4dec72420b30444a877163504dc70987",
            "51342cda56934eebbd2969955f8c3376",
            "83f0e6c689054f2a8b12324f9054ab35",
            "2d811be09f574e37a69f34c1c09770da",
            "3bfe49d85a5b40e7a40a2f7e1189e771",
            "2730015038e04ceebdb98864addc1039",
            "53b50e43a057404aa10588b882b3c08a",
            "aefa4a68f5e24732814290093749268e",
            "e919d3d8cef547e0906e1791fae8025f",
            "29f29da15f824605bfff0297274abbd0",
            "5379a340e9af44309265e745ece509e8",
            "878c9eec1680418aa60add4852f23cf1",
            "4a3a07fbaeb04e128ef5cd2513c30f17",
            "fd212285be254d42a238efb10402de8b",
            "6f5fa61cffd54dd69496b80e29f69b60",
            "ff67f972a7594a5eb208afb66f9260fd",
            "00bffb70990840dba6b9b9424ced1ba0",
            "459328a47a114c278611aca46e293736",
            "ca87249699f0416895f0edeaa80edc26",
            "ec66185a31ea4655be480c243953401f",
            "c9c82dca002143bf97d8ec0af787a4d1",
            "10d635cb3b1e43bf8af3ccd42678e469",
            "4cfbe40c03da4479bd84eb0a458cde8e",
            "6867e0c05be5456ea2b0c9912c418aa0",
            "5fdd5b3018e04a09b39cab2f80d97923",
            "145884ad2a464e12a7fb7cd198daf351"
          ]
        },
        "outputId": "44bf567a-22fb-4190-f0e5-0b1a94ac30aa"
      },
      "source": [
        "import tensorflow_datasets as tfds\n",
        "\n",
        "# Download the train and test portions of the dataset.\n",
        "train_data = tfds.load(name=\"imdb_reviews/plain_text\", split=\"train\")\n",
        "test_data = tfds.load(name=\"imdb_reviews/plain_text\", split=\"test\")\n"
      ],
      "execution_count": 1,
      "outputs": [
        {
          "output_type": "stream",
          "name": "stdout",
          "text": [
            "\u001b[1mDownloading and preparing dataset imdb_reviews/plain_text/1.0.0 (download: 80.23 MiB, generated: Unknown size, total: 80.23 MiB) to /root/tensorflow_datasets/imdb_reviews/plain_text/1.0.0...\u001b[0m\n"
          ]
        },
        {
          "output_type": "display_data",
          "data": {
            "application/vnd.jupyter.widget-view+json": {
              "model_id": "e3f516f06c724439947c7f8b24306aca",
              "version_minor": 0,
              "version_major": 2
            },
            "text/plain": [
              "Dl Completed...: 0 url [00:00, ? url/s]"
            ]
          },
          "metadata": {}
        },
        {
          "output_type": "display_data",
          "data": {
            "application/vnd.jupyter.widget-view+json": {
              "model_id": "9018f4907e234574ba7fae15018ee70f",
              "version_minor": 0,
              "version_major": 2
            },
            "text/plain": [
              "Dl Size...: 0 MiB [00:00, ? MiB/s]"
            ]
          },
          "metadata": {}
        },
        {
          "output_type": "stream",
          "name": "stdout",
          "text": [
            "\n",
            "\n"
          ]
        },
        {
          "output_type": "display_data",
          "data": {
            "application/vnd.jupyter.widget-view+json": {
              "model_id": "a91d64099b574a71b9e5d78e444cbe70",
              "version_minor": 0,
              "version_major": 2
            },
            "text/plain": [
              "0 examples [00:00, ? examples/s]"
            ]
          },
          "metadata": {}
        },
        {
          "output_type": "stream",
          "name": "stdout",
          "text": [
            "Shuffling and writing examples to /root/tensorflow_datasets/imdb_reviews/plain_text/1.0.0.incompleteB3V4DX/imdb_reviews-train.tfrecord\n"
          ]
        },
        {
          "output_type": "display_data",
          "data": {
            "application/vnd.jupyter.widget-view+json": {
              "model_id": "aafef5fe73144b6b8c9e71b147398d63",
              "version_minor": 0,
              "version_major": 2
            },
            "text/plain": [
              "  0%|          | 0/25000 [00:00<?, ? examples/s]"
            ]
          },
          "metadata": {}
        },
        {
          "output_type": "display_data",
          "data": {
            "application/vnd.jupyter.widget-view+json": {
              "model_id": "ae057a83bad947a0b7e51b4245b908c5",
              "version_minor": 0,
              "version_major": 2
            },
            "text/plain": [
              "0 examples [00:00, ? examples/s]"
            ]
          },
          "metadata": {}
        },
        {
          "output_type": "stream",
          "name": "stdout",
          "text": [
            "Shuffling and writing examples to /root/tensorflow_datasets/imdb_reviews/plain_text/1.0.0.incompleteB3V4DX/imdb_reviews-test.tfrecord\n"
          ]
        },
        {
          "output_type": "display_data",
          "data": {
            "application/vnd.jupyter.widget-view+json": {
              "model_id": "21db2c75b28e4985ae3caf994e370851",
              "version_minor": 0,
              "version_major": 2
            },
            "text/plain": [
              "  0%|          | 0/25000 [00:00<?, ? examples/s]"
            ]
          },
          "metadata": {}
        },
        {
          "output_type": "display_data",
          "data": {
            "application/vnd.jupyter.widget-view+json": {
              "model_id": "3bfe49d85a5b40e7a40a2f7e1189e771",
              "version_minor": 0,
              "version_major": 2
            },
            "text/plain": [
              "0 examples [00:00, ? examples/s]"
            ]
          },
          "metadata": {}
        },
        {
          "output_type": "stream",
          "name": "stdout",
          "text": [
            "Shuffling and writing examples to /root/tensorflow_datasets/imdb_reviews/plain_text/1.0.0.incompleteB3V4DX/imdb_reviews-unsupervised.tfrecord\n"
          ]
        },
        {
          "output_type": "display_data",
          "data": {
            "application/vnd.jupyter.widget-view+json": {
              "model_id": "ff67f972a7594a5eb208afb66f9260fd",
              "version_minor": 0,
              "version_major": 2
            },
            "text/plain": [
              "  0%|          | 0/50000 [00:00<?, ? examples/s]"
            ]
          },
          "metadata": {}
        },
        {
          "output_type": "stream",
          "name": "stderr",
          "text": [
            "WARNING:absl:Dataset is using deprecated text encoder API which will be removed soon. Please use the plain_text version of the dataset and migrate to `tensorflow_text`.\n"
          ]
        },
        {
          "output_type": "stream",
          "name": "stdout",
          "text": [
            "\u001b[1mDataset imdb_reviews downloaded and prepared to /root/tensorflow_datasets/imdb_reviews/plain_text/1.0.0. Subsequent calls will reuse this data.\u001b[0m\n"
          ]
        }
      ]
    },
    {
      "cell_type": "markdown",
      "metadata": {
        "id": "Tg9rRznq42f8"
      },
      "source": [
        "Let's examine the contents and datatypes contained in the dataset. \n",
        "\n",
        "Each sample has a `label` and `text` field."
      ]
    },
    {
      "cell_type": "code",
      "metadata": {
        "id": "bmCWwPyaBuBW",
        "colab": {
          "base_uri": "https://localhost:8080/"
        },
        "outputId": "ed65cfcd-be67-4314-f558-76a3577c9869"
      },
      "source": [
        "train_data"
      ],
      "execution_count": null,
      "outputs": [
        {
          "output_type": "execute_result",
          "data": {
            "text/plain": [
              "<PrefetchDataset shapes: {label: (), text: ()}, types: {label: tf.int64, text: tf.string}>"
            ]
          },
          "metadata": {},
          "execution_count": 5
        }
      ]
    },
    {
      "cell_type": "markdown",
      "metadata": {
        "id": "itjbAgmxEp-F"
      },
      "source": [
        "Let's pull the data out of TensorFlow's icy grip, so we just have plain Python types :)"
      ]
    },
    {
      "cell_type": "code",
      "metadata": {
        "id": "hQ2_hJjzDYur",
        "colab": {
          "base_uri": "https://localhost:8080/"
        },
        "outputId": "36ad8ea5-210f-4ccd-d366-97ad4d54b3d8"
      },
      "source": [
        "import numpy as np\n",
        "\n",
        "train_text = []\n",
        "train_labels = []\n",
        "\n",
        "# Loop over the training set...\n",
        "for ex in train_data.as_numpy_iterator():\n",
        "\n",
        "    # The text is a `bytes` object, decode to string.\n",
        "    train_text.append(ex['text'].decode())\n",
        "\n",
        "    # Cast the label from `np.int64` to `int`\n",
        "    train_labels.append(int(ex['label']))\n",
        "\n",
        "test_text = []\n",
        "test_labels = []\n",
        "\n",
        "# Loop over the test set...\n",
        "for ex in test_data.as_numpy_iterator():\n",
        "\n",
        "    # The text is a `bytes` object, decode to string.\n",
        "    test_text.append(ex['text'].decode())\n",
        "\n",
        "    # Cast the label from `np.int64` to `int`\n",
        "    test_labels.append(int(ex['label']))\n",
        "\n",
        "# Print some stats.\n",
        "print('{:,} Training Samples'.format(len(train_labels)))\n",
        "print('{:,} Test Samples'.format(len(test_labels)))\n",
        "print('Labels:', np.unique(train_labels))"
      ],
      "execution_count": null,
      "outputs": [
        {
          "output_type": "stream",
          "name": "stdout",
          "text": [
            "25,000 Training Samples\n",
            "25,000 Test Samples\n",
            "Labels: [0 1]\n"
          ]
        }
      ]
    },
    {
      "cell_type": "markdown",
      "metadata": {
        "id": "gObslUje8oNy"
      },
      "source": [
        "# S3. Inspect Dataset"
      ]
    },
    {
      "cell_type": "markdown",
      "metadata": {
        "id": "M1q6B_N7crzA"
      },
      "source": [
        "## 3.1. Inspect Training Samples"
      ]
    },
    {
      "cell_type": "markdown",
      "metadata": {
        "id": "4ICugTyee8h-"
      },
      "source": [
        "Lets print out a handful of samples at random."
      ]
    },
    {
      "cell_type": "code",
      "metadata": {
        "id": "Njp6-5b5NwiE",
        "colab": {
          "base_uri": "https://localhost:8080/"
        },
        "outputId": "d84c1363-17a8-46b2-82f4-e96b2f2e54f0"
      },
      "source": [
        "import textwrap\n",
        "import random\n",
        "\n",
        "# Wrap text to 80 characters.\n",
        "wrapper = textwrap.TextWrapper(width=80) \n",
        "\n",
        "# Randomly choose some examples.\n",
        "for i in range(3):\n",
        "    \n",
        "    # Choose a random sample by index.\n",
        "    j = random.choice(range(len(train_text)))\n",
        "    \n",
        "    # Print out the label and the text. \n",
        "    print('==== Label: {:} ===='.format(train_labels[j]))\n",
        "    print(wrapper.fill(train_text[j]))\n",
        "    print('')\n"
      ],
      "execution_count": null,
      "outputs": [
        {
          "output_type": "stream",
          "name": "stdout",
          "text": [
            "==== Label: 1 ====\n",
            "It's a rather good movie, but too Americanised in it's predictability. Change\n",
            "the Kung Fu for football and the Turkish Family for a Pakistani one, and you get\n",
            "to watch Bend It Like Beckham (2002) almost scene for scene. A nice feature the\n",
            "serves as the backbone of the movie is the progression of fights with the\n",
            "mysterious ninja under the highway, beginning with miserable losses and slowly\n",
            "progressing until the last fight is a win against oneself, as the Kung Fu master\n",
            "stressed several times. On a different level, the Danish life is revealed quite\n",
            "different than the image it has by outsiders: the non indigenous immigrants that\n",
            "make a large proportion (actually, the majority) of the Danish citizenry, the\n",
            "graffiti in the Copenhagen suburbs, the taunting of the immigrant girl in the\n",
            "begging of the movie. All portray a different picture than one has in mind when\n",
            "one hears the word Denmark.\n",
            "\n",
            "==== Label: 1 ====\n",
            "Rock n' roll is a messy business and DiG! demonstrates this masterfully. A\n",
            "project of serious ambition, and perhaps foolhardiness, the filmmaker is able to\n",
            "mend together seven tumultuous years of following around two unwieldy rock\n",
            "groups. With that said, the abundance of quality material ensures the film's\n",
            "ability to captivate the audience. If you've ever been interested in any realm\n",
            "of the music industry, this movie will undoubtedly be an arresting viewing. the\n",
            "music in the film, although it suffers minimally from requisite cutting and\n",
            "pasting, is worth the price of admission alone. the morning after i saw DiG! i\n",
            "went straight to the record store to pick up a Brian Jonestown Massacre album (i\n",
            "was already initiated to the Dandy Warhols' sounds). Primarily defined by its\n",
            "exploration of rock music, the film succeeds at other profound levels. DiG! is a\n",
            "sincere, and sufficiently objective, glance into the destructive and volatile\n",
            "nature of the creative process and the people that try to wrangle those forces.\n",
            "\n",
            "==== Label: 0 ====\n",
            "Firstly I would like to point out that I only know of the show due to my younger\n",
            "sister always watching it. I find it the most annoying program on TV. There is\n",
            "nothing funny about any of the 'jokes' and the canned laughter is unbearable.\n",
            "The show would work much better if filmed in front of a live audience. That way\n",
            "the laughter would show just how 'unfunny' the show is. However I give credit to\n",
            "the acting talents of the young cast. It sickens me however to think that\n",
            "they'll look back on the show in the future and see how bad their first TV show\n",
            "was. The show links in well with the overall annoying voices and style of the\n",
            "CBBC presenters. Why the youth of today need to be shouted at so much is beyond\n",
            "me. That is all.\n",
            "\n"
          ]
        }
      ]
    },
    {
      "cell_type": "markdown",
      "metadata": {
        "id": "hDfRG57sfEjX"
      },
      "source": [
        "Let's also check out the classes and their balance."
      ]
    },
    {
      "cell_type": "code",
      "metadata": {
        "id": "fcBinIxWLjer",
        "colab": {
          "base_uri": "https://localhost:8080/",
          "height": 428
        },
        "outputId": "5e32f71d-f892-4f27-f997-ab973840c0d8"
      },
      "source": [
        "import matplotlib.pyplot as plt\n",
        "import seaborn as sns\n",
        "import numpy as np\n",
        "\n",
        "sns.set(style='darkgrid')\n",
        "\n",
        "# Increase the plot size and font size.\n",
        "sns.set(font_scale=1.5)\n",
        "plt.rcParams[\"figure.figsize\"] = (10,5)\n",
        "\n",
        "# Plot the number of tokens of each length.\n",
        "ax = sns.countplot(train_labels)\n",
        "\n",
        "# Add labels\n",
        "plt.title('Class Distribution')\n",
        "plt.xlabel('Category')\n",
        "plt.ylabel('# of Training Samples')\n",
        "\n",
        "# Add thousands separators to the y-axis labels.\n",
        "import matplotlib as mpl\n",
        "ax.yaxis.set_major_formatter(mpl.ticker.StrMethodFormatter('{x:,.0f}'))\n",
        "\n",
        "plt.show()"
      ],
      "execution_count": null,
      "outputs": [
        {
          "output_type": "stream",
          "name": "stderr",
          "text": [
            "/usr/local/lib/python3.7/dist-packages/seaborn/_decorators.py:43: FutureWarning: Pass the following variable as a keyword arg: x. From version 0.12, the only valid positional argument will be `data`, and passing other arguments without an explicit keyword will result in an error or misinterpretation.\n",
            "  FutureWarning\n"
          ]
        },
        {
          "output_type": "display_data",
          "data": {
            "image/png": "[encoded data removed]",
            "text/plain": [
              "<Figure size 720x360 with 1 Axes>"
            ]
          },
          "metadata": {}
        }
      ]
    },
    {
      "cell_type": "markdown",
      "metadata": {
        "id": "ydHIQ_yc9ifE"
      },
      "source": [
        "# S4. Smart Batching"
      ]
    },
    {
      "cell_type": "markdown",
      "metadata": {
        "id": "NHIEuC3TAOIh"
      },
      "source": [
        "In this section, we will prepare our training set into these smart batches.\n",
        "\n",
        "We'll do it in Notebook style, with a mix of code and text cells so we can inspect and discuss things as we go. \n",
        "\n",
        "Note, though, that I've also defined a `make_smart_batches` function towards the end which performs all of these steps. We'll use that function to prepare the test set, and you could use that function in your own applications for both the training and test sets."
      ]
    },
    {
      "cell_type": "markdown",
      "metadata": {
        "id": "Vuahmt8IGHvG"
      },
      "source": [
        "## 4.1. Load Tokenizer"
      ]
    },
    {
      "cell_type": "markdown",
      "metadata": {
        "id": "Axa8wTWmGJeG"
      },
      "source": [
        "We'll use the uncased version of BERT-base. "
      ]
    },
    {
      "cell_type": "code",
      "metadata": {
        "id": "Z474sSC6oe7A",
        "colab": {
          "base_uri": "https://localhost:8080/",
          "height": 162,
          "referenced_widgets": [
            "c39cec4ab23f4abb91be891837d7b132",
            "5cde04f8ee1a49eda8d97d8f86043ceb",
            "143479e4a23f458f89b24c009f476689",
            "dfb13f701fb342309b2dff5f13aba6d5",
            "031c1e201ce74222999fc8f1b14c7a01",
            "6393fa125d8d47488be0f6e21868cd8b",
            "8eddc13e91f04eab8f6ea82d22df02d9",
            "5db6c00ddbcc436685e3b22c46eddb9c",
            "c95d0fa95b184d2781114f2894c6872b",
            "5b00cc866e6940d9af6c8b3b05fd45b5",
            "31a4cab4d39a42ebb938cba026588d35",
            "824fb528bb234fc79294a8d297c7b139",
            "f100f7fcca764272b951374c3fbbf2ad",
            "7a94ccf9bd024da1bea6f4d0fb22ed67",
            "9822eee50baf43a4a6d636cf1bf317fd",
            "001027733cfd433793b070a707822888",
            "6034799ede2c48f7a9f9ce5ee8a7eb0a",
            "9749b1e261724970a21973391ffb646e",
            "12828a3ff7454b6391e27e03984f4105",
            "379db3e7da8e40548e74c899d3170148",
            "b07668d579844278b039746785942f64",
            "70f3daac4fa64f9d87f05f7ccd6e5e6b",
            "1a780268e4c04fdc8220b600ec71ec2a",
            "0cc206257d8d4e4894d029b4c9ba9c89",
            "932d7a287155498986574cce6aeb9b52",
            "ff5baf9b7825402ab7cfe90cf2f1dae1",
            "9fc6b9b02c0d4e7ab54c3d6118d6266e",
            "87b6958292d444168e9cd290c3396255",
            "fa223c138bca47d8ac3eb7145301fa64",
            "8bce88b1351b4aa4b800a027404d2dda",
            "877f957440f742c29ad9934b5934ee5b",
            "34abb8a8c2404f659f014af5568ffbde",
            "d88e11489c134b81a6b694179ed838c9",
            "d6fe1fd760a544aba3ec88e4ea2291a7",
            "d27bc4a3560d4e348cbb5ca0f3d7ec77",
            "10f7ed1d31ec408cb4819a5e5ed839c4",
            "191bd26e12d34de192856ca0679a95a7",
            "a50d0cc26658449090b4d049e6a08554",
            "42ddd9dc015d48669315dd4d2b9478b5",
            "75a86dcccea14b9194be67956993606a",
            "3dcc3c8c61254a338268c393818ec39b",
            "61a9c4cd8942405898a638a21ba8e517",
            "93e07ae5478f41f29e4a0001eeea963b",
            "91615b185eff4bfa9fa12ced97f8a544"
          ]
        },
        "outputId": "1728e1be-4628-475f-de4e-81565c369b16"
      },
      "source": [
        "from transformers import BertTokenizer\n",
        "\n",
        "# Load the BERT tokenizer.\n",
        "print('Loading BERT tokenizer...')\n",
        "tokenizer = BertTokenizer.from_pretrained('bert-base-uncased', do_lower_case=True)"
      ],
      "execution_count": 4,
      "outputs": [
        {
          "output_type": "stream",
          "name": "stdout",
          "text": [
            "Loading BERT tokenizer...\n"
          ]
        },
        {
          "output_type": "display_data",
          "data": {
            "application/vnd.jupyter.widget-view+json": {
              "model_id": "c39cec4ab23f4abb91be891837d7b132",
              "version_minor": 0,
              "version_major": 2
            },
            "text/plain": [
              "Downloading:   0%|          | 0.00/28.0 [00:00<?, ?B/s]"
            ]
          },
          "metadata": {}
        },
        {
          "output_type": "display_data",
          "data": {
            "application/vnd.jupyter.widget-view+json": {
              "model_id": "824fb528bb234fc79294a8d297c7b139",
              "version_minor": 0,
              "version_major": 2
            },
            "text/plain": [
              "Downloading:   0%|          | 0.00/226k [00:00<?, ?B/s]"
            ]
          },
          "metadata": {}
        },
        {
          "output_type": "display_data",
          "data": {
            "application/vnd.jupyter.widget-view+json": {
              "model_id": "1a780268e4c04fdc8220b600ec71ec2a",
              "version_minor": 0,
              "version_major": 2
            },
            "text/plain": [
              "Downloading:   0%|          | 0.00/455k [00:00<?, ?B/s]"
            ]
          },
          "metadata": {}
        },
        {
          "output_type": "display_data",
          "data": {
            "application/vnd.jupyter.widget-view+json": {
              "model_id": "d6fe1fd760a544aba3ec88e4ea2291a7",
              "version_minor": 0,
              "version_major": 2
            },
            "text/plain": [
              "Downloading:   0%|          | 0.00/570 [00:00<?, ?B/s]"
            ]
          },
          "metadata": {}
        }
      ]
    },
    {
      "cell_type": "markdown",
      "metadata": {
        "id": "x2Wvtz56l1TR"
      },
      "source": [
        "## 4.2. Tokenize Without Padding"
      ]
    },
    {
      "cell_type": "markdown",
      "metadata": {
        "id": "qmLSEI1d-jCd"
      },
      "source": [
        "**Peak GPU Memory Use**\n",
        "\n",
        "Even when applying smart batching, we may still want to truncate our inputs to a certain maximum length. BERT requires a lot of GPU memory, and it's quite possible for the GPU to not be able to process a batch with too many samples in it and / or too long of sequences. \n",
        "\n",
        "Smart batching means most of our batches will naturally have shorter sequence lengths and not require too much memory. However, all it takes is one batch  that's too long to fit on the GPU, and our training will fail! \n",
        "\n",
        "In other words, we still have to be concerned with our \"peak\" memory usage, and it still likely makes sense to truncate to something lower than 512, even with smart batching."
      ]
    },
    {
      "cell_type": "code",
      "metadata": {
        "id": "ngo68TDgJtoJ"
      },
      "source": [
        "max_len = 400"
      ],
      "execution_count": null,
      "outputs": []
    },
    {
      "cell_type": "markdown",
      "metadata": {
        "id": "E4Lr7ziRl3Uh"
      },
      "source": [
        "**Tokenize, but don't pad**\n",
        "\n",
        "We're going to start by tokenizing all of the samples and mapping the tokens to their IDs. \n",
        "\n",
        "We're also going to truncate the sequences to our chosen `max_len`, and we're going to add the special tokens.\n",
        "\n",
        "But we are **not padding** yet! We don't know what lengths to pad the sequences too until after we've grouped them into batches.\n",
        "\n"
      ]
    },
    {
      "cell_type": "code",
      "metadata": {
        "id": "unZgL-2VmQFb",
        "colab": {
          "base_uri": "https://localhost:8080/"
        },
        "outputId": "d0d02861-a864-46b1-cffb-0adf949aac38"
      },
      "source": [
        "full_input_ids = []\n",
        "labels = []\n",
        "\n",
        "# Tokenize all training examples\n",
        "print('Tokenizing {:,} training samples...'.format(len(train_text)))\n",
        "\n",
        "# Choose an interval on which to print progress updates.\n",
        "update_interval = good_update_interval(total_iters=len(train_text), num_desired_updates=10)\n",
        "\n",
        "# For each training example...\n",
        "for text in train_text:\n",
        "    \n",
        "    # Report progress.\n",
        "    if ((len(full_input_ids) % update_interval) == 0):\n",
        "        print('  Tokenized {:,} samples.'.format(len(full_input_ids)))\n",
        "\n",
        "    # Tokenize the sentence.\n",
        "    input_ids = tokenizer.encode(text=text,           # Movie review text\n",
        "                                 add_special_tokens=True, # Do add specials.\n",
        "                                 max_length=max_len,  # Do truncate to `max_len`\n",
        "                                 truncation=True,     # Do truncate!\n",
        "                                 padding=False)       # Don't pad!\n",
        "                                 \n",
        "    # Add the tokenized result to our list.\n",
        "    full_input_ids.append(input_ids)\n",
        "    \n",
        "print('DONE.')\n",
        "print('{:>10,} samples'.format(len(full_input_ids)))"
      ],
      "execution_count": null,
      "outputs": [
        {
          "output_type": "stream",
          "name": "stdout",
          "text": [
            "Tokenizing 25,000 training samples...\n",
            "  Tokenized 0 samples.\n",
            "  Tokenized 2,000 samples.\n",
            "  Tokenized 4,000 samples.\n",
            "  Tokenized 6,000 samples.\n",
            "  Tokenized 8,000 samples.\n",
            "  Tokenized 10,000 samples.\n",
            "  Tokenized 12,000 samples.\n",
            "  Tokenized 14,000 samples.\n",
            "  Tokenized 16,000 samples.\n",
            "  Tokenized 18,000 samples.\n",
            "  Tokenized 20,000 samples.\n",
            "  Tokenized 22,000 samples.\n",
            "  Tokenized 24,000 samples.\n",
            "DONE.\n",
            "    25,000 samples\n"
          ]
        }
      ]
    },
    {
      "cell_type": "markdown",
      "metadata": {
        "id": "s-tcq0AUuUgn"
      },
      "source": [
        "## 4.3. Sort by length"
      ]
    },
    {
      "cell_type": "markdown",
      "metadata": {
        "id": "eFDWjne8_6UK"
      },
      "source": [
        "Before we sort the samples by length, let's look at the lengths of the samples in their original, unsorted order. \n",
        "\n",
        "The below plot simply confirms that the sample lengths do vary significantly, and that they are unsorted."
      ]
    },
    {
      "cell_type": "code",
      "metadata": {
        "id": "1BqIG9dYuCuf"
      },
      "source": [
        "# Get all of the lengths.\n",
        "unsorted_lengths = [len(x) for x in full_input_ids]"
      ],
      "execution_count": null,
      "outputs": []
    },
    {
      "cell_type": "code",
      "metadata": {
        "id": "fXTVF5yNuGTH",
        "colab": {
          "base_uri": "https://localhost:8080/",
          "height": 427
        },
        "outputId": "df11ce48-0cfa-4705-bf90-e9abb178647a"
      },
      "source": [
        "import matplotlib.pyplot as plt\n",
        "import seaborn as sns\n",
        "\n",
        "# Use plot styling from seaborn.\n",
        "sns.set(style='darkgrid')\n",
        "\n",
        "# Increase the plot size and font size.\n",
        "sns.set(font_scale=1.5)\n",
        "plt.rcParams[\"figure.figsize\"] = (12,6)\n",
        "\n",
        "plt.scatter(range(0, len(unsorted_lengths)), unsorted_lengths, marker=\"|\")\n",
        "\n",
        "plt.xlabel('Sample Number')\n",
        "plt.ylabel('Sequence Length')\n",
        "plt.title('Samples BEFORE Sorting')\n",
        "\n",
        "plt.show()"
      ],
      "execution_count": null,
      "outputs": [
        {
          "output_type": "display_data",
          "data": {
            "image/png": "[encoded data removed]",
            "text/plain": [
              "<Figure size 864x432 with 1 Axes>"
            ]
          },
          "metadata": {}
        }
      ]
    },
    {
      "cell_type": "markdown",
      "metadata": {
        "id": "YGsCajGWrs4v"
      },
      "source": [
        "Now we'll sort the examples by length so that we can create batches with equal (or at least similar) lengths.\n",
        "\n",
        "**NOTE:** One departure I've made from Michael's code is in how I sort. Michael sorted the samples by *strength length*, whereas my code is sorting them\n",
        "by their *number of tokens*. The two approaches are very similar of course, but I did confirm that they result in slightly different ordering of the samples."
      ]
    },
    {
      "cell_type": "code",
      "metadata": {
        "id": "wBesjNYe_pVB"
      },
      "source": [
        "# Sort the two lists together by the length of the input sequence.\n",
        "train_samples = sorted(zip(full_input_ids, train_labels), key=lambda x: len(x[0]))"
      ],
      "execution_count": null,
      "outputs": []
    },
    {
      "cell_type": "markdown",
      "metadata": {
        "id": "jemdbaV_EHSm"
      },
      "source": [
        "`train_samples` is now a list of tuples of (input_ids, label):"
      ]
    },
    {
      "cell_type": "code",
      "metadata": {
        "id": "DwuwisoREQ0U",
        "colab": {
          "base_uri": "https://localhost:8080/"
        },
        "outputId": "557f5a99-a71e-4d32-b922-c9b83a0e91f0"
      },
      "source": [
        "train_samples[0]"
      ],
      "execution_count": null,
      "outputs": [
        {
          "output_type": "execute_result",
          "data": {
            "text/plain": [
              "([101, 2023, 3185, 2003, 6659, 2021, 2009, 2038, 2070, 2204, 3896, 1012, 102],\n",
              " 0)"
            ]
          },
          "metadata": {},
          "execution_count": 15
        }
      ]
    },
    {
      "cell_type": "code",
      "metadata": {
        "id": "Hiemov-psBaf",
        "colab": {
          "base_uri": "https://localhost:8080/"
        },
        "outputId": "73296254-5e71-417c-fc43-cb7c7e2887cc"
      },
      "source": [
        "print('Shortest sample:', len(train_samples[0][0]))\n",
        "print('Longest sample:', len(train_samples[-1][0]))"
      ],
      "execution_count": null,
      "outputs": [
        {
          "output_type": "stream",
          "name": "stdout",
          "text": [
            "Shortest sample: 13\n",
            "Longest sample: 400\n"
          ]
        }
      ]
    },
    {
      "cell_type": "markdown",
      "metadata": {
        "id": "8s6xzcSEBDud"
      },
      "source": [
        "Let's generate the same plot again, now that the samples are sorted by length."
      ]
    },
    {
      "cell_type": "code",
      "metadata": {
        "id": "JxFVnp1YsRU3"
      },
      "source": [
        "# Get the new list of lengths after sorting.\n",
        "sorted_lengths = [len(s[0]) for s in train_samples]"
      ],
      "execution_count": null,
      "outputs": []
    },
    {
      "cell_type": "code",
      "metadata": {
        "id": "sKWvR18VsbmK",
        "colab": {
          "base_uri": "https://localhost:8080/",
          "height": 427
        },
        "outputId": "ec287f0e-c7d5-4d84-b088-f028754a95a4"
      },
      "source": [
        "import matplotlib.pyplot as plt\n",
        "import seaborn as sns\n",
        "\n",
        "# Use plot styling from seaborn.\n",
        "sns.set(style='darkgrid')\n",
        "\n",
        "# Increase the plot size and font size.\n",
        "sns.set(font_scale=1.5)\n",
        "plt.rcParams[\"figure.figsize\"] = (12,6)\n",
        "\n",
        "plt.plot(range(0, len(sorted_lengths)), sorted_lengths)\n",
        "\n",
        "plt.xlabel('Sample Number')\n",
        "plt.ylabel('Sequence Length')\n",
        "plt.title('Samples after Sorting')\n",
        "\n",
        "plt.show()"
      ],
      "execution_count": null,
      "outputs": [
        {
          "output_type": "display_data",
          "data": {
            "image/png": "[encoded data removed]",
            "text/plain": [
              "<Figure size 864x432 with 1 Axes>"
            ]
          },
          "metadata": {}
        }
      ]
    },
    {
      "cell_type": "markdown",
      "metadata": {
        "id": "pm0GOKKcuZEl"
      },
      "source": [
        "## 4.4. Random Batch Selection"
      ]
    },
    {
      "cell_type": "markdown",
      "metadata": {
        "id": "rJ2SJre0w3mz"
      },
      "source": [
        "Choose our batch size."
      ]
    },
    {
      "cell_type": "code",
      "metadata": {
        "id": "LPy0XKC8xAWa"
      },
      "source": [
        "batch_size = 16"
      ],
      "execution_count": null,
      "outputs": []
    },
    {
      "cell_type": "markdown",
      "metadata": {
        "id": "mnsyChFGuduN"
      },
      "source": [
        "Now we're ready to select our batches.\n",
        "\n",
        "The strategy used here comes from Michaël Benesty's code, in his `build_batches` function. \n",
        "\n",
        "Rather than dividing the batches up in order, we will still add a degree of\n",
        "**randomness** to our selection.\n",
        "\n",
        "Here's the process:\n",
        "1. Pick a random starting point in the (sorted!) list of samples.\n",
        "2. Grab a contiguous batch of samples starting from that point.\n",
        "3. Delete those samples from the list, and repeat until all of the samples have been grabbed.\n",
        "\n",
        "This will result in some **fragmentation** of the list, which means it won't be quite as efficient as if we just sliced up the batches in sorted order.\n",
        "\n",
        "The benefit is that our path through the training set can still have a degree of randomness. Also, given the distribution of lengths that we saw in the previous section (lots of samples with similar lengths), I bet the fragmentation problem is pretty minor!\n",
        "\n"
      ]
    },
    {
      "cell_type": "code",
      "metadata": {
        "id": "XlDrZ7RUupqz",
        "colab": {
          "base_uri": "https://localhost:8080/"
        },
        "outputId": "325eade9-0240-4acf-a0d5-c779753e37ec"
      },
      "source": [
        "import random\n",
        "\n",
        "# List of batches that we'll construct.\n",
        "batch_ordered_sentences = []\n",
        "batch_ordered_labels = []\n",
        "\n",
        "print('Creating training batches of size {:}'.format(batch_size))\n",
        "\n",
        "# Loop over all of the input samples...    \n",
        "while len(train_samples) > 0:\n",
        "    \n",
        "    # Report progress.\n",
        "    if ((len(batch_ordered_sentences) % 500) == 0):\n",
        "        print('  Selected {:,} batches.'.format(len(batch_ordered_sentences)))\n",
        "\n",
        "    # `to_take` is our actual batch size. It will be `batch_size` until \n",
        "    # we get to the last batch, which may be smaller. \n",
        "    to_take = min(batch_size, len(train_samples))\n",
        "\n",
        "    # Pick a random index in the list of remaining samples to start\n",
        "    # our batch at.\n",
        "    select = random.randint(0, len(train_samples) - to_take)\n",
        "\n",
        "    # Select a contiguous batch of samples starting at `select`.\n",
        "    batch = train_samples[select:(select + to_take)]\n",
        "\n",
        "    # Each sample is a tuple--split them apart to create a separate list of \n",
        "    # sequences and a list of labels for this batch.\n",
        "    batch_ordered_sentences.append([s[0] for s in batch])\n",
        "    batch_ordered_labels.append([s[1] for s in batch])\n",
        "\n",
        "    # Remove these samples from the list.\n",
        "    del train_samples[select:select + to_take]\n",
        "\n",
        "print('\\n  DONE - {:,} batches.'.format(len(batch_ordered_sentences)))"
      ],
      "execution_count": null,
      "outputs": [
        {
          "output_type": "stream",
          "name": "stdout",
          "text": [
            "Creating training batches of size 16\n",
            "  Selected 0 batches.\n",
            "  Selected 500 batches.\n",
            "  Selected 1,000 batches.\n",
            "  Selected 1,500 batches.\n",
            "\n",
            "  DONE - 1,563 batches.\n"
          ]
        }
      ]
    },
    {
      "cell_type": "markdown",
      "metadata": {
        "id": "u6AwCaAvxXdN"
      },
      "source": [
        "## 4.5. Add Padding"
      ]
    },
    {
      "cell_type": "markdown",
      "metadata": {
        "id": "V9sufUYt7GQA"
      },
      "source": [
        "We've created our batches, but many of them will contain sequences of different lengths. In order to leverage the GPUs parallel processing of batches, all of the sequences *within a batch* need to be the same length.\n",
        "\n",
        "This means we need to do some padding!\n",
        "\n",
        "We'll also create our **attention masks** here, and cast everything to **PyTorch tensors** in preparation for our fine-tuning step."
      ]
    },
    {
      "cell_type": "code",
      "metadata": {
        "id": "kCNYTKpixPMJ"
      },
      "source": [
        "import torch\n",
        "\n",
        "py_inputs = []\n",
        "py_attn_masks = []\n",
        "py_labels = []\n",
        "\n",
        "# For each batch...\n",
        "for (batch_inputs, batch_labels) in zip(batch_ordered_sentences, batch_ordered_labels):\n",
        "\n",
        "    # New version of the batch, this time with padded sequences and now with\n",
        "    # attention masks defined.\n",
        "    batch_padded_inputs = []\n",
        "    batch_attn_masks = []\n",
        "    \n",
        "    # First, find the longest sample in the batch. \n",
        "    # Note that the sequences do currently include the special tokens!\n",
        "    max_size = max([len(sen) for sen in batch_inputs])\n",
        "\n",
        "    #print('Max size:', max_size)\n",
        "\n",
        "    # For each input in this batch...\n",
        "    for sen in batch_inputs:\n",
        "        \n",
        "        # How many pad tokens do we need to add?\n",
        "        num_pads = max_size - len(sen)\n",
        "\n",
        "        # Add `num_pads` padding tokens to the end of the sequence.\n",
        "        padded_input = sen + [tokenizer.pad_token_id]*num_pads\n",
        "\n",
        "        # Define the attention mask--it's just a `1` for every real token\n",
        "        # and a `0` for every padding token.\n",
        "        attn_mask = [1] * len(sen) + [0] * num_pads\n",
        "\n",
        "        # Add the padded results to the batch.\n",
        "        batch_padded_inputs.append(padded_input)\n",
        "        batch_attn_masks.append(attn_mask)\n",
        "\n",
        "    # Our batch has been padded, so we need to save this updated batch.\n",
        "    # We also need the inputs to be PyTorch tensors, so we'll do that here.\n",
        "    py_inputs.append(torch.tensor(batch_padded_inputs))\n",
        "    py_attn_masks.append(torch.tensor(batch_attn_masks))\n",
        "    py_labels.append(torch.tensor(batch_labels))\n"
      ],
      "execution_count": null,
      "outputs": []
    },
    {
      "cell_type": "markdown",
      "metadata": {
        "id": "TACAmCf-Lavx"
      },
      "source": [
        "Now that our data is ready, we can calculate the total number of tokens in the training data after using smart batching."
      ]
    },
    {
      "cell_type": "code",
      "metadata": {
        "id": "BPQgl1wYLa59",
        "colab": {
          "base_uri": "https://localhost:8080/"
        },
        "outputId": "4cfbce88-63e4-44ae-fa9d-04870796efbf"
      },
      "source": [
        "# Get the new list of lengths after sorting.\n",
        "padded_lengths = []\n",
        "\n",
        "# For each batch...\n",
        "for batch in py_inputs:\n",
        "    \n",
        "    # For each sample...\n",
        "    for s in batch:\n",
        "    \n",
        "        # Record its length.\n",
        "        padded_lengths.append(len(s))\n",
        "\n",
        "# Sum up the lengths to the get the total number of tokens after smart batching.\n",
        "smart_token_count = np.sum(padded_lengths)\n",
        "\n",
        "# To get the total number of tokens in the dataset using fixed padding, it's\n",
        "# as simple as the number of samples times our `max_len` parameter (that we\n",
        "# would pad everything to).\n",
        "fixed_token_count = len(train_text) * max_len\n",
        "\n",
        "# Calculate the percentage reduction.\n",
        "prcnt_reduced = (fixed_token_count - smart_token_count) / float(fixed_token_count) \n",
        "\n",
        "print('Total tokens:')\n",
        "print('   Fixed Padding: {:,}'.format(fixed_token_count))\n",
        "print('  Smart Batching: {:,}  ({:.1%} less)'.format(smart_token_count, prcnt_reduced))\n"
      ],
      "execution_count": null,
      "outputs": [
        {
          "output_type": "stream",
          "name": "stdout",
          "text": [
            "Total tokens:\n",
            "   Fixed Padding: 10,000,000\n",
            "  Smart Batching: 6,374,656  (36.3% less)\n"
          ]
        }
      ]
    },
    {
      "cell_type": "markdown",
      "metadata": {
        "id": "nooeo-i4OtqB"
      },
      "source": [
        "We'll see at the end that this reduction in token count corresponds well to the reduction in training time!"
      ]
    },
    {
      "cell_type": "markdown",
      "metadata": {
        "id": "DaIlkeK2eDJw"
      },
      "source": [
        "## 4.6. Old Approach - Fixed Padding"
      ]
    },
    {
      "cell_type": "markdown",
      "metadata": {
        "id": "vEwaEqwf6zQW"
      },
      "source": [
        "To see how BERT does on the benchmark *without* smart batching, you can run the following cell instead of sections 4.2. - 4.5."
      ]
    },
    {
      "cell_type": "code",
      "metadata": {
        "id": "wCHBwwFxeH-m"
      },
      "source": [
        "use_fixed_padding = False\n",
        "\n",
        "if use_fixed_padding:\n",
        "\n",
        "    # Specify batch_size and truncation length.    \n",
        "    batch_size = 16\n",
        "    max_len = 400   \n",
        "\n",
        "    # Tokenize all training examples\n",
        "    print('Tokenizing {:,} training samples...'.format(len(train_text)))\n",
        "\n",
        "    # Tokenize all of the sentences and map the tokens to thier word IDs.\n",
        "    batches_input_ids = []\n",
        "    batches_attention_masks = []\n",
        "    batches_labels = []\n",
        "\n",
        "    update_interval = batch_size * 150 \n",
        "\n",
        "    # For every sentence...\n",
        "    for i in range(0, len(train_text), batch_size):\n",
        "\n",
        "        # Report progress.\n",
        "        if ((i % update_interval) == 0):\n",
        "            print('  Tokenized {:,} samples.'.format(i))\n",
        "\n",
        "        # `encode_plus` will:\n",
        "        #   (1) Tokenize the sentence.\n",
        "        #   (2) Prepend the `[CLS]` token to the start.\n",
        "        #   (3) Append the `[SEP]` token to the end.\n",
        "        #   (4) Map tokens to their IDs.\n",
        "        #   (5) Pad or truncate the sentence to `max_length`\n",
        "        #   (6) Create attention masks for [PAD] tokens.\n",
        "        encoded_dict = tokenizer.batch_encode_plus(\n",
        "                            train_text[i:i+batch_size], # Batch of sentences to encode.\n",
        "                            add_special_tokens = True,  # Add '[CLS]' and '[SEP]'\n",
        "                            max_length = 400,           # Pad & truncate all sentences.\n",
        "                            padding = 'max_length',     # Pad all to the `max_length` parameter.\n",
        "                            truncation = True,\n",
        "                            return_attention_mask = True,   # Construct attn. masks.\n",
        "                            return_tensors = 'pt',     # Return pytorch tensors.\n",
        "                    )\n",
        "        \n",
        "        # Add the encoded sentence to the list.    \n",
        "        batches_input_ids.append(encoded_dict['input_ids'])\n",
        "        \n",
        "        # And its attention mask (simply differentiates padding from non-padding).\n",
        "        batches_attention_masks.append(encoded_dict['attention_mask'])\n",
        "\n",
        "        # Add the labels for the batch\n",
        "        batches_labels.append(torch.tensor(train_labels[i:i+batch_size]))\n",
        "    \n",
        "    # Rename the final variable to match the rest of the code in this Notebook.\n",
        "    py_inputs = batches_input_ids\n",
        "    py_attn_masks = batches_attention_masks\n",
        "    py_labels = batches_labels"
      ],
      "execution_count": null,
      "outputs": []
    },
    {
      "cell_type": "markdown",
      "metadata": {
        "id": "IvuYLP7TDpXH"
      },
      "source": [
        "# S5. Fine-Tune BERT"
      ]
    },
    {
      "cell_type": "markdown",
      "metadata": {
        "id": "OwdfO8VuxHE-"
      },
      "source": [
        "## 5.1. Load Pre-Trained Model"
      ]
    },
    {
      "cell_type": "markdown",
      "metadata": {
        "id": "f79lyPNLPT9h"
      },
      "source": [
        "We'll use BERT-base-uncased for this example. \n",
        "\n",
        "`transformers` defines these `Auto` classes which will automatically select the correct class for the specifc pre-trained model that you specified.\n",
        "\n"
      ]
    },
    {
      "cell_type": "code",
      "metadata": {
        "id": "8GZPd5vWKrpL",
        "colab": {
          "base_uri": "https://localhost:8080/"
        },
        "outputId": "aa9b916d-06ac-4750-a576-29276e3db199"
      },
      "source": [
        "from transformers import AutoConfig\n",
        "\n",
        "# Load the Config object, with an output configured for classification.\n",
        "config = AutoConfig.from_pretrained(pretrained_model_name_or_path='bert-base-uncased',\n",
        "                                    num_labels=2)\n",
        "\n",
        "print('Config type:', str(type(config)), '\\n')\n"
      ],
      "execution_count": null,
      "outputs": [
        {
          "output_type": "stream",
          "name": "stdout",
          "text": [
            "Config type: <class 'transformers.models.bert.configuration_bert.BertConfig'> \n",
            "\n"
          ]
        }
      ]
    },
    {
      "cell_type": "code",
      "metadata": {
        "id": "CNGJIqqVKvZG",
        "colab": {
          "base_uri": "https://localhost:8080/",
          "height": 194,
          "referenced_widgets": [
            "8c1ea17907514880b6167b86e765b91e",
            "826d2074e04747c2aa7be348ec0f90eb",
            "84308af7d4644e38b3d6a5de85fbee5b",
            "596f0047f6e6404b87e5031b5381a39e",
            "1cd20295db324b01b8f85838127b6408",
            "c82e7247c92e4a7d96ad023f089d9959",
            "54734c5d6a11423cb312e163f7a1675c",
            "6384814a05154183ad821e53862fca76",
            "4d3f03c7aae84deaa065a4379ae248fb",
            "3cf4417cb888416da9c95fd0f6d3c44c",
            "7068d1c9422c4f568cf722ade092bb1c"
          ]
        },
        "outputId": "7d341310-76b7-4b6e-eaa4-e732cc5cea26"
      },
      "source": [
        "from transformers import AutoModelForSequenceClassification\n",
        "\n",
        "# Load the pre-trained model for classification, passing in the `config` from\n",
        "# above.\n",
        "model = AutoModelForSequenceClassification.from_pretrained(\n",
        "    pretrained_model_name_or_path='bert-base-uncased',\n",
        "    config=config)\n",
        "\n",
        "print('\\nModel type:', str(type(model)))\n"
      ],
      "execution_count": null,
      "outputs": [
        {
          "output_type": "display_data",
          "data": {
            "application/vnd.jupyter.widget-view+json": {
              "model_id": "8c1ea17907514880b6167b86e765b91e",
              "version_minor": 0,
              "version_major": 2
            },
            "text/plain": [
              "Downloading:   0%|          | 0.00/420M [00:00<?, ?B/s]"
            ]
          },
          "metadata": {}
        },
        {
          "output_type": "stream",
          "name": "stderr",
          "text": [
            "Some weights of the model checkpoint at bert-base-uncased were not used when initializing BertForSequenceClassification: ['cls.predictions.decoder.weight', 'cls.predictions.transform.dense.weight', 'cls.predictions.transform.LayerNorm.weight', 'cls.predictions.transform.LayerNorm.bias', 'cls.seq_relationship.weight', 'cls.predictions.bias', 'cls.predictions.transform.dense.bias', 'cls.seq_relationship.bias']\n",
            "- This IS expected if you are initializing BertForSequenceClassification from the checkpoint of a model trained on another task or with another architecture (e.g. initializing a BertForSequenceClassification model from a BertForPreTraining model).\n",
            "- This IS NOT expected if you are initializing BertForSequenceClassification from the checkpoint of a model that you expect to be exactly identical (initializing a BertForSequenceClassification model from a BertForSequenceClassification model).\n",
            "Some weights of BertForSequenceClassification were not initialized from the model checkpoint at bert-base-uncased and are newly initialized: ['classifier.bias', 'classifier.weight']\n",
            "You should probably TRAIN this model on a down-stream task to be able to use it for predictions and inference.\n"
          ]
        },
        {
          "output_type": "stream",
          "name": "stdout",
          "text": [
            "\n",
            "Model type: <class 'transformers.models.bert.modeling_bert.BertForSequenceClassification'>\n"
          ]
        }
      ]
    },
    {
      "cell_type": "markdown",
      "metadata": {
        "id": "Sa7tgw2-Pttq"
      },
      "source": [
        "Connect to the GPU and load our model onto it.\n",
        "\n",
        "It's worth taking note of which GPU you're given. The Tesla P100 is much faster, for example, than the Tesla K80."
      ]
    },
    {
      "cell_type": "code",
      "metadata": {
        "id": "Asqmh0uTKuTx",
        "colab": {
          "base_uri": "https://localhost:8080/"
        },
        "outputId": "c727eb02-35ac-448e-d35c-e9b3b70a7f28"
      },
      "source": [
        "import torch\n",
        "\n",
        "print('\\nLoading model to GPU...')\n",
        "\n",
        "device = torch.device('cuda')\n",
        "\n",
        "print('  GPU:', torch.cuda.get_device_name(0))\n",
        "\n",
        "desc = model.to(device)\n",
        "\n",
        "print('    DONE.')"
      ],
      "execution_count": null,
      "outputs": [
        {
          "output_type": "stream",
          "name": "stdout",
          "text": [
            "\n",
            "Loading model to GPU...\n",
            "  GPU: Tesla T4\n",
            "    DONE.\n"
          ]
        }
      ]
    },
    {
      "cell_type": "markdown",
      "metadata": {
        "id": "qRWT-D4U_Pvx"
      },
      "source": [
        "## 5.2. Optimizer & Learning Rate Scheduler"
      ]
    },
    {
      "cell_type": "markdown",
      "metadata": {
        "id": "8o-VEBobKwHk"
      },
      "source": [
        "Set up our optimizer and learning rate scheduler for training."
      ]
    },
    {
      "cell_type": "code",
      "metadata": {
        "id": "GLs72DuMODJO",
        "colab": {
          "base_uri": "https://localhost:8080/"
        },
        "outputId": "9ef7ee8f-5bb0-45b1-a1c6-d7fad5595530"
      },
      "source": [
        "from transformers import AdamW\n",
        "\n",
        "# Note: AdamW is a class from the huggingface library (as opposed to pytorch) \n",
        "# I believe the 'W' stands for 'Weight Decay fix\"\n",
        "optimizer = AdamW(model.parameters(),\n",
        "                  lr = 5e-5, # This is the value Michael used.\n",
        "                  eps = 1e-8 # args.adam_epsilon  - default is 1e-8.\n",
        "                )\n"
      ],
      "execution_count": null,
      "outputs": [
        {
          "output_type": "stream",
          "name": "stderr",
          "text": [
            "/usr/local/lib/python3.7/dist-packages/transformers/optimization.py:309: FutureWarning: This implementation of AdamW is deprecated and will be removed in a future version. Use thePyTorch implementation torch.optim.AdamW instead, or set `no_deprecation_warning=True` to disable this warning\n",
            "  FutureWarning,\n"
          ]
        }
      ]
    },
    {
      "cell_type": "code",
      "metadata": {
        "id": "-p0upAhhRiIx"
      },
      "source": [
        "from transformers import get_linear_schedule_with_warmup\n",
        "\n",
        "# Number of training epochs. I chose to train for 1 simply because the training\n",
        "# time is long. More epochs may improve the model's accuracy.\n",
        "epochs = 1\n",
        "\n",
        "# Total number of training steps is [number of batches] x [number of epochs]. \n",
        "# Note that it's the number of *batches*, not *samples*!\n",
        "total_steps = len(py_inputs) * epochs\n",
        "\n",
        "# Create the learning rate scheduler.\n",
        "scheduler = get_linear_schedule_with_warmup(optimizer, \n",
        "                                            num_warmup_steps = 0, # Default value in run_glue.py\n",
        "                                            num_training_steps = total_steps)"
      ],
      "execution_count": null,
      "outputs": []
    },
    {
      "cell_type": "markdown",
      "metadata": {
        "id": "RqfmWwUR_Sox"
      },
      "source": [
        "## 5.3. Training Loop"
      ]
    },
    {
      "cell_type": "markdown",
      "metadata": {
        "id": "_QXZhFb4LnV5"
      },
      "source": [
        "In previous examples I've made use of the PyTorch Dataset and DataLoader classes, but because of the smart batching I'm not using them in this Notebook.\n",
        "\n",
        "*Note: If you have modified this Notebook to run for more than one epoch, you'll need the `make_smart_batches` function defined in section 6.1.*\n"
      ]
    },
    {
      "cell_type": "markdown",
      "metadata": {
        "id": "cfNIhN19te3N"
      },
      "source": [
        "We're ready to kick off the training!"
      ]
    },
    {
      "cell_type": "code",
      "metadata": {
        "id": "6J-FYdx6nFE_",
        "colab": {
          "base_uri": "https://localhost:8080/"
        },
        "outputId": "e156ce05-055d-4baa-a2ac-84332991636b"
      },
      "source": [
        "import random\n",
        "import numpy as np\n",
        "\n",
        "# This training code is based on the `run_glue.py` script here:\n",
        "# https://github.com/huggingface/transformers/blob/5bfcd0485ece086ebcbed2d008813037968a9e58/examples/run_glue.py#L128\n",
        "\n",
        "# Set the seed value all over the place to make this reproducible.\n",
        "seed_val = 321\n",
        "\n",
        "random.seed(seed_val)\n",
        "np.random.seed(seed_val)\n",
        "torch.manual_seed(seed_val)\n",
        "torch.cuda.manual_seed_all(seed_val)\n",
        "\n",
        "# We'll store a number of quantities such as training and validation loss, \n",
        "# validation accuracy, and timings.\n",
        "training_stats = []\n",
        "\n",
        "# Update every `update_interval` batches.\n",
        "update_interval = good_update_interval(total_iters=len(py_inputs), num_desired_updates=10)\n",
        "\n",
        "# Measure the total training time for the whole run.\n",
        "total_t0 = time.time()\n",
        "\n",
        "# For each epoch...\n",
        "for epoch_i in range(0, epochs):\n",
        "    \n",
        "    # ========================================\n",
        "    #               Training\n",
        "    # ========================================\n",
        "    \n",
        "    # Perform one full pass over the training set.\n",
        "\n",
        "    print(\"\")\n",
        "    print('======== Epoch {:} / {:} ========'.format(epoch_i + 1, epochs))\n",
        "    \n",
        "    # At the start of each epoch (except for the first) we need to re-randomize\n",
        "    # our training data.\n",
        "    if epoch_i > 0:\n",
        "        # Use our `make_smart_batches` function (from 6.1.) to re-shuffle the \n",
        "        # dataset into new batches.\n",
        "        (py_inputs, py_attn_masks, py_labels) = make_smart_batches(train_text, train_labels, batch_size)\n",
        "    \n",
        "    print('Training on {:,} batches...'.format(len(py_inputs)))\n",
        "\n",
        "    # Measure how long the training epoch takes.\n",
        "    t0 = time.time()\n",
        "\n",
        "    # Reset the total loss for this epoch.\n",
        "    total_train_loss = 0\n",
        "\n",
        "    # Put the model into training mode. Don't be mislead--the call to \n",
        "    # `train` just changes the *mode*, it doesn't *perform* the training.\n",
        "    # `dropout` and `batchnorm` layers behave differently during training\n",
        "    # vs. test (source: https://stackoverflow.com/questions/51433378/what-does-model-train-do-in-pytorch)\n",
        "    model.train()\n",
        "\n",
        "    # For each batch of training data...\n",
        "    for step in range(0, len(py_inputs)):\n",
        "\n",
        "        # Progress update every, e.g., 100 batches.\n",
        "        if step % update_interval == 0 and not step == 0:\n",
        "            # Calculate elapsed time in minutes.\n",
        "            elapsed = format_time(time.time() - t0)\n",
        "            \n",
        "            # Calculate the time remaining based on our progress.\n",
        "            steps_per_sec = (time.time() - t0) / step\n",
        "            remaining_sec = steps_per_sec * (len(py_inputs) - step)\n",
        "            remaining = format_time(remaining_sec)\n",
        "\n",
        "            # Report progress.\n",
        "            print('  Batch {:>7,}  of  {:>7,}.    Elapsed: {:}.  Remaining: {:}'.format(step, len(py_inputs), elapsed, remaining))\n",
        "\n",
        "        # Copy the current training batch to the GPU using the `to` method.\n",
        "        b_input_ids = py_inputs[step].to(device)\n",
        "        b_input_mask = py_attn_masks[step].to(device)\n",
        "        b_labels = py_labels[step].to(device)\n",
        "\n",
        "        # Always clear any previously calculated gradients before performing a\n",
        "        # backward pass.\n",
        "        model.zero_grad()        \n",
        "\n",
        "        # Perform a forward pass (evaluate the model on this training batch).\n",
        "        # The call returns the loss (because we provided labels) and the \n",
        "        # \"logits\"--the model outputs prior to activation.\n",
        "        result = model(b_input_ids, \n",
        "                       token_type_ids=None, \n",
        "                       attention_mask=b_input_mask, \n",
        "                       labels=b_labels,\n",
        "                       return_dict = True)\n",
        "\n",
        "        loss = result.loss\n",
        "\n",
        "        # Accumulate the training loss over all of the batches so that we can\n",
        "        # calculate the average loss at the end. `loss` is a Tensor containing a\n",
        "        # single value; the `.item()` function just returns the Python value \n",
        "        # from the tensor.\n",
        "        total_train_loss += loss.item()\n",
        "\n",
        "        # Perform a backward pass to calculate the gradients.\n",
        "        loss.backward()\n",
        "\n",
        "        # Clip the norm of the gradients to 1.0.\n",
        "        # This is to help prevent the \"exploding gradients\" problem.\n",
        "        torch.nn.utils.clip_grad_norm_(model.parameters(), 1.0)\n",
        "\n",
        "        # Update parameters and take a step using the computed gradient.\n",
        "        # The optimizer dictates the \"update rule\"--how the parameters are\n",
        "        # modified based on their gradients, the learning rate, etc.\n",
        "        optimizer.step()\n",
        "\n",
        "        # Update the learning rate.\n",
        "        scheduler.step()\n",
        "\n",
        "    # Calculate the average loss over all of the batches.\n",
        "    avg_train_loss = total_train_loss / len(py_inputs)            \n",
        "    \n",
        "    # Measure how long this epoch took.\n",
        "    training_time = format_time(time.time() - t0)\n",
        "\n",
        "    print(\"\")\n",
        "    print(\"  Average training loss: {0:.2f}\".format(avg_train_loss))\n",
        "    print(\"  Training epcoh took: {:}\".format(training_time))\n",
        "        \n",
        "    # Record all statistics from this epoch.\n",
        "    training_stats.append(\n",
        "        {\n",
        "            'epoch': epoch_i + 1,\n",
        "            'Training Loss': avg_train_loss,\n",
        "            'Training Time': training_time,\n",
        "        }\n",
        "    )\n",
        "\n",
        "print(\"\")\n",
        "print(\"Training complete!\")\n",
        "\n",
        "print(\"Total training took {:} (h:mm:ss)\".format(format_time(time.time()-total_t0)))"
      ],
      "execution_count": null,
      "outputs": [
        {
          "output_type": "stream",
          "name": "stdout",
          "text": [
            "\n",
            "======== Epoch 1 / 1 ========\n",
            "Training on 1,563 batches...\n",
            "  Batch     200  of    1,563.    Elapsed: 0:02:37.  Remaining: 0:17:50\n",
            "  Batch     400  of    1,563.    Elapsed: 0:05:19.  Remaining: 0:15:26\n",
            "  Batch     600  of    1,563.    Elapsed: 0:07:58.  Remaining: 0:12:48\n",
            "  Batch     800  of    1,563.    Elapsed: 0:10:38.  Remaining: 0:10:08\n",
            "  Batch   1,000  of    1,563.    Elapsed: 0:13:15.  Remaining: 0:07:27\n",
            "  Batch   1,200  of    1,563.    Elapsed: 0:16:00.  Remaining: 0:04:50\n",
            "  Batch   1,400  of    1,563.    Elapsed: 0:18:50.  Remaining: 0:02:12\n",
            "\n",
            "  Average training loss: 0.26\n",
            "  Training epcoh took: 0:21:07\n",
            "\n",
            "Training complete!\n",
            "Total training took 0:21:07 (h:mm:ss)\n"
          ]
        }
      ]
    },
    {
      "cell_type": "markdown",
      "metadata": {
        "id": "_5eZFCVPPn7J"
      },
      "source": [
        "# S6. Evaluate on Test Set"
      ]
    },
    {
      "cell_type": "markdown",
      "metadata": {
        "id": "gLJ5NCUFQujZ"
      },
      "source": [
        "### 6.1. `make_smart_batches`"
      ]
    },
    {
      "cell_type": "markdown",
      "metadata": {
        "id": "JVTpC6V8E2_q"
      },
      "source": [
        "This function combines all of the steps from the \"Smart Batching\" section into a single (re-usable) function. You can use this in your own Notebook for applying smart batching to both your training and test sets."
      ]
    },
    {
      "cell_type": "code",
      "metadata": {
        "id": "g5LVFY7MPqRf"
      },
      "source": [
        "def make_smart_batches(text_samples, labels, batch_size):\n",
        "    '''\n",
        "    This function combines all of the required steps to prepare batches.\n",
        "    '''\n",
        "\n",
        "    print('Creating Smart Batches from {:,} examples with batch size {:,}...\\n'.format(len(text_samples), batch_size))\n",
        "\n",
        "    # =========================\n",
        "    #   Tokenize & Truncate\n",
        "    # =========================\n",
        "\n",
        "    full_input_ids = []\n",
        "\n",
        "    # Tokenize all training examples\n",
        "    print('Tokenizing {:,} samples...'.format(len(labels)))\n",
        "\n",
        "    # Choose an interval on which to print progress updates.\n",
        "    update_interval = good_update_interval(total_iters=len(labels), num_desired_updates=10)\n",
        "\n",
        "    # For each training example...\n",
        "    for text in text_samples:\n",
        "        \n",
        "        # Report progress.\n",
        "        if ((len(full_input_ids) % update_interval) == 0):\n",
        "            print('  Tokenized {:,} samples.'.format(len(full_input_ids)))\n",
        "\n",
        "        # Tokenize the sample.\n",
        "        input_ids = tokenizer.encode(text=text,              # Text to encode.\n",
        "                                    add_special_tokens=True, # Do add specials.\n",
        "                                    max_length=max_len,      # Do Truncate!\n",
        "                                    truncation=True,         # Do Truncate!\n",
        "                                    padding=False)           # DO NOT pad.\n",
        "                                    \n",
        "        # Add the tokenized result to our list.\n",
        "        full_input_ids.append(input_ids)\n",
        "        \n",
        "    print('DONE.')\n",
        "    print('{:>10,} samples\\n'.format(len(full_input_ids)))\n",
        "\n",
        "    # =========================\n",
        "    #      Select Batches\n",
        "    # =========================    \n",
        "\n",
        "    # Sort the two lists together by the length of the input sequence.\n",
        "    samples = sorted(zip(full_input_ids, labels), key=lambda x: len(x[0]))\n",
        "\n",
        "    print('{:>10,} samples after sorting\\n'.format(len(samples)))\n",
        "\n",
        "    import random\n",
        "\n",
        "    # List of batches that we'll construct.\n",
        "    batch_ordered_sentences = []\n",
        "    batch_ordered_labels = []\n",
        "\n",
        "    print('Creating batches of size {:}...'.format(batch_size))\n",
        "\n",
        "    # Choose an interval on which to print progress updates.\n",
        "    update_interval = good_update_interval(total_iters=len(samples), num_desired_updates=10)\n",
        "    \n",
        "    # Loop over all of the input samples...    \n",
        "    while len(samples) > 0:\n",
        "        \n",
        "        # Report progress.\n",
        "        if ((len(batch_ordered_sentences) % update_interval) == 0 \\\n",
        "            and not len(batch_ordered_sentences) == 0):\n",
        "            print('  Selected {:,} batches.'.format(len(batch_ordered_sentences)))\n",
        "\n",
        "        # `to_take` is our actual batch size. It will be `batch_size` until \n",
        "        # we get to the last batch, which may be smaller. \n",
        "        to_take = min(batch_size, len(samples))\n",
        "\n",
        "        # Pick a random index in the list of remaining samples to start\n",
        "        # our batch at.\n",
        "        select = random.randint(0, len(samples) - to_take)\n",
        "\n",
        "        # Select a contiguous batch of samples starting at `select`.\n",
        "        #print(\"Selecting batch from {:} to {:}\".format(select, select+to_take))\n",
        "        batch = samples[select:(select + to_take)]\n",
        "\n",
        "        #print(\"Batch length:\", len(batch))\n",
        "\n",
        "        # Each sample is a tuple--split them apart to create a separate list of \n",
        "        # sequences and a list of labels for this batch.\n",
        "        batch_ordered_sentences.append([s[0] for s in batch])\n",
        "        batch_ordered_labels.append([s[1] for s in batch])\n",
        "\n",
        "        # Remove these samples from the list.\n",
        "        del samples[select:select + to_take]\n",
        "\n",
        "    print('\\n  DONE - Selected {:,} batches.\\n'.format(len(batch_ordered_sentences)))\n",
        "\n",
        "    # =========================\n",
        "    #        Add Padding\n",
        "    # =========================    \n",
        "\n",
        "    print('Padding out sequences within each batch...')\n",
        "\n",
        "    py_inputs = []\n",
        "    py_attn_masks = []\n",
        "    py_labels = []\n",
        "\n",
        "    # For each batch...\n",
        "    for (batch_inputs, batch_labels) in zip(batch_ordered_sentences, batch_ordered_labels):\n",
        "\n",
        "        # New version of the batch, this time with padded sequences and now with\n",
        "        # attention masks defined.\n",
        "        batch_padded_inputs = []\n",
        "        batch_attn_masks = []\n",
        "        \n",
        "        # First, find the longest sample in the batch. \n",
        "        # Note that the sequences do currently include the special tokens!\n",
        "        max_size = max([len(sen) for sen in batch_inputs])\n",
        "\n",
        "        # For each input in this batch...\n",
        "        for sen in batch_inputs:\n",
        "            \n",
        "            # How many pad tokens do we need to add?\n",
        "            num_pads = max_size - len(sen)\n",
        "\n",
        "            # Add `num_pads` padding tokens to the end of the sequence.\n",
        "            padded_input = sen + [tokenizer.pad_token_id]*num_pads\n",
        "\n",
        "            # Define the attention mask--it's just a `1` for every real token\n",
        "            # and a `0` for every padding token.\n",
        "            attn_mask = [1] * len(sen) + [0] * num_pads\n",
        "\n",
        "            # Add the padded results to the batch.\n",
        "            batch_padded_inputs.append(padded_input)\n",
        "            batch_attn_masks.append(attn_mask)\n",
        "\n",
        "        # Our batch has been padded, so we need to save this updated batch.\n",
        "        # We also need the inputs to be PyTorch tensors, so we'll do that here.\n",
        "        # Todo - Michael's code specified \"dtype=torch.long\"\n",
        "        py_inputs.append(torch.tensor(batch_padded_inputs))\n",
        "        py_attn_masks.append(torch.tensor(batch_attn_masks))\n",
        "        py_labels.append(torch.tensor(batch_labels))\n",
        "    \n",
        "    print('  DONE.')\n",
        "\n",
        "    # Return the smart-batched dataset!\n",
        "    return (py_inputs, py_attn_masks, py_labels)\n"
      ],
      "execution_count": null,
      "outputs": []
    },
    {
      "cell_type": "markdown",
      "metadata": {
        "id": "XjeMtTILT5iU"
      },
      "source": [
        "## 6.2. Load Test Dataset & Smart Batch"
      ]
    },
    {
      "cell_type": "markdown",
      "metadata": {
        "id": "sMacm82SS88H"
      },
      "source": [
        "Load the test dataset. This file has more columns, and contains rows for different languages (we'll only select the French test samples)."
      ]
    },
    {
      "cell_type": "code",
      "metadata": {
        "id": "xGuZAHn_S-fG",
        "colab": {
          "base_uri": "https://localhost:8080/"
        },
        "outputId": "242e6983-2ba1-4ba4-b88a-d3e9f04c2fda"
      },
      "source": [
        "# Use our new function to completely prepare our dataset.\n",
        "(py_inputs, py_attn_masks, py_labels) = make_smart_batches(test_text, test_labels, batch_size)"
      ],
      "execution_count": null,
      "outputs": [
        {
          "output_type": "stream",
          "name": "stdout",
          "text": [
            "Creating Smart Batches from 25,000 examples with batch size 16...\n",
            "\n",
            "Tokenizing 25,000 samples...\n",
            "  Tokenized 0 samples.\n",
            "  Tokenized 2,000 samples.\n",
            "  Tokenized 4,000 samples.\n",
            "  Tokenized 6,000 samples.\n",
            "  Tokenized 8,000 samples.\n",
            "  Tokenized 10,000 samples.\n",
            "  Tokenized 12,000 samples.\n",
            "  Tokenized 14,000 samples.\n",
            "  Tokenized 16,000 samples.\n",
            "  Tokenized 18,000 samples.\n",
            "  Tokenized 20,000 samples.\n",
            "  Tokenized 22,000 samples.\n",
            "  Tokenized 24,000 samples.\n",
            "DONE.\n",
            "    25,000 samples\n",
            "\n",
            "    25,000 samples after sorting\n",
            "\n",
            "Creating batches of size 16...\n",
            "\n",
            "  DONE - Selected 1,563 batches.\n",
            "\n",
            "Padding out sequences within each batch...\n",
            "  DONE.\n"
          ]
        }
      ]
    },
    {
      "cell_type": "markdown",
      "metadata": {
        "id": "2RfSDldsUmKn"
      },
      "source": [
        "## 6.3. Evaluate"
      ]
    },
    {
      "cell_type": "markdown",
      "metadata": {
        "id": "rhR99IISNMg9"
      },
      "source": [
        "\n",
        "With the test set prepared, we can apply our fine-tuned model to generate predictions on the test set."
      ]
    },
    {
      "cell_type": "code",
      "metadata": {
        "id": "Hba10sXR7Xi6",
        "colab": {
          "base_uri": "https://localhost:8080/"
        },
        "outputId": "4f6952de-a5f9-44db-c931-439ec2c5186a"
      },
      "source": [
        "# Prediction on test set\n",
        "\n",
        "print('Predicting labels for {:,} test sentences...'.format(len(test_labels)))\n",
        "\n",
        "# Put model in evaluation mode\n",
        "model.eval()\n",
        "\n",
        "# Tracking variables \n",
        "predictions , true_labels = [], []\n",
        "\n",
        "# Choose an interval on which to print progress updates.\n",
        "update_interval = good_update_interval(total_iters=len(py_inputs), num_desired_updates=10)\n",
        "\n",
        "# Measure elapsed time.\n",
        "t0 = time.time()\n",
        "\n",
        "# Put model in evaluation mode\n",
        "model.eval()\n",
        "\n",
        "# For each batch of training data...\n",
        "for step in range(0, len(py_inputs)):\n",
        "\n",
        "    # Progress update every 100 batches.\n",
        "    if step % update_interval == 0 and not step == 0:\n",
        "        # Calculate elapsed time in minutes.\n",
        "        elapsed = format_time(time.time() - t0)\n",
        "        \n",
        "        # Calculate the time remaining based on our progress.\n",
        "        steps_per_sec = (time.time() - t0) / step\n",
        "        remaining_sec = steps_per_sec * (len(py_inputs) - step)\n",
        "        remaining = format_time(remaining_sec)\n",
        "\n",
        "        # Report progress.\n",
        "        print('  Batch {:>7,}  of  {:>7,}.    Elapsed: {:}.  Remaining: {:}'.format(step, len(py_inputs), elapsed, remaining))\n",
        "\n",
        "    # Copy the batch to the GPU.\n",
        "    b_input_ids = py_inputs[step].to(device)\n",
        "    b_input_mask = py_attn_masks[step].to(device)\n",
        "    b_labels = py_labels[step].to(device)\n",
        "  \n",
        "    # Telling the model not to compute or store gradients, saving memory and \n",
        "    # speeding up prediction\n",
        "    with torch.no_grad():\n",
        "        # Forward pass, calculate logit predictions\n",
        "        result = model(b_input_ids, token_type_ids=None, \n",
        "                        attention_mask=b_input_mask, return_dict=True)\n",
        "\n",
        "    logits = result.logits\n",
        "\n",
        "    # Move logits and labels to CPU\n",
        "    logits = logits.detach().cpu().numpy()\n",
        "    label_ids = b_labels.to('cpu').numpy()\n",
        "  \n",
        "    # Store predictions and true labels\n",
        "    predictions.append(logits)\n",
        "    true_labels.append(label_ids)\n",
        "\n",
        "print('    DONE.')"
      ],
      "execution_count": null,
      "outputs": [
        {
          "output_type": "stream",
          "name": "stdout",
          "text": [
            "Predicting labels for 25,000 test sentences...\n",
            "  Batch     200  of    1,563.    Elapsed: 0:00:58.  Remaining: 0:06:37\n",
            "  Batch     400  of    1,563.    Elapsed: 0:01:55.  Remaining: 0:05:33\n",
            "  Batch     600  of    1,563.    Elapsed: 0:02:52.  Remaining: 0:04:36\n",
            "  Batch     800  of    1,563.    Elapsed: 0:03:49.  Remaining: 0:03:38\n",
            "  Batch   1,000  of    1,563.    Elapsed: 0:04:46.  Remaining: 0:02:41\n",
            "  Batch   1,200  of    1,563.    Elapsed: 0:05:42.  Remaining: 0:01:44\n",
            "  Batch   1,400  of    1,563.    Elapsed: 0:06:43.  Remaining: 0:00:47\n",
            "    DONE.\n"
          ]
        }
      ]
    },
    {
      "cell_type": "markdown",
      "metadata": {
        "id": "a16IZkJ18rs3"
      },
      "source": [
        "Now we can calculate the test set accuracy!"
      ]
    },
    {
      "cell_type": "code",
      "metadata": {
        "id": "li-4pvYfZbru",
        "colab": {
          "base_uri": "https://localhost:8080/"
        },
        "outputId": "cbe67c5c-8690-4b48-da7f-8c51bd18df17"
      },
      "source": [
        "# Combine the results across the batches.\n",
        "predictions = np.concatenate(predictions, axis=0)\n",
        "true_labels = np.concatenate(true_labels, axis=0)\n",
        "\n",
        "# Choose the label with the highest score as our prediction.\n",
        "preds = np.argmax(predictions, axis=1).flatten()\n",
        "\n",
        "# Calculate simple flat accuracy -- number correct over total number.\n",
        "accuracy = (preds == true_labels).mean()\n",
        "\n",
        "print('Accuracy: {:.3f}'.format(accuracy))"
      ],
      "execution_count": null,
      "outputs": [
        {
          "output_type": "stream",
          "name": "stdout",
          "text": [
            "Accuracy: 0.934\n"
          ]
        }
      ]
    },
    {
      "cell_type": "markdown",
      "metadata": {
        "id": "9OSATjqholtR"
      },
      "source": [
        "Here are my results from running a single training epoch on a Tesla K80, comparing fixed-padding to smart batching.\n",
        "\n",
        "| Padding Strategy |   Model   | Batch Size | Max Len | Test Accur. |    GPU    | Training Time per Epoch (mm:ss) |\n",
        "|:----------------:|:---------:|:----------:|:-------:|:-----------:|:---------:|:-------------------------------:|\n",
        "|  Smart Batching  | BERT-base |     16     |   400   |    0.935    | Tesla K80 |             0:35:06             |\n",
        "|   Fixed Padding  | BERT-base |     16     |   400   |     0.93    | Tesla K80 |             0:53:14             |\n",
        "\n",
        "The fixed padding approach took 51.7% longer to train the model than Smart Batching!\n",
        "\n"
      ]
    },
    {
      "cell_type": "markdown",
      "metadata": {
        "id": "TlUP8LNvqeHb"
      },
      "source": [
        "# Appendix"
      ]
    },
    {
      "cell_type": "markdown",
      "metadata": {
        "id": "nBuaH9F_qfMn"
      },
      "source": [
        "### Smart Batching with `batch_encode_plus` and `DataLoader`"
      ]
    },
    {
      "cell_type": "markdown",
      "metadata": {
        "id": "qn0ojnLzLFm2"
      },
      "source": [
        "This section discusses how \"smart batching\" might be implemented in a more formal way with the PyTorch `DataLoader` class and using the features currently available in huggingface `transformers`.\n",
        "\n",
        "In `transformers`, the `batch_encode_plus` function does have support for \"Dynamic Padding\"--it can automatically pad all of the samples in a batch out to match the longest sequence length in the batch.\n",
        "\n",
        "Check out the explanation given in this Warning in the source code, in [tokenization_utils_base.py](https://github.com/huggingface/transformers/blob/master/src/transformers/tokenization_utils_base.py#L1458):\n",
        "\n",
        "> \"The `pad_to_max_length` argument is deprecated and will be removed in a future version, use `padding=True` or `padding='longest'` to pad to the longest sequence in the batch, or use `padding='max_length'` to pad to a max length. In this case, you can give a specific length with `max_length` (e.g. `max_length=45`) or leave max_length to None to pad to the maximal input size of the model (e.g. 512 for Bert).\"\n",
        "\n",
        "So I think the call would look like this:\n"
      ]
    },
    {
      "cell_type": "code",
      "metadata": {
        "id": "jtELRNJCMSVS"
      },
      "source": [
        "# Encode a batch of sentences with dynamic padding.\n",
        "encoded_dict = tokenizer.batch_encode_plus(\n",
        "                    train_text[i:i+batch_size], # Batch of sentences to encode.\n",
        "                    add_special_tokens = True,  # Add '[CLS]' and '[SEP]'\n",
        "                    padding = 'longest',        # Pad to longest in batch.\n",
        "                    truncation = True,          # Truncate sentences to `max_length`.\n",
        "                    max_length = 400,           \n",
        "                    return_attention_mask = True, # Construct attn. masks.\n",
        "                    return_tensors = 'pt',        # Return pytorch tensors.\n",
        "            )\n"
      ],
      "execution_count": null,
      "outputs": []
    },
    {
      "cell_type": "markdown",
      "metadata": {
        "id": "-4eDVH7OMizB"
      },
      "source": [
        "However, if you do this, you need wait to actually encode your text until the random training samples for the batch have been selected! i.e., you can't pre-tokenize all of your sentences the way we have been.\n",
        "\n",
        "I believe the \"correct\" approach would be to implement a custom DataLoader class which:\n",
        "1. Stores the original training sample strings, *sorted by string length*.\n",
        "2. Selects a contiguous batch of samples starting at a random point in the list. \n",
        "3. Calls `batch_encode_plus` to encode the samples with dynamic padding, then returns the training batch.\n",
        "\n"
      ]
    },
    {
      "cell_type": "markdown",
      "metadata": {
        "id": "5vJN_TRCqonA"
      },
      "source": [
        "### Impact of `[PAD]` tokens on accuracy"
      ]
    },
    {
      "cell_type": "markdown",
      "metadata": {
        "id": "WnrD1CPVqt34"
      },
      "source": [
        "The difference in accuracy (0.93 for fixed-padding and 0.935 for smart batching) is interesting--I believe Michael had the same observation. It makes me curious to look at the attention mask implementation more--perhaps the `[PAD]` tokens are still having some small influence on the results. \n",
        "\n",
        "Maybe the Attention scores are calculated for all tokens, including the `[PAD]` tokens, and then the scores are multiplied against the mask, to zero out the scores for the `[PAD]` tokens? Because the SoftMax makes all of the attention scores sum to 1.0, that would mean the presence of `[PAD]` tokens would cause the scores for the real words to be lower..."
      ]
    }
  ]
}